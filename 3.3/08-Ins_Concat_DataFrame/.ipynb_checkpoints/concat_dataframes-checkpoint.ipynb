{
 "cells": [
  {
   "cell_type": "markdown",
   "metadata": {},
   "source": [
    "Indexing, grouping, and sorting datasets are all part of data analysis preparation. Another step in this process is combining, or concatenating, datasets. This is beneficial when more than one dataset needs to be combined.\n",
    "\n",
    "For example, multiple months of financial records or investment data from different markets can be consolidated into one dataset in order to streamline and centralize data analysis.\n",
    "\n",
    "`Concatenation` is the process of appending data from one object with another.\n",
    "\n",
    "`Concatenation` creates a new object that represents data from all concatenated objects.\n",
    "\n",
    "There are multiple ways to concatenate objects, including by column and row.\n",
    "\n",
    "DataFrames can be joined together, or concatenated, using the Pandas concat function. This function enables users to join and combine more than one DataFrame.\n",
    "\n",
    "The concat function accepts the following arguments:\n",
    "\n",
    "a list of DataFrames to be joined\n",
    "\n",
    "the axis to join on (by column or row)\n",
    "\n",
    "the join operation (inner vs. outer)\n",
    "\n",
    "[Pandas Concat document](https://pandas.pydata.org/docs/user_guide/merging.html)"
   ]
  },
  {
   "cell_type": "markdown",
   "metadata": {},
   "source": [
    "### Import Libraries and Dependencies"
   ]
  },
  {
   "cell_type": "code",
   "execution_count": null,
   "metadata": {},
   "outputs": [],
   "source": [
    "import pandas as pd\n"
   ]
  },
  {
   "cell_type": "markdown",
   "metadata": {},
   "source": [
    "### Read in files"
   ]
  },
  {
   "cell_type": "code",
   "execution_count": null,
   "metadata": {},
   "outputs": [],
   "source": [
    "\n",
    "# Read in data and index by CustomerID\n",
    "france_data = pd.read_csv('france_products.csv', index_col='CustomerID')\n",
    "uk_data = pd.read_csv('uk_products.csv', index_col='CustomerID')\n",
    "netherlands_data = pd.read_csv('netherlands_products.csv', index_col='CustomerID')\n",
    "customer_data = pd.read_csv('customer_info.csv', index_col='CustomerID')\n",
    "products_data = pd.read_csv('products.csv', index_col='CustomerID')"
   ]
  },
  {
   "cell_type": "markdown",
   "metadata": {},
   "source": [
    "### Output sample of data"
   ]
  },
  {
   "cell_type": "code",
   "execution_count": null,
   "metadata": {},
   "outputs": [],
   "source": [
    "# Show sample of France data\n",
    "france_data.head()"
   ]
  },
  {
   "cell_type": "code",
   "execution_count": null,
   "metadata": {},
   "outputs": [],
   "source": [
    "# Show sample of UK data\n",
    "uk_data.head()"
   ]
  },
  {
   "cell_type": "code",
   "execution_count": null,
   "metadata": {},
   "outputs": [],
   "source": [
    "# Show sample of Netherlands data\n",
    "netherlands_data.head()"
   ]
  },
  {
   "cell_type": "markdown",
   "metadata": {},
   "source": [
    "### Concatenate data by rows using `concat` function and `inner` join\n",
    "\n",
    "A key consideration to keep in mind when concatenating DataFrames is that data is joined by index. Pandas' concat function will by default join rows or columns by index. Before concatenating DataFrames, make sure the DataFrames are indexed by the same column.\n",
    "\n",
    "DataFrames can be joined by either column or row. The axis argument can be configured to specify which one to use.\n",
    "\n",
    "If you need to create a dataset that reflects multiple columns from different DataFrames, the DataFrames should be joined on column. This will create a DataFrame that incorporates the columns from all DataFrames.\n",
    "\n",
    "If rows from one DataFrame simply need to be combined or added to another DataFrame, the DataFrames should be joined on row. Joining on the row axis requires the DataFrames being joined to have the same columns."
   ]
  },
  {
   "cell_type": "code",
   "execution_count": null,
   "metadata": {},
   "outputs": [],
   "source": [
    "# Join UK, France, and Netherlands full datasets by axis\n",
    "joined_data_rows = pd.concat([france_data, uk_data, netherlands_data], axis=\"rows\", join=\"inner\")\n",
    "joined_data_rows"
   ]
  },
  {
   "cell_type": "markdown",
   "metadata": {},
   "source": [
    "### Concatenate data by column using `concat` function and `inner` join"
   ]
  },
  {
   "cell_type": "code",
   "execution_count": null,
   "metadata": {},
   "outputs": [],
   "source": [
    "# Show sample of customer data\n",
    "customer_data.head()"
   ]
  },
  {
   "cell_type": "code",
   "execution_count": null,
   "metadata": {},
   "outputs": [],
   "source": [
    "# Show sample of product data\n",
    "products_data.head()"
   ]
  },
  {
   "cell_type": "code",
   "execution_count": null,
   "metadata": {},
   "outputs": [],
   "source": [
    "# Join Customer and products by columns axis\n",
    "joined_data_cols = pd.concat([customer_data, products_data], axis='columns', join='inner')\n",
    "joined_data_cols.head()"
   ]
  }
 ],
 "metadata": {
  "kernelspec": {
   "display_name": "Python 3",
   "language": "python",
   "name": "python3"
  },
  "language_info": {
   "codemirror_mode": {
    "name": "ipython",
    "version": 3
   },
   "file_extension": ".py",
   "mimetype": "text/x-python",
   "name": "python",
   "nbconvert_exporter": "python",
   "pygments_lexer": "ipython3",
   "version": "3.7.6"
  }
 },
 "nbformat": 4,
 "nbformat_minor": 4
}
