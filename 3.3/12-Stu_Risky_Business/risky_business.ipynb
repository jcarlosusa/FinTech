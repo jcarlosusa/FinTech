{
 "cells": [
  {
   "cell_type": "markdown",
   "metadata": {},
   "source": [
    "# Risky Business"
   ]
  },
  {
   "cell_type": "markdown",
   "metadata": {},
   "source": [
    "Harold has been participating in some risky business. He recently became seriously involved in the cryptocurrency market and has seen some good returns. Harold's recent returns has him strutting around the office like he's the best trader. He even had the audacity to bet you $5 that his portfolio returns are better than yours.\n",
    "\n",
    "Using standard deviation and sharpe ratios, do the following:\n",
    "\n",
    "* Identify which cryptos have the greatest risk-to-reward ratio.\n",
    "\n",
    "* Determine which portfolio (yours or Harold's) has made the most smart investments.\n",
    "\n",
    "* Identify which cryptocurrencies have the greatest Sharpe ratios (risk/reward).\n",
    "\n",
    "## Instructions\n",
    "\n",
    "Using the [starter file](Unsolved/Core/risky_business.ipynb) and the data in the [Resources](Resources) folder, complete the following steps:\n",
    "\n",
    "1. Load CSV data into Pandas using `read_csv` for each file and remove any null values using `dropna`.\n",
    "\n",
    "2. Calculate daily returns for each portfolio.\n",
    "\n",
    "3. Concat both DataFrames containing daily returns into one DataFrame.\n",
    "\n",
    "4. Calculate standard deviation for the combined DataFrame.\n",
    "\n",
    "5. Calculate the Sharpe ratios by computing the quotient of `annualized average return` and `annualized standard deviation`.\n",
    "\n",
    "6. Plot the Sharpe ratios using a bar chart.\n",
    "\n",
    "7. Answer the following questions:\n",
    "\n",
    "    * How many smart investments did Harold make compared to risky investments? How many did you make?\n",
    "\n",
    "    * Which cryptos have been the smartest investments?\n",
    "\n",
    "### Challenge\n",
    "\n",
    "Calculate the Sharpe ratio for your entire portfolio. Then, use a comparison operator to see which portfolio has the greatest risk-to-reward ratio.\n",
    "\n",
    "1. Calculate annualized `std dev` for each portfolio.\n",
    "\n",
    "2. Calculate the Sharpe ratio for each crypto in each portfolio.\n",
    "\n",
    "3. Average the Sharpe ratios calculated above.\n",
    "\n",
    "  **Hint:** `harold_sharpe_ratios.mean()`\n",
    "\n",
    "4. Determine if Harold's portfolio's Sharpe ratio average is greater than your own. **Hint:** Use a comparison operator to compare Sharpe ratio averages.\n",
    "\n",
    "5. Determine which portfolio is the smartest investment, based on risk-to-reward ratio.\n",
    "\n",
    "---\n",
    "\n",
    "© 2019 Trilogy Education Services, a 2U, Inc. brand. All Rights Reserved.\n"
   ]
  },
  {
   "cell_type": "code",
   "execution_count": 1,
   "metadata": {},
   "outputs": [],
   "source": [
    "import pandas as pd\n",
    "import numpy as np\n",
    "\n",
    "%matplotlib inline"
   ]
  },
  {
   "cell_type": "markdown",
   "metadata": {},
   "source": [
    "### Read in data"
   ]
  },
  {
   "cell_type": "code",
   "execution_count": 2,
   "metadata": {},
   "outputs": [
    {
     "data": {
      "text/html": [
       "<div>\n",
       "<style scoped>\n",
       "    .dataframe tbody tr th:only-of-type {\n",
       "        vertical-align: middle;\n",
       "    }\n",
       "\n",
       "    .dataframe tbody tr th {\n",
       "        vertical-align: top;\n",
       "    }\n",
       "\n",
       "    .dataframe thead th {\n",
       "        text-align: right;\n",
       "    }\n",
       "</style>\n",
       "<table border=\"1\" class=\"dataframe\">\n",
       "  <thead>\n",
       "    <tr style=\"text-align: right;\">\n",
       "      <th></th>\n",
       "      <th>BTC</th>\n",
       "      <th>BTT</th>\n",
       "      <th>DOGE</th>\n",
       "      <th>ETH</th>\n",
       "      <th>LTC</th>\n",
       "      <th>XRP</th>\n",
       "      <th>SOLVE</th>\n",
       "      <th>XLM</th>\n",
       "      <th>TRON</th>\n",
       "      <th>ZIL</th>\n",
       "    </tr>\n",
       "    <tr>\n",
       "      <th>Date</th>\n",
       "      <th></th>\n",
       "      <th></th>\n",
       "      <th></th>\n",
       "      <th></th>\n",
       "      <th></th>\n",
       "      <th></th>\n",
       "      <th></th>\n",
       "      <th></th>\n",
       "      <th></th>\n",
       "      <th></th>\n",
       "    </tr>\n",
       "  </thead>\n",
       "  <tbody>\n",
       "    <tr>\n",
       "      <th>2019-05-20</th>\n",
       "      <td>8118.39</td>\n",
       "      <td>0.001187</td>\n",
       "      <td>0.003041</td>\n",
       "      <td>261.09</td>\n",
       "      <td>95.06</td>\n",
       "      <td>0.398003</td>\n",
       "      <td>0.338667</td>\n",
       "      <td>0.135545</td>\n",
       "      <td>0.028509</td>\n",
       "      <td>0.017992</td>\n",
       "    </tr>\n",
       "    <tr>\n",
       "      <th>2019-05-19</th>\n",
       "      <td>8200.00</td>\n",
       "      <td>0.001056</td>\n",
       "      <td>0.003178</td>\n",
       "      <td>234.03</td>\n",
       "      <td>86.65</td>\n",
       "      <td>0.417700</td>\n",
       "      <td>0.300430</td>\n",
       "      <td>0.141485</td>\n",
       "      <td>0.029277</td>\n",
       "      <td>0.019170</td>\n",
       "    </tr>\n",
       "    <tr>\n",
       "      <th>2019-05-18</th>\n",
       "      <td>7262.40</td>\n",
       "      <td>0.000993</td>\n",
       "      <td>0.003005</td>\n",
       "      <td>244.59</td>\n",
       "      <td>89.88</td>\n",
       "      <td>0.372736</td>\n",
       "      <td>0.287630</td>\n",
       "      <td>0.128833</td>\n",
       "      <td>0.026823</td>\n",
       "      <td>0.017685</td>\n",
       "    </tr>\n",
       "    <tr>\n",
       "      <th>2019-05-17</th>\n",
       "      <td>7363.69</td>\n",
       "      <td>0.000957</td>\n",
       "      <td>0.002962</td>\n",
       "      <td>264.39</td>\n",
       "      <td>95.75</td>\n",
       "      <td>0.386193</td>\n",
       "      <td>0.259506</td>\n",
       "      <td>0.126562</td>\n",
       "      <td>0.027220</td>\n",
       "      <td>0.017892</td>\n",
       "    </tr>\n",
       "    <tr>\n",
       "      <th>2019-05-16</th>\n",
       "      <td>7878.96</td>\n",
       "      <td>0.000885</td>\n",
       "      <td>0.003168</td>\n",
       "      <td>249.00</td>\n",
       "      <td>102.26</td>\n",
       "      <td>0.419707</td>\n",
       "      <td>0.223316</td>\n",
       "      <td>0.137283</td>\n",
       "      <td>0.028857</td>\n",
       "      <td>0.018725</td>\n",
       "    </tr>\n",
       "  </tbody>\n",
       "</table>\n",
       "</div>"
      ],
      "text/plain": [
       "                BTC       BTT      DOGE     ETH     LTC       XRP     SOLVE  \\\n",
       "Date                                                                          \n",
       "2019-05-20  8118.39  0.001187  0.003041  261.09   95.06  0.398003  0.338667   \n",
       "2019-05-19  8200.00  0.001056  0.003178  234.03   86.65  0.417700  0.300430   \n",
       "2019-05-18  7262.40  0.000993  0.003005  244.59   89.88  0.372736  0.287630   \n",
       "2019-05-17  7363.69  0.000957  0.002962  264.39   95.75  0.386193  0.259506   \n",
       "2019-05-16  7878.96  0.000885  0.003168  249.00  102.26  0.419707  0.223316   \n",
       "\n",
       "                 XLM      TRON       ZIL  \n",
       "Date                                      \n",
       "2019-05-20  0.135545  0.028509  0.017992  \n",
       "2019-05-19  0.141485  0.029277  0.019170  \n",
       "2019-05-18  0.128833  0.026823  0.017685  \n",
       "2019-05-17  0.126562  0.027220  0.017892  \n",
       "2019-05-16  0.137283  0.028857  0.018725  "
      ]
     },
     "execution_count": 2,
     "metadata": {},
     "output_type": "execute_result"
    }
   ],
   "source": [
    "# Read in data\n",
    "harold_portfolio = pd.read_csv(\"harold_portfolio.csv\", parse_dates=True, infer_datetime_format=True)\n",
    "my_portfolio = pd.read_csv(\"my_portfolio.csv\", parse_dates=True, infer_datetime_format=True)\n",
    "\n",
    "# Drop na\n",
    "harold_portfolio = harold_portfolio.dropna()\n",
    "my_portfolio = my_portfolio.dropna()\n",
    "\n",
    "# Set Date as index\n",
    "harold_portfolio = harold_portfolio.set_index('Date')\n",
    "my_portfolio = my_portfolio.set_index('Date')\n",
    "\n",
    "harold_portfolio.head()"
   ]
  },
  {
   "cell_type": "markdown",
   "metadata": {},
   "source": [
    "### Calculate daily returns "
   ]
  },
  {
   "cell_type": "code",
   "execution_count": 3,
   "metadata": {},
   "outputs": [],
   "source": [
    "# Calculate daily returns for each portfolio\n"
   ]
  },
  {
   "cell_type": "markdown",
   "metadata": {},
   "source": [
    "### `Concat` portfolios into one DataFrame"
   ]
  },
  {
   "cell_type": "code",
   "execution_count": 4,
   "metadata": {},
   "outputs": [],
   "source": [
    "# Concat returns DataFrames\n"
   ]
  },
  {
   "cell_type": "markdown",
   "metadata": {},
   "source": [
    "### Calculate `std dev` for all data"
   ]
  },
  {
   "cell_type": "code",
   "execution_count": 5,
   "metadata": {},
   "outputs": [],
   "source": [
    "# Calculate std dev\n"
   ]
  },
  {
   "cell_type": "markdown",
   "metadata": {},
   "source": [
    "### Calculate `sharpe ratio` for all data"
   ]
  },
  {
   "cell_type": "code",
   "execution_count": 6,
   "metadata": {},
   "outputs": [],
   "source": [
    "# Calculate sharpe ratio\n"
   ]
  },
  {
   "cell_type": "markdown",
   "metadata": {},
   "source": [
    "### Plot Sharpe Ratios"
   ]
  },
  {
   "cell_type": "code",
   "execution_count": 7,
   "metadata": {},
   "outputs": [],
   "source": [
    "# Plot\n"
   ]
  },
  {
   "cell_type": "markdown",
   "metadata": {},
   "source": [
    "### How many smart investments did Harold make compared to risky investments? How many did you make?"
   ]
  },
  {
   "cell_type": "markdown",
   "metadata": {},
   "source": [
    "*Your answer here:*\n"
   ]
  },
  {
   "cell_type": "markdown",
   "metadata": {},
   "source": [
    "### Which cryptos have been the smartest investment?"
   ]
  },
  {
   "cell_type": "markdown",
   "metadata": {},
   "source": [
    "*Your answer here:*"
   ]
  },
  {
   "cell_type": "markdown",
   "metadata": {},
   "source": [
    "### Calculate annualized std dev for each portfolio individually"
   ]
  },
  {
   "cell_type": "code",
   "execution_count": 8,
   "metadata": {},
   "outputs": [],
   "source": [
    "# Calculate std dev for all investments for each portfolio\n"
   ]
  },
  {
   "cell_type": "markdown",
   "metadata": {},
   "source": [
    "### Calculate the sharpe ratios for each individual portfolio"
   ]
  },
  {
   "cell_type": "code",
   "execution_count": 9,
   "metadata": {},
   "outputs": [],
   "source": [
    "# Calculate sharpe ratio\n"
   ]
  },
  {
   "cell_type": "markdown",
   "metadata": {},
   "source": [
    "### Average sharpe ratios for each portfolio and output to screen"
   ]
  },
  {
   "cell_type": "code",
   "execution_count": 10,
   "metadata": {},
   "outputs": [],
   "source": [
    "# Averaging sharpe ratios\n"
   ]
  },
  {
   "cell_type": "markdown",
   "metadata": {},
   "source": [
    "### Compare Sharpe Ratios Averages"
   ]
  },
  {
   "cell_type": "code",
   "execution_count": 11,
   "metadata": {},
   "outputs": [],
   "source": [
    "# Use comparison operator to determine if Harold's sharpe ratio avg is greater\n"
   ]
  },
  {
   "cell_type": "markdown",
   "metadata": {},
   "source": [
    "### Which portfolio is the smartest investment, based off of risk to reward ratio?"
   ]
  },
  {
   "cell_type": "markdown",
   "metadata": {},
   "source": [
    "*Your answer here:*"
   ]
  },
  {
   "cell_type": "code",
   "execution_count": null,
   "metadata": {},
   "outputs": [],
   "source": []
  }
 ],
 "metadata": {
  "kernelspec": {
   "display_name": "Python 3",
   "language": "python",
   "name": "python3"
  },
  "language_info": {
   "codemirror_mode": {
    "name": "ipython",
    "version": 3
   },
   "file_extension": ".py",
   "mimetype": "text/x-python",
   "name": "python",
   "nbconvert_exporter": "python",
   "pygments_lexer": "ipython3",
   "version": "3.8.5"
  }
 },
 "nbformat": 4,
 "nbformat_minor": 4
}
