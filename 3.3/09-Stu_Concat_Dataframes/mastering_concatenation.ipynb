{
 "cells": [
  {
   "cell_type": "markdown",
   "metadata": {},
   "source": [
    "# Mastering Concatenation!"
   ]
  },
  {
   "cell_type": "markdown",
   "metadata": {},
   "source": [
    "Two county organizations that you are a part of, Financial Leaders of America and Investors Leadership Council, have recently joined forces. Help the treasurer out by consolidating the dues and member data.\n",
    "\n",
    "## Instructions\n",
    "\n",
    "Using the [starter file](Unsolved/mastering_concatenation.ipynb) and the data in the [Resources](Resources) folder, complete the following steps:\n",
    "\n",
    "1. Load CSV data into Pandas using `read_csv` for each file.\n",
    "\n",
    "2. Use the `concat` function to concat the `fin_leaders_dues` DataFrame with `investors_leadership_dues` by `axis='rows'` and `join='inner'`.\n",
    "\n",
    "3. Use the `concat` function to concat DataFrames `fin_leaders_mbr_status` and `investors_leadership_mbr_status` by `axis='columns'` and `join='inner'`.\n",
    "\n",
    "4. Use the `concat` function to concat the two DataFrames made in steps 2 and 3 using by `axis='columns'` and `join='inner'`.\n",
    "---"
   ]
  },
  {
   "cell_type": "code",
   "execution_count": 1,
   "metadata": {},
   "outputs": [],
   "source": [
    "import pandas as pd"
   ]
  },
  {
   "cell_type": "markdown",
   "metadata": {},
   "source": [
    "### Read in data"
   ]
  },
  {
   "cell_type": "code",
   "execution_count": null,
   "metadata": {},
   "outputs": [],
   "source": [
    "# Read in data and index by CustomerID\n",
    " = pd.read_csv('fin_leaders_america.csv', index_col='CustomerID')\n",
    " = pd.read_csv('fin_leaders_members.csv', index_col='CustomerID')\n",
    " = pd.read_csv('netherlands_products.csv', index_col='CustomerID')\n",
    " = pd.read_csv('customer_info.csv', index_col='CustomerID')\n",
    " "
   ]
  },
  {
   "cell_type": "markdown",
   "metadata": {},
   "source": [
    "### Concat dues data using `rows` axis and `inner` join"
   ]
  },
  {
   "cell_type": "code",
   "execution_count": null,
   "metadata": {},
   "outputs": [],
   "source": []
  },
  {
   "cell_type": "markdown",
   "metadata": {},
   "source": [
    "### Concat member data using `rows` axis and `inner` join"
   ]
  },
  {
   "cell_type": "code",
   "execution_count": null,
   "metadata": {},
   "outputs": [],
   "source": []
  },
  {
   "cell_type": "markdown",
   "metadata": {},
   "source": [
    "### Concat dues and member data using `columns` axis and `inner` join"
   ]
  },
  {
   "cell_type": "code",
   "execution_count": null,
   "metadata": {},
   "outputs": [],
   "source": []
  }
 ],
 "metadata": {
  "kernelspec": {
   "display_name": "Python 3",
   "language": "python",
   "name": "python3"
  },
  "language_info": {
   "codemirror_mode": {
    "name": "ipython",
    "version": 3
   },
   "file_extension": ".py",
   "mimetype": "text/x-python",
   "name": "python",
   "nbconvert_exporter": "python",
   "pygments_lexer": "ipython3",
   "version": "3.8.5"
  }
 },
 "nbformat": 4,
 "nbformat_minor": 4
}
