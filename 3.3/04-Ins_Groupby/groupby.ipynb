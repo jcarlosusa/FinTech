{
 "cells": [
  {
   "cell_type": "markdown",
   "metadata": {},
   "source": [
    "The groupby function segments data into groups. \n",
    "Once groups are created, a function or operation can be executed against each group\n",
    "\n",
    "Eg： \n",
    "\n",
    "1. Group data by male, female\n",
    "2. grouping sales data by country\n",
    "3. In our case, we may want to group data by the stock ticker.\n",
    "\n",
    "Once the data is grouped, a count, sum, or average can be performed on the result.\n",
    "It is a common technique in data analysis is to summarize data by grouping similar values."
   ]
  },
  {
   "cell_type": "markdown",
   "metadata": {},
   "source": [
    "### Import Libraries and Dependencies"
   ]
  },
  {
   "cell_type": "code",
   "execution_count": 1,
   "metadata": {},
   "outputs": [],
   "source": [
    "import pandas as pd\n",
    "\n",
    "%matplotlib inline"
   ]
  },
  {
   "cell_type": "markdown",
   "metadata": {},
   "source": [
    "### Read in File and Clean Data"
   ]
  },
  {
   "cell_type": "code",
   "execution_count": 2,
   "metadata": {},
   "outputs": [
    {
     "data": {
      "text/html": [
       "<div>\n",
       "<style scoped>\n",
       "    .dataframe tbody tr th:only-of-type {\n",
       "        vertical-align: middle;\n",
       "    }\n",
       "\n",
       "    .dataframe tbody tr th {\n",
       "        vertical-align: top;\n",
       "    }\n",
       "\n",
       "    .dataframe thead th {\n",
       "        text-align: right;\n",
       "    }\n",
       "</style>\n",
       "<table border=\"1\" class=\"dataframe\">\n",
       "  <thead>\n",
       "    <tr style=\"text-align: right;\">\n",
       "      <th></th>\n",
       "      <th>cryptocurrency</th>\n",
       "      <th>data_priceUsd</th>\n",
       "      <th>data_time</th>\n",
       "      <th>timestamp</th>\n",
       "    </tr>\n",
       "    <tr>\n",
       "      <th>data_date</th>\n",
       "      <th></th>\n",
       "      <th></th>\n",
       "      <th></th>\n",
       "      <th></th>\n",
       "    </tr>\n",
       "  </thead>\n",
       "  <tbody>\n",
       "    <tr>\n",
       "      <th>2017-05-09</th>\n",
       "      <td>bitcoin</td>\n",
       "      <td>NaN</td>\n",
       "      <td>1.494288e+12</td>\n",
       "      <td>1.557285e+12</td>\n",
       "    </tr>\n",
       "    <tr>\n",
       "      <th>2017-05-10</th>\n",
       "      <td>bitcoin</td>\n",
       "      <td>1743.723523</td>\n",
       "      <td>1.494374e+12</td>\n",
       "      <td>NaN</td>\n",
       "    </tr>\n",
       "    <tr>\n",
       "      <th>2017-05-11</th>\n",
       "      <td>bitcoin</td>\n",
       "      <td>1828.678209</td>\n",
       "      <td>1.494461e+12</td>\n",
       "      <td>NaN</td>\n",
       "    </tr>\n",
       "    <tr>\n",
       "      <th>2017-05-12</th>\n",
       "      <td>bitcoin</td>\n",
       "      <td>1776.443919</td>\n",
       "      <td>1.494547e+12</td>\n",
       "      <td>NaN</td>\n",
       "    </tr>\n",
       "    <tr>\n",
       "      <th>2017-05-13</th>\n",
       "      <td>bitcoin</td>\n",
       "      <td>1714.964198</td>\n",
       "      <td>1.494634e+12</td>\n",
       "      <td>NaN</td>\n",
       "    </tr>\n",
       "  </tbody>\n",
       "</table>\n",
       "</div>"
      ],
      "text/plain": [
       "           cryptocurrency  data_priceUsd     data_time     timestamp\n",
       "data_date                                                           \n",
       "2017-05-09        bitcoin            NaN  1.494288e+12  1.557285e+12\n",
       "2017-05-10        bitcoin    1743.723523  1.494374e+12           NaN\n",
       "2017-05-11        bitcoin    1828.678209  1.494461e+12           NaN\n",
       "2017-05-12        bitcoin    1776.443919  1.494547e+12           NaN\n",
       "2017-05-13        bitcoin    1714.964198  1.494634e+12           NaN"
      ]
     },
     "execution_count": 2,
     "metadata": {},
     "output_type": "execute_result"
    }
   ],
   "source": [
    "# Read CSV\n",
    "\n",
    "crypto_data = pd.read_csv('crypto_data.csv', index_col='data_date', parse_dates=True, infer_datetime_format=True)\n",
    "crypto_data.head()\n"
   ]
  },
  {
   "cell_type": "code",
   "execution_count": null,
   "metadata": {},
   "outputs": [],
   "source": [
    "# Drop all columns cryptocurrency and data_priceUsd\n",
    "crypto_data = crypto_data.drop(columns=['data_time','timestamp'])\n",
    "\n",
    "# Sort the dates in ascending order\n",
    "crypto_data = crypto_data.sort_index()\n",
    "\n",
    "# Drop missing values\n",
    "crypto_data = crypto_data.dropna()\n",
    "crypto_data.head()"
   ]
  },
  {
   "cell_type": "markdown",
   "metadata": {},
   "source": [
    "### Group DataFrame and perform `count` aggregation\n",
    "To group data, use the groupby function against a non-unique column. The groupby function accepts a series name as an argument."
   ]
  },
  {
   "cell_type": "code",
   "execution_count": null,
   "metadata": {},
   "outputs": [],
   "source": [
    "# Group by crypto data by cryptocurrency and perform count\n",
    "crypto_data_grp = crypto_data.groupby('cryptocurrency').count()\n",
    "crypto_data_grp\n",
    "\n",
    "## df.groupby().Count() give number of rows for each cryptocurrency"
   ]
  },
  {
   "cell_type": "markdown",
   "metadata": {},
   "source": [
    "### Group DataFrame without aggregate function\n",
    "\n",
    "The groupby function requires a function or aggregation to proceed it.\n",
    "\n",
    "Whenever a function is not chained to a groupby function, the output will be a DataFrameGroupBy object rather than an actual DataFrame.\n",
    "\n",
    "DataFrameGroupBy objects must be aggregated before they can be used."
   ]
  },
  {
   "cell_type": "code",
   "execution_count": null,
   "metadata": {},
   "outputs": [],
   "source": [
    "# Group by crypto data by cryptocurrency\n",
    "crypto_data_grp = crypto_data.groupby('cryptocurrency')\n",
    "crypto_data_grp.head()"
   ]
  },
  {
   "cell_type": "markdown",
   "metadata": {},
   "source": [
    "### Group DataFrame by `cryptocurrency` and calculate the average `data_priceUsd`\n",
    "\n",
    "aggregate functions that can be applied against DataFrameGroupBy objects include count, sum, and mean. These functions will proceed a groupby function."
   ]
  },
  {
   "cell_type": "code",
   "execution_count": null,
   "metadata": {},
   "outputs": [],
   "source": [
    "# Calculate average data_priceUsd for each crypto\n",
    "crypto_data_mean = crypto_data.groupby('cryptocurrency').mean()\n",
    "crypto_data_mean"
   ]
  },
  {
   "cell_type": "markdown",
   "metadata": {},
   "source": [
    "### Group by more than one column and calculate count\n",
    "\n",
    "DataFrames can be grouped by more than one column. \n",
    "\n",
    "This groups values across each specified column and summarizes the data into one record. This approach can be used as a way to identify if there are any duplicates within the data."
   ]
  },
  {
   "cell_type": "code",
   "execution_count": null,
   "metadata": {},
   "outputs": [],
   "source": [
    "# Group by more than one column\n",
    "multi_group = crypto_data.groupby(['cryptocurrency','data_priceUsd'])['data_priceUsd'].count()\n",
    "multi_group"
   ]
  },
  {
   "cell_type": "markdown",
   "metadata": {},
   "source": [
    "### Compare single column grouping to multicolumn grouping"
   ]
  },
  {
   "cell_type": "code",
   "execution_count": null,
   "metadata": {},
   "outputs": [],
   "source": [
    "# Compare one column group with multiple column group\n",
    "single_group = crypto_data.groupby('cryptocurrency')['data_priceUsd'].count()\n",
    "single_group"
   ]
  },
  {
   "cell_type": "markdown",
   "metadata": {},
   "source": [
    "### Plot grouped data to generate more than one line on the same chart\n",
    "\n",
    "Once data is grouped, each group can be plotted for comparison. This will plot multiple lines on a single plot. Each line is considered a subplot."
   ]
  },
  {
   "cell_type": "code",
   "execution_count": null,
   "metadata": {},
   "outputs": [],
   "source": [
    "# Plot data_priceUsd for each crypto across time\n",
    "crypto_data.groupby('cryptocurrency')['data_priceUsd'].plot(legend=True)"
   ]
  }
 ],
 "metadata": {
  "kernelspec": {
   "display_name": "Python 3",
   "language": "python",
   "name": "python3"
  },
  "language_info": {
   "codemirror_mode": {
    "name": "ipython",
    "version": 3
   },
   "file_extension": ".py",
   "mimetype": "text/x-python",
   "name": "python",
   "nbconvert_exporter": "python",
   "pygments_lexer": "ipython3",
   "version": "3.8.5"
  }
 },
 "nbformat": 4,
 "nbformat_minor": 4
}
