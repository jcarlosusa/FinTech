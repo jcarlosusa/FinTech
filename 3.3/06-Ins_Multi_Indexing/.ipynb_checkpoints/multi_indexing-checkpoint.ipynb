{
 "cells": [
  {
   "cell_type": "markdown",
   "metadata": {},
   "source": [
    "It's important to know how to directly multi-index DataFrames.\n",
    "\n",
    "Like the groupby function, multi-indexing allows data to be grouped and accessed or manipulated by group. \n",
    "\n",
    "**Multi-indexing** is the process of indexing a dataset by more than one value. Multi-indexing is like using two bookmarks in a book. Each bookmark is an index, and depending on which index you go to, you'll get different content.\n",
    "\n",
    "**Multi-indexing** is sometimes referred to as hierarchical indexing, as relationships can exist between indexes. For example, a state can be one index and a city can be another. Because a city belongs to a state, these indexes would be hierarchical.\n",
    "\n",
    "Essentially, multi-indexing improves data storage, lookup, and manipulation/assignment."
   ]
  },
  {
   "cell_type": "markdown",
   "metadata": {},
   "source": [
    "### Import Libraries and Dependencies"
   ]
  },
  {
   "cell_type": "code",
   "execution_count": null,
   "metadata": {},
   "outputs": [],
   "source": [
    "import pandas as pd\n"
   ]
  },
  {
   "cell_type": "markdown",
   "metadata": {},
   "source": [
    "### Read in CSV as Pandas DataFrame and Set the Index\n",
    "\n"
   ]
  },
  {
   "cell_type": "code",
   "execution_count": null,
   "metadata": {},
   "outputs": [],
   "source": [
    "# Read in data\n",
    "df = pd.read_csv(\"twtr_google_finance.csv\", parse_dates=True, index_col='Date', infer_datetime_format=True)\n",
    "df.head()"
   ]
  },
  {
   "cell_type": "markdown",
   "metadata": {},
   "source": [
    "### Display DataFrame Index"
   ]
  },
  {
   "cell_type": "code",
   "execution_count": null,
   "metadata": {},
   "outputs": [],
   "source": [
    "df.index"
   ]
  },
  {
   "cell_type": "markdown",
   "metadata": {},
   "source": [
    "Multi-indexing is commonly done when working with Date data.\n",
    "\n",
    "When used as an index, Date data is considered a DatetimeIndex. DatetimeIndexes have the ability to inherently create multi-indexing.\n",
    "\n",
    "Group by year, month, and day with 3 level index"
   ]
  },
  {
   "cell_type": "markdown",
   "metadata": {},
   "source": [
    "### Create Multiple Indices by Grouping By DatetimeIndex `year`, `month`, and `day` with `first` Function"
   ]
  },
  {
   "cell_type": "code",
   "execution_count": null,
   "metadata": {},
   "outputs": [],
   "source": [
    "# Group by year, month, and day and grab first of each group\n",
    "\n",
    "## DatetimeIndexes can be split into year, month, and day segments. \n",
    "## The DatetimeIndex object includes the attributes index.year, index.month, and index.day for this. \n",
    "## Passing these to a groupby statement will create multiple indexes based on each attribute.\n",
    "\n",
    "df_grp = ticker_data.groupby([df.index.year, df.index.month, df.index.day]).first() \n",
    "df_grp\n",
    "\n",
    "## The first function is used to display the first value for each group within a GroupBy object.\n",
    "## In this case, every group down to the year, month, and day level is unique \n",
    "## Therefore grabs the first and only value of every group."
   ]
  },
  {
   "cell_type": "markdown",
   "metadata": {},
   "source": [
    "### Create Multiple Indices by Grouping By DatetimeIndex `year` and `month` with `first` Function\n",
    "\n",
    "Multi-indexed data can be selected by using the first and last functions. First selects the first multi-index group, and last selects the last group."
   ]
  },
  {
   "cell_type": "code",
   "execution_count": null,
   "metadata": {},
   "outputs": [],
   "source": [
    "# Group by year and month and take the first value of each group\n",
    "df_grp_2 = df.groupby([df.index.year, df.index.month]).first()\n",
    "df_grp_2"
   ]
  },
  {
   "cell_type": "markdown",
   "metadata": {},
   "source": [
    "### Create Multiple Indices by Grouping By DatetimeIndex `year` and `month` with `last` Function"
   ]
  },
  {
   "cell_type": "code",
   "execution_count": null,
   "metadata": {},
   "outputs": [],
   "source": [
    "# Group by year and month and take the last value of each group\n",
    "df_grp_3 = df.groupby([df.index.year, df.index.month]).last()\n",
    "df_grp_3"
   ]
  },
  {
   "cell_type": "markdown",
   "metadata": {},
   "source": [
    "### Create Multiple Indices by Grouping By DatetimeIndex `year` and `month` with `mean` Function\n",
    "\n",
    "Because multi-indexing involves grouping data, an aggregation can be applied against the data. A common example is the mean function for calculating average. This is an alternative to using the first and last functions. Because aggregate functions are being used, outputs represent summarized/aggregated records."
   ]
  },
  {
   "cell_type": "code",
   "execution_count": null,
   "metadata": {},
   "outputs": [],
   "source": [
    "# Group by year and month and calculate the average of each group\n",
    "df_grp_4 = df.groupby([df.index.year, df.index.month]).mean()\n",
    "df_grp_4"
   ]
  },
  {
   "cell_type": "markdown",
   "metadata": {},
   "source": [
    "### Slice Data for 2019\n",
    "\n",
    "The loc function can be used to slice data from a DataFrame with multiple indexes.\n",
    "\n",
    "While not all indexes are required to be passed, the top level index needs to be specified (e.g., year).\n",
    "\n",
    "When all indexes are passed to the loc function, only one record will be returned. If fewer than all indexes are provided, more than one record of data will be output.\n",
    "\n",
    "Essentially, indexes must be accessed and used hierarchically (e.g., year > month > day)."
   ]
  },
  {
   "cell_type": "code",
   "execution_count": null,
   "metadata": {},
   "outputs": [],
   "source": [
    "df_grp"
   ]
  },
  {
   "cell_type": "code",
   "execution_count": null,
   "metadata": {},
   "outputs": [],
   "source": [
    "# Slice data for April 2019 from first group\n",
    "df_slice = df_grp.loc[2019]\n",
    "df_slice"
   ]
  },
  {
   "cell_type": "markdown",
   "metadata": {},
   "source": [
    "### Slice Data For All Days in April 2019"
   ]
  },
  {
   "cell_type": "code",
   "execution_count": null,
   "metadata": {},
   "outputs": [],
   "source": [
    "# Slice data for April 2019 from first group\n",
    "df_slice = df_grp.loc[2019,4]\n",
    "df_slice"
   ]
  },
  {
   "cell_type": "markdown",
   "metadata": {},
   "source": [
    "### Slice Data For All Days in 04/12/2019"
   ]
  },
  {
   "cell_type": "code",
   "execution_count": null,
   "metadata": {},
   "outputs": [],
   "source": [
    "# Slice data for 4/12/2019 from first group\n",
    "df_slice = df_grp.loc[2019,4,12]\n",
    "df_slice"
   ]
  },
  {
   "cell_type": "code",
   "execution_count": null,
   "metadata": {},
   "outputs": [],
   "source": []
  }
 ],
 "metadata": {
  "kernelspec": {
   "display_name": "Python 3",
   "language": "python",
   "name": "python3"
  },
  "language_info": {
   "codemirror_mode": {
    "name": "ipython",
    "version": 3
   },
   "file_extension": ".py",
   "mimetype": "text/x-python",
   "name": "python",
   "nbconvert_exporter": "python",
   "pygments_lexer": "ipython3",
   "version": "3.7.6"
  }
 },
 "nbformat": 4,
 "nbformat_minor": 4
}
