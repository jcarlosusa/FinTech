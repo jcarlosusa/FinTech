{
 "cells": [
  {
   "cell_type": "markdown",
   "metadata": {},
   "source": [
    "# Review"
   ]
  },
  {
   "cell_type": "markdown",
   "metadata": {},
   "source": [
    "### List"
   ]
  },
  {
   "cell_type": "code",
   "execution_count": null,
   "metadata": {},
   "outputs": [],
   "source": [
    "# Create a list of programming language\n",
    "\n",
    "programming_language = ['java','R','C++','python']\n",
    "print(programming_language)\n"
   ]
  },
  {
   "cell_type": "code",
   "execution_count": null,
   "metadata": {},
   "outputs": [],
   "source": [
    "#Indexing/Slicing\n",
    "\n",
    "programming_language = ['java','R','C','C++','python','javascript','html']\n",
    "\n",
    "# access element of list by index\n",
    "print(programming_language[0])\n",
    "\n",
    "# Print elements from index 2 to index 4\n",
    "print(programming_language[2:5]) \n",
    "\n",
    "# Print elements from index 3 to the end of the list\n",
    "print(programming_language[3:])\n",
    "\n",
    "# Print the last element of the list\n",
    "print(programming_language[-1])\n",
    "\n",
    "#print length of list.\n",
    "print(len(programming_language))"
   ]
  },
  {
   "cell_type": "code",
   "execution_count": null,
   "metadata": {},
   "outputs": [],
   "source": [
    "# Loop over list\n",
    "\n",
    "for item in programming_language:\n",
    "    print(item)"
   ]
  },
  {
   "cell_type": "code",
   "execution_count": null,
   "metadata": {},
   "outputs": [],
   "source": [
    "## add element to list use append \n",
    "\n",
    "new_skill = 'python'\n",
    "\n",
    "skills = ['java','R','C++']\n",
    "\n",
    "skills.append(new_skill)\n",
    "\n",
    "print(skills)\n"
   ]
  },
  {
   "cell_type": "markdown",
   "metadata": {},
   "source": [
    "### Dictionary"
   ]
  },
  {
   "cell_type": "code",
   "execution_count": null,
   "metadata": {},
   "outputs": [],
   "source": [
    "# Dicts\n",
    "# Initialize a dictionary\n",
    "trading_pnl = {\n",
    "      \"title\": \"Trading Log\",\n",
    "      \"03-18-2019\": -224,\n",
    "      \"03-19-2019\": 352,\n",
    "      \"03-20-2019\": 252}\n",
    "    \n",
    "## access value by call key\n",
    "\n",
    "print(trading_pnl[\"03-19-2019\"])\n",
    "\n"
   ]
  },
  {
   "cell_type": "code",
   "execution_count": null,
   "metadata": {},
   "outputs": [],
   "source": [
    "## iterate through dictionary\n",
    "\n",
    "for key in trading_pnl:\n",
    "    print(key)\n",
    "\n",
    "for key in trading_pnl:\n",
    "    value = trading_pnl[key]\n",
    "    print(value)\n",
    "\n",
    "for key, value in trading_pnl.items():\n",
    "    print(key,value)"
   ]
  },
  {
   "cell_type": "code",
   "execution_count": null,
   "metadata": {},
   "outputs": [],
   "source": [
    "# Traverse/access nested objects\n",
    "# List of Dicts\n",
    "ceo_nested_dict = [\n",
    "  {\n",
    "      \"name\": \"Warren Buffet\",\n",
    "      \"age\": 88,\n",
    "      \"occupation\": \"CEO of Berkshire Hathaway\"\n",
    "  },\n",
    "  {\n",
    "      \"name\": \"Jeff Bezos\",\n",
    "      \"age\": 55,\n",
    "      \"occupation\": \"CEO of Amazon\"\n",
    "  }\n",
    "]\n",
    "\n",
    "## get first entry\n",
    "print(ceo_nested_dict[0])\n",
    "\n",
    "## get name of first entry\n",
    "\n",
    "print(ceo_nested_dict[0]['name'])"
   ]
  },
  {
   "cell_type": "markdown",
   "metadata": {},
   "source": [
    "## Function"
   ]
  },
  {
   "cell_type": "markdown",
   "metadata": {},
   "source": [
    "A function is a block of code which only runs when it is called.\n",
    "\n",
    "You can pass data, known as parameters, into a function.\n",
    "\n",
    "A function can return data as a result.\n",
    "\n",
    "Build Function make block of codes run everytime you call it"
   ]
  },
  {
   "cell_type": "code",
   "execution_count": null,
   "metadata": {},
   "outputs": [],
   "source": [
    "## how we caculate sum of list\n",
    "\n",
    "number_list_1 = [1,2,4,5,7]\n",
    "\n",
    "sum_of_all_1 = 0\n",
    "for number in number_list_1:\n",
    "    sum_of_all_1 = sum_of_all_1 + number\n",
    "print(sum_of_all_1)"
   ]
  },
  {
   "cell_type": "code",
   "execution_count": null,
   "metadata": {},
   "outputs": [],
   "source": [
    "## how about we have new list\n",
    "\n",
    "number_list_2 = [3,2,5,5,7]\n",
    "\n",
    "sum_of_all_2 = 0\n",
    "for number in number_list_2:\n",
    "    sum_of_all_2 = sum_of_all_2 + number\n",
    "print(sum_of_all_2)"
   ]
  },
  {
   "cell_type": "code",
   "execution_count": null,
   "metadata": {},
   "outputs": [],
   "source": [
    "## make a function to run the logic of sum of list \n",
    "\n",
    "def get_sum_list(your_list):\n",
    "    sum_of_all = 0\n",
    "    for number in your_list:\n",
    "        sum_of_all = sum_of_all + number   \n",
    "    return sum_of_all\n",
    "\n",
    "sum_of_all_1 = get_sum_list(number_list_1)\n",
    "sum_of_all_2 = get_sum_list(number_list_2)\n",
    "\n",
    "print(sum_of_all_1)\n",
    "print(sum_of_all_2)\n",
    "    "
   ]
  },
  {
   "cell_type": "markdown",
   "metadata": {},
   "source": [
    "# Refresher Activity: Email Marketing\n",
    "\n",
    "In this activity, you will apply specific skills learned in the previous lessons to a financial use case.\n",
    "\n",
    "## Background\n",
    "\n",
    "A company's marketing department wants to understand the differences in purchasing activity among the firm's customers in order to create personalized email newsletters for each customer.\n",
    "\n",
    "Harold has been asked to categorize customers based on their sales revenue and assign a business tier: platinum, gold, silver, or bronze. Then, depending on the assigned business tier, he needs to generate a personalized message for each customer.\n",
    "\n",
    "Help Harold create a program that will achieve the marketing department's goals––and impress them!\n",
    "\n",
    "## Instructions\n",
    "\n",
    "* Create a function named `create_greeting` that takes in `first_name`, `last_name`, and `revenue` as parameters, and returns a dynamic greeting based on revenue conditionals:\n",
    "\n",
    "  * Platinum = 3001+\n",
    "  * Gold = 2001–3000\n",
    "  * Silver = 1001–2000\n",
    "  * Bronze = 0–1000\n",
    "\n",
    "* Create a for loop that iterates through `customers` and prints out the constructed greeting for each customer.\n"
   ]
  },
  {
   "cell_type": "code",
   "execution_count": null,
   "metadata": {},
   "outputs": [],
   "source": [
    "# List of dicts\n",
    "customers = [\n",
    "    { \"first_name\": \"Tom\", \"last_name\": \"Bell\", \"revenue\": 0 },\n",
    "    { \"first_name\": \"Maggie\", \"last_name\": \"Johnson\", \"revenue\": 1032 },\n",
    "    { \"first_name\": \"John\", \"last_name\": \"Spectre\", \"revenue\": 2543 },\n",
    "    { \"first_name\": \"Susy\", \"last_name\": \"Simmons\", \"revenue\": 5322 }\n",
    "]\n",
    "\n",
    "# @TODO Define a function that accepts a customer first_name, last_name, and\n",
    "# revenue and returns a custom greeting with the full name.\n",
    "# Use these ranges to determine the business tier (and corresponding message)\n",
    "# for each customer.\n",
    "#   Platinum = 3001+\n",
    "#   Gold = 2001-3000\n",
    "#   Silver = 1001-2000\n",
    "#   Bronze = 0-1000\n",
    "\n",
    "def create_greeting(first_name, last_name, revenue):\n",
    "    \n",
    "    # if revenue greater then 3000 then platinum member\n",
    "    if revenue > 3000:\n",
    "        greeting = f\"Hi {first_name} {last_name}! Thank you for your business of ${revenue}! You are a platinum member.\"\n",
    "    # finish the rest conditional statement\n",
    "    \n",
    "\n",
    "    # return\n",
    "    return greeting\n",
    "\n",
    "# @TODO: Loop through the list of customers and use your function to print\n",
    "\n",
    "for customer in customers:\n",
    "    ## fill the code blow to print the greeting massages by call create_greeting function with right input.\n",
    "    greeting =\n",
    "    print(greeting)"
   ]
  },
  {
   "cell_type": "markdown",
   "metadata": {},
   "source": [
    "### Solution for Refresher Activity: Email Marketing"
   ]
  },
  {
   "cell_type": "code",
   "execution_count": null,
   "metadata": {},
   "outputs": [],
   "source": [
    "# List of dicts\n",
    "customers = [\n",
    "    { \"first_name\": \"Tom\", \"last_name\": \"Bell\", \"revenue\": 0 },\n",
    "    { \"first_name\": \"Maggie\", \"last_name\": \"Johnson\", \"revenue\": 1032 },\n",
    "    { \"first_name\": \"John\", \"last_name\": \"Spectre\", \"revenue\": 2543 },\n",
    "    { \"first_name\": \"Susy\", \"last_name\": \"Simmons\", \"revenue\": 5322 }\n",
    "]\n",
    "\n",
    "\n",
    "def create_greeting(first_name, last_name, revenue):\n",
    "\n",
    "    if revenue > 3000:\n",
    "        greeting = f\"Hi {first_name} {last_name}! Thank you for your business of ${revenue}! You are a platinum member.\"\n",
    "    elif (revenue > 2000 and revenue <= 3000):\n",
    "        greeting = f\"Hi {first_name} {last_name}! Thank you for your business of ${revenue}! You are a gold member.\"\n",
    "    elif (revenue > 1000 and revenue <= 2000):\n",
    "        greeting = f\"Hi {first_name} {last_name}! Thank you for your business of ${revenue}! You are a silver member.\"\n",
    "    elif (revenue >= 0  and revenue <= 1000):\n",
    "        greeting = f\"Hi {first_name} {last_name}! Thank you for your business of ${revenue}! You are a bronze member.\"\n",
    "\n",
    "    return greeting\n",
    "\n",
    "\n",
    "# Loop through the list of customers and use your function to print custom greetings for each customer.\n",
    "for customer in customers:\n",
    "    greeting = create_greeting(customer['first_name'], customer['last_name'], customer['revenue'])\n",
    "    print(greeting)"
   ]
  },
  {
   "cell_type": "markdown",
   "metadata": {},
   "source": [
    "# Part 1:  Time Value of Money \n",
    "\n"
   ]
  },
  {
   "cell_type": "markdown",
   "metadata": {},
   "source": [
    "### Logic build the future value"
   ]
  },
  {
   "cell_type": "code",
   "execution_count": null,
   "metadata": {},
   "outputs": [],
   "source": [
    "present_value = 10000\n",
    "interest_rate = .1\n",
    "compounding_periods = 1\n",
    "years = 3\n",
    "\n",
    "future_value = present_value * ((1 + (interest_rate / compounding_periods))**(compounding_periods * years))\n",
    "future_value_formatted = round(future_value, 2)\n",
    "\n",
    "print(future_value_formatted)"
   ]
  },
  {
   "cell_type": "markdown",
   "metadata": {},
   "source": [
    "### make calculate_future_value function"
   ]
  },
  {
   "cell_type": "code",
   "execution_count": null,
   "metadata": {},
   "outputs": [],
   "source": [
    "def calculate_future_value(present_value, interest_rate, compounding_periods, years):\n",
    "    \"\"\"\n",
    "    Calculates the future value of money given the present_value, interest rate, compounding period, and number of years.\n",
    "    Args:\n",
    "        present_value (float): The present value\n",
    "        interest_rate (float): The interest rate\n",
    "        periods (int): The compounding period\n",
    "        years (int): The number of years\n",
    "    Returns:\n",
    "        The future value of money.\n",
    "    \"\"\"\n",
    "\n",
    "    future_value = present_value * ((1 + (interest_rate / compounding_periods))**(compounding_periods * years))\n",
    "    future_value_formatted = round(future_value, 2)\n",
    "\n",
    "    return future_value_formatted\n",
    "\n"
   ]
  },
  {
   "cell_type": "code",
   "execution_count": null,
   "metadata": {},
   "outputs": [],
   "source": [
    "# Set the values\n",
    "present_value = 10000\n",
    "interest_rate = .1\n",
    "compounding_periods = 1\n",
    "years = 3\n",
    "\n",
    "# Call the calculate_future_value() function\n",
    "calculated_future_value = calculate_future_value(present_value, interest_rate, compounding_periods, years)\n",
    "\n",
    "# Print out the future_value result\n",
    "print(f\"The future value of ${present_value} at an interest rate of {interest_rate} compounded {compounding_periods} time(s) every year over {years} years is ${calculated_future_value}\")"
   ]
  },
  {
   "cell_type": "markdown",
   "metadata": {},
   "source": [
    "## Zero-Coupon Bonds\n",
    "\n",
    "In this activity, you will calculate the present value of a zero-coupon bond from its future value, and compare the resulting present value to its selling price in order to determine whether or not the bond is worth purchasing.\n",
    "\n",
    "## Background\n",
    "\n",
    "A zero-coupon bond is a debt security that does not pay interest (a coupon) as an annual cash flow; instead, it simply distributes a lump sum, or its face value, upon bond maturity (when the bond completes its duration). Zero-coupon bonds trade at a discount to their future value.\n",
    "\n",
    "## Instructions\n",
    "\n",
    "Using the [starter file](Unsolved/zero_coupon_bonds.py), walk through the following steps.\n",
    "\n",
    "* Recreate the `present_value` formula as a function in Python. Make sure the function has the following parameters:\n",
    "\n",
    "  * `future_value`: This is equivalent to the face value, or maturity value, of bonds; a lump sum given at the end of the duration of the bond.\n",
    "\n",
    "  * `discount_rate`: This is the rate of return over the duration of the bond.\n",
    "\n",
    "  * `compounding_periods`: Assumed to be equal to 1 for bonds.\n",
    "\n",
    "  * `years`: The number of years constituting the duration of the bond.\n",
    "\n",
    "* Pass the bond parameters into the `present_value` function and return the value to a variable `bond_value`.\n",
    "\n",
    "* Compare the `bond_value` to its `price` and determine if the bond is worth purchasing or not.\n",
    "\n",
    "  * If the bond is selling at a `discount`, purchase the bond.\n",
    "\n",
    "  * Else if the bond is selling at a `premium`, do not purchase the bond.\n",
    "\n",
    "  * Else the bond is selling at its fair market value, you're neutral to the decision.\n",
    "\n",
    "## Hint\n",
    "\n",
    "Don't overthink it! We are simply calculating the present value of a future value! If you need to refer to the present value formula, look to the slides.\n",
    "\n",
    "---\n",
    "\n",
    "\n"
   ]
  },
  {
   "cell_type": "code",
   "execution_count": null,
   "metadata": {},
   "outputs": [],
   "source": [
    "## try to build the logic to calculate present value\n",
    "\n",
    "price = 700\n",
    "future_value = 1000\n",
    "discount_rate = .1\n",
    "compounding_periods = 1\n",
    "years = 5\n",
    "\n"
   ]
  },
  {
   "cell_type": "code",
   "execution_count": null,
   "metadata": {},
   "outputs": [],
   "source": [
    "\n",
    "\n",
    "# @TODO: Create a function to calculate_present_value.\n",
    "# try to transfer the logic you did to function.\n",
    "\n",
    "\n",
    "\n",
    "\n",
    "\n",
    "\n",
    "\n",
    "\n",
    "\n",
    "\n",
    "\n",
    "\n",
    "\n",
    "\n",
    "\n",
    "\n",
    "\n"
   ]
  },
  {
   "cell_type": "code",
   "execution_count": null,
   "metadata": {},
   "outputs": [],
   "source": [
    "# Intialize the zero-coupon bond parameters, assume compounding period is equal to 1\n",
    "price = 700\n",
    "future_value = 1000\n",
    "discount_rate = .1\n",
    "compounding_periods = 1\n",
    "years = 5\n",
    "\n",
    "# @TODO: Call the calculate_present_value() function and assign to a variables\n",
    "\n",
    "\n",
    "# @TODO: Determine if the bond is worth it\n"
   ]
  },
  {
   "cell_type": "markdown",
   "metadata": {},
   "source": [
    "### Solution"
   ]
  },
  {
   "cell_type": "code",
   "execution_count": null,
   "metadata": {},
   "outputs": [],
   "source": [
    "# Function to calculate present value\n",
    "def calculate_present_value(future_value, discount_rate, compounding_periods, years):\n",
    "    \"\"\"\n",
    "    Calculates the present value of money given the future_value, interest rate, compounding period, and number of years.\n",
    "    Args:\n",
    "        future_value (float): The future value\n",
    "        discount_rate (float): The interest rate\n",
    "        compounding_periods (int): The compounding period\n",
    "        time_to_maturity (int): The number of years\n",
    "    Returns:\n",
    "        The present value of money.\n",
    "    \"\"\"\n",
    "\n",
    "    present_value = future_value / (\n",
    "        (1 + (discount_rate / compounding_periods)) ** (compounding_periods * years)\n",
    "    )\n",
    "    present_value_formatted = round(present_value, 2)\n",
    "\n",
    "    return present_value_formatted\n",
    "\n",
    "\n",
    "# Initialize the zero-coupon bond parameters, assume compounding period is equal to 1\n",
    "price = 700\n",
    "future_value = 1000\n",
    "discount_rate = 0.1\n",
    "compounding_periods = 1\n",
    "years = 5\n",
    "\n",
    "# Call the calculate_present_value() function\n",
    "bond_value = calculate_present_value(\n",
    "    future_value, discount_rate, compounding_periods, years\n",
    ")\n",
    "\n",
    "# Determine if the bond is worth it\n",
    "if bond_value > price:\n",
    "    discount = round(bond_value - price, 2)\n",
    "    print(f\"The bond is selling at a price of ${price} and is valued at ${bond_value}.\")\n",
    "    print(f\"A discount of {discount} exists, therefore you want to buy the bond.\")\n",
    "elif bond_value < price:\n",
    "    premium = round(price - bond_value, 2)\n",
    "    print(f\"The bond is selling at a price of ${price} and is valued at ${bond_value}.\")\n",
    "    print(f\"A premium of {premium} exists, therefore you do not want to buy the bond.\")\n",
    "else:\n",
    "    print(f\"The bond is selling at a price of ${price} and is valued at ${bond_value}.\")\n",
    "    print(f\"The bond is selling at its present value, you are neutral.\")"
   ]
  },
  {
   "cell_type": "markdown",
   "metadata": {},
   "source": [
    "# Part 2: Import"
   ]
  },
  {
   "cell_type": "code",
   "execution_count": null,
   "metadata": {},
   "outputs": [],
   "source": [
    "# Call the print_hello() function via a reference to\n",
    "# the imported module functions.py\n",
    "import functions\n",
    "\n",
    "## call the print_hello() function from functions model\n",
    "functions.print_hello()\n",
    "\n",
    "## call print_yes() function from functions model\n",
    "functions.print_yes()\n"
   ]
  },
  {
   "cell_type": "code",
   "execution_count": null,
   "metadata": {},
   "outputs": [],
   "source": [
    "# Call the print_hello() function imported directly from functions.py\n",
    "from functions import print_hello\n",
    "print_hello()\n"
   ]
  },
  {
   "cell_type": "markdown",
   "metadata": {},
   "source": [
    "## Numpy\n",
    "\n",
    "NumPy is a Python library that provides fast input/output, or I/O, on multidimensional or nested array objects. Among other things, NumPy can be used as a scientific computing or financial analysis tool.\n",
    "\n",
    "A Numpy offshoot library applicable to fintech is called numpy-financial. The built-in NPV function from the NumPy Financial library makes calculating NPV values simple so that you don't have to reinvent the wheel.\n",
    "\n",
    "Note that NumPy Financial may not be installed for many students, take the opportunity to walk them though using `conda install -c conda-forge numpy-financial`\n",
    "# Import the NumPy library "
   ]
  },
  {
   "cell_type": "code",
   "execution_count": null,
   "metadata": {},
   "outputs": [],
   "source": [
    "# Import the NumPy library (for most calculations)\n",
    "import numpy\n",
    "\n",
    "# Import the NumPy Financial library (for some finance-specific calculations)\n",
    "import numpy_financial as npf\n",
    "\n",
    "# Initialize variables\n",
    "interest_rate = .1\n",
    "cash_flows = [-1000, 400, 400, 400, 400]\n",
    "\n",
    "# Call the NPV function from the NumPy Financial library\n",
    "net_present_value = npf.npv(interest_rate, cash_flows)\n",
    "print(f\"NPV = {net_present_value}\")"
   ]
  },
  {
   "cell_type": "markdown",
   "metadata": {},
   "source": [
    "# Net Present Value\n",
    "\n",
    "In this activity, you will conduct financial analysis on three potential company projects that are categorized as conservative, neutral, and aggressive. Then, you will use the NPV function to determine which project scenario is the optimal choice.\n",
    "\n",
    "## Background\n",
    "\n",
    "NPV, or net present value, compares the initial investment of a project to the sum of all the present values of the subsequent projected cash flows. Positive NPV values indicate a project that is profitable and should be considered; negative NPV values indicate a project that is not profitable and should not be considered.\n",
    "\n",
    "In this activity, you will conduct financial analysis on three project scenarios: conservative, neutral, and aggressive. Each scenario requires an initial investment to generate the resulting cash flows for the following four years.\n",
    "\n",
    "You will use the NPV function from the NumPy Financial library to calculate the NPV values for each project scenario, and determine the scenario that has the highest NPV value, or the project that is the optimal choice.\n",
    "\n",
    "## Instructions\n",
    "\n",
    "\n",
    "1. Import the NumPy Financial (`numpy_financial`) library. You may need to run `conda install -c conda-forge numpy-financial` in your terminal in order to install this library.\n",
    "\n",
    "2. Call the NumPy Financial NPV function for each of the three project scenarios (conservative, neutral, aggressive).\n",
    "\n",
    "3. Assign the return values to a corresponding scenario key in a `npv_dict` dictionary.\n",
    "\n",
    "4. Print out the project scenario that holds the max NPV value from the `npv_dict` dictionary.\n",
    "\n",
    "Your results should look similar to the following:\n",
    "\n",
    "```\n",
    "{'conservative': 267.94617853971704, 'neutral': 401.91926780957544, 'aggressive': 285.8923570794341}\n",
    "The optimal project scenario to undertake is 'neutral' with a NPV of 401.91926780957544\n",
    "```\n",
    "\n",
    "## Challenge\n",
    "\n",
    "Use a for loop and an if-else conditional to calculate the max NPV value and associated key from the `npv_dict` dictionary. This will eliminate the need to manually choose the project scenario that has the max NPV value.\n",
    "\n",
    "Your results should look similar to the following:\n",
    "\n",
    "```\n",
    "conservative 267.94617853971704\n",
    "neutral 401.91926780957544\n",
    "aggressive 285.8923570794341\n",
    "---------------------------------------------------------\n",
    "The project scenario with the max NPV value is 'neutral' with a NPV of 401.91926780957544\n",
    "```\n",
    "\n",
    "---\n",
    "\n",
    "© 2020 Trilogy Education Services\n"
   ]
  },
  {
   "cell_type": "code",
   "execution_count": null,
   "metadata": {},
   "outputs": [],
   "source": [
    "# @TODO: Import the NumPy Financial (numpy_financial) library\n",
    "# @TODO: You may need to run `pip install numpy-financial` in your terminal to install the library\n",
    "\n",
    "# Discount Rate\n",
    "discount_rate = .1\n",
    "\n",
    "# Initial Investment, Cash Flow 1, Cash Flow 2, Cash Flow 3, Cash Flow 4\n",
    "cash_flows_conservative = [-1000, 400, 400, 400, 400]\n",
    "cash_flows_neutral = [-1500, 600, 600, 600, 600]\n",
    "cash_flows_aggressive = [-2250, 800, 800, 800, 800]\n",
    "\n",
    "# @TODO: Initialize dictionary to hold NPV return values\n",
    "npv_dict = {}\n",
    "\n",
    "# @TODO: Calculate the NPV for each scenario\n",
    "\n",
    "## EG1:\n",
    "npv_dict['conservative'] = npf.npv(discount_rate, cash_flows_conservative)\n",
    "\n",
    "\n",
    "\n",
    "# @TODO: Manually Choose the project with the highest NPV value\n",
    "\n"
   ]
  },
  {
   "cell_type": "markdown",
   "metadata": {},
   "source": [
    "### Solution"
   ]
  },
  {
   "cell_type": "code",
   "execution_count": null,
   "metadata": {},
   "outputs": [],
   "source": [
    "\n",
    "# Import the NumPy Financial library\n",
    "import numpy_financial as npf\n",
    "\n",
    "# Discount Rate\n",
    "discount_rate = .1\n",
    "\n",
    "# Initial Investment, Cash Flow 1, Cash Flow 2, Cash Flow 3, Cash Flow 4\n",
    "cash_flows_conservative = [-1000, 400, 400, 400, 400]\n",
    "cash_flows_neutral = [-1500, 600, 600, 600, 600]\n",
    "cash_flows_aggressive = [-2250, 800, 800, 800, 800]\n",
    "\n",
    "# Initialize dictionary to hold NPV return values\n",
    "npv_dict = {}\n",
    "\n",
    "# Calculate the NPV for each scenario\n",
    "npv_dict['conservative'] = npf.npv(discount_rate, cash_flows_conservative)\n",
    "npv_dict['neutral'] = npf.npv(discount_rate, cash_flows_neutral)\n",
    "npv_dict['aggressive'] = npf.npv(discount_rate, cash_flows_aggressive)\n",
    "\n",
    "# Manually choose the project with the highest NPV value\n",
    "print(npv_dict)\n",
    "print(f\"The optimal project scenario to undertake is 'neutral' with a NPV of {npv_dict['neutral']}\")"
   ]
  },
  {
   "cell_type": "markdown",
   "metadata": {},
   "source": [
    "# Part 3: File I/O （like do terminal in python）\n",
    "\n",
    "Data will not (and should not) always be hard-coded within a Python file. Often, data is saved within a file and accessed externally in order to perform some kind of data manipulation or analysis.\n",
    "\n",
    "File pathing is extremely important when attempting to access files saved within a folder structure.\n",
    "\n",
    "Python natively supports the input and output of files, and the pathlib library makes file pathing easy."
   ]
  },
  {
   "cell_type": "markdown",
   "metadata": {},
   "source": [
    "## Python OS\n",
    "\n",
    "operation system interfaces\n",
    "\n",
    "The OS module in python provides functions for interacting with the operating system. OS, comes under Python’s standard utility modules. This module provides a portable way of using operating system dependent functionality. "
   ]
  },
  {
   "cell_type": "markdown",
   "metadata": {},
   "source": [
    "os.getcwd(): Function os.getcwd(), returns the Current Working Directory(CWD) of the file.\n",
    "\n",
    "os.mkdir(): We can create a new directory.\n",
    "\n",
    "os.chdir(): Changing the Current Working Directory.\n",
    "\n",
    "os.listdir(): List Files and Sub-directories"
   ]
  },
  {
   "cell_type": "code",
   "execution_count": null,
   "metadata": {},
   "outputs": [],
   "source": [
    "import os\n",
    "\n",
    "print(os.getcwd()) # This is your current working directory (cwd)"
   ]
  },
  {
   "cell_type": "code",
   "execution_count": null,
   "metadata": {},
   "outputs": [],
   "source": [
    "os.chdir(\"..\") # We can change our directory with os.chdir(), '..' tells the system to move up a dir\n",
    "\n",
    "print(os.getcwd())"
   ]
  },
  {
   "cell_type": "code",
   "execution_count": null,
   "metadata": {},
   "outputs": [],
   "source": [
    "## go to the data folder inorder to read txt file\n",
    "os.chdir(\"./2.3/Data\")\n",
    "print(os.getcwd())\n",
    "print(os.listdir())"
   ]
  },
  {
   "cell_type": "code",
   "execution_count": null,
   "metadata": {},
   "outputs": [],
   "source": [
    "## open txt file\n",
    "\n",
    "# Open the file in \"read\" mode ('r') and store the\n",
    "# contents in the variable \"text\"\n",
    "with open('output.txt', 'r') as file:\n",
    "    # Store all of the text from the file inside a variable called \"text\"\n",
    "    # and print the contexts of the text file\n",
    "    text = file.read()\n",
    "    print(text)\n",
    "\n",
    "    # Parse and print the file line by line. The print statement adds an\n",
    "    # extra line break to each line in the output.\n",
    "    line_num = 1\n",
    "    for line in file:\n",
    "        print(f\"line {line_num}: {line}\")\n",
    "        line_num += 1\n",
    "\n"
   ]
  },
  {
   "cell_type": "code",
   "execution_count": null,
   "metadata": {},
   "outputs": [],
   "source": [
    "# Open the output_path as a file object in \"write\" mode ('w') that allow to add line at beggining of class.\n",
    "# Write a header line and write the contents of 'text' to the file\n",
    "\n",
    "with open('output.txt', 'w') as file:\n",
    "    file.write(\"This is an output file at beginning of file.\\n\")\n",
    "    file.write(text)\n",
    "    file.write(\"This is an output file at ending of file.\\n\")\n",
    "\n",
    "\n",
    "    "
   ]
  },
  {
   "cell_type": "markdown",
   "metadata": {},
   "source": [
    "## Part 4:\n",
    "\n",
    "## CSV Reader (5 min)\n",
    "\n",
    "CSV stands for comma-separated values. A CSV file follows a tabular format in which the first line is usually a header containing column names, and each subsequent line is a row containing values that intersect with each row-column pair.\n",
    "\n",
    "The csv library parses data in order to make it more easily accessible.\n",
    "\n",
    "The csv library includes a reader() function that parses CSV data by a separator or delimiter, and creates a row list object that contains the values for every row in the CSV data."
   ]
  },
  {
   "cell_type": "markdown",
   "metadata": {},
   "source": [
    "### Solution 1 use csv function to read csv file"
   ]
  },
  {
   "cell_type": "code",
   "execution_count": null,
   "metadata": {},
   "outputs": [],
   "source": [
    "# Import the pathlib and csv library\n",
    "import os\n",
    "import csv\n",
    "\n",
    "# Set the file path\n",
    "csvpath ='accounting.csv'\n",
    "\n",
    "# Initialize variable to hold salaries\n",
    "salaries = []\n",
    "\n",
    "# Initialize line_num variable\n",
    "line_num = 0\n",
    "\n",
    "# Open the input path as a file object\n",
    "with open(csvpath, 'r') as csvfile:\n",
    "\n",
    "    # Print the datatype of the file object\n",
    "    print(type(csvfile))\n",
    "\n",
    "    # Pass in the csv file to the csv.reader() function\n",
    "    # (with ',' as the delmiter/separator) and return the csvreader object\n",
    "    csvreader = csv.reader(csvfile, delimiter=',')\n",
    "    # Print the datatype of the csvreader\n",
    "    print(type(csvreader))\n",
    "\n",
    "    # Go to the next row from the start of the file\n",
    "    # (which is often the first row/header) and iterate line_num by 1\n",
    "    header = next(csvreader)\n",
    "    line_num += 1\n",
    "    # Print the header\n",
    "    print(f\"{header} <---- HEADER\")\n",
    "\n",
    "    # Read each row of data after the header\n",
    "    for row in csvreader:\n",
    "        # Print the row\n",
    "        print(row)\n",
    "        # Set salary variable equal to the value in the 4th column of each row\n",
    "        salary = int(row[3])\n",
    "        # Append the row salary value to the list of salaries\n",
    "        salaries.append(salary)\n",
    "\n",
    "# Initialize metric variables\n",
    "max_salary = 0\n",
    "min_salary = 0\n",
    "avg_salary = 0\n",
    "total_salary = 0\n",
    "count_salary = 0\n",
    "\n",
    "# Calculate the max, mean, and average of the list of salaries\n",
    "for salary in salaries:\n",
    "\n",
    "    # Sum the total and count variables\n",
    "    total_salary += salary\n",
    "    count_salary += 1\n",
    "\n",
    "    # Logic to determine min and max salaries\n",
    "    if min_salary == 0:\n",
    "        min_salary = salary\n",
    "    elif salary > max_salary:\n",
    "        max_salary = salary\n",
    "    elif salary < min_salary:\n",
    "        min_salary = salary\n",
    "\n",
    "# Calculate the average salary, round to the nearest 2 decimal places\n",
    "avg_salary = round(total_salary / count_salary, 2)\n",
    "\n",
    "print(max_salary, min_salary, avg_salary)"
   ]
  },
  {
   "cell_type": "markdown",
   "metadata": {},
   "source": [
    "## Solution 2: read csv file by pandas library to dataframe\n",
    "\n",
    "#### Pandas (Python programming language for data manipulation and analysis)\n",
    "\n",
    "#### DataFrames\n",
    "A dataframe is a table-like structure comprised of a number of Series of data. This means that the columns can represent different types of data, but each column must be of one type. This makes a dataframe align with CSV's and Relational Databases very easily.\n",
    "\n",
    "    They can be manually generated, imported from CSVs, or loaded from a dictionary\n",
    "\n"
   ]
  },
  {
   "cell_type": "code",
   "execution_count": null,
   "metadata": {},
   "outputs": [],
   "source": [
    "## import pandas \n",
    "import pandas as pd\n",
    "\n",
    "## create dataframe, read in csv file by call .read_csv('your_filename') fucntion\n",
    "df = pd.read_csv('accounting.csv')\n",
    "\n",
    "df"
   ]
  },
  {
   "cell_type": "code",
   "execution_count": null,
   "metadata": {},
   "outputs": [],
   "source": [
    "df.head()"
   ]
  },
  {
   "cell_type": "code",
   "execution_count": null,
   "metadata": {},
   "outputs": [],
   "source": [
    "# Calculate the max, mean, and average of the list of salaries\n",
    "max_salary = df['Salary'].max()\n",
    "min_salary = df['Salary'].min()\n",
    "avg_salary = df['Salary'].mean()\n",
    "\n",
    "print(max_salary, min_salary, round(avg_salary,2))"
   ]
  },
  {
   "cell_type": "markdown",
   "metadata": {},
   "source": [
    "# Sales Analysis\n",
    "\n",
    "In this activity, you will read in the `sales.csv` file to calculate customer revenue averages.\n",
    "\n",
    "## Instructions\n",
    "\n",
    "Using the [starter file](Unsolved/Core/sales_analysis_core.py), complete the following steps.\n",
    "\n",
    "1. Import the pathlib and CSV libraries.\n",
    "\n",
    "2. Set the `sales.csv` path.\n",
    "\n",
    "3. Initialize a `records` list.\n",
    "\n",
    "4. Read and iterate over the `sales.csv` file using `csv.reader()`.\n",
    "\n",
    "5. Append a new column, average, to the header, and then add the header to the list of records.\n",
    "\n",
    "6. Set the `name`, `count`, and `revenue` variables and convert strings to ints for numerical calculations.\n",
    "\n",
    "7. Calculate the simple average (`revenue` over `count`), append the average to the row, and append the row to the list of records.\n",
    "\n",
    "8. Write the list of records contained in `records` to an output CSV file.\n",
    "\n",
    "9. Loop over every record in `records`, and use the `writerow()` function to write to an output CSV file.\n",
    "\n",
    "Your output should look similar to the following:\n",
    "\n",
    "  ```python\n",
    "  Name,Count,Revenue,Average\n",
    "  Andrew,9,58,6.44\n",
    "  Phil,8,377,47.12\n",
    "  Madison,5,302,60.4\n",
    "  Sally,1,75,75.0\n",
    "  Tyler,1,334,334.0\n",
    "  Billy,7,146,20.86\n",
    "  Steve,1,178,178.0\n",
    "  Madison,7,313,44.71\n",
    "  Sarah,8,103,12.88\n",
    "  Tim,5,344,68.8\n",
    "  Andrew,5,349,69.8\n",
    "  Phil,8,61,7.62\n",
    "  Madison,4,196,49.0\n",
    "  Carl,1,374,374.0\n",
    "  Devon,9,220,24.44\n",
    "  Megan,9,321,35.67\n",
    "  Sarah,7,277,39.57\n",
    "  David,2,246,123.0\n",
    "  Sally,9,198,22.0\n",
    "  Tom,5,221,44.2\n",
    "  Andrew,1,191,191.0\n",
    "  Paul,5,399,79.8\n",
    "  Carl,1,300,300.0\n",
    "  Tim,1,345,345.0\n",
    "  Madison,4,202,50.5\n",
    "  John,4,305,76.25\n",
    "  Phil,6,249,41.5\n",
    "  Madison,7,113,16.14\n",
    "  Sally,6,256,42.67\n",
    "  ```\n",
    "\n"
   ]
  },
  {
   "cell_type": "code",
   "execution_count": null,
   "metadata": {},
   "outputs": [],
   "source": [
    "## Pandas solution\n",
    "\n",
    "df = pd.read_csv('sales.csv')\n",
    "\n",
    "df.head()"
   ]
  },
  {
   "cell_type": "code",
   "execution_count": null,
   "metadata": {},
   "outputs": [],
   "source": [
    "df['average'] = df['Revenue']/df['Count']\n",
    "\n",
    "df.head()"
   ]
  },
  {
   "cell_type": "code",
   "execution_count": null,
   "metadata": {},
   "outputs": [],
   "source": [
    "# Import the pathlib and csv library\n",
    "from pathlib import Path\n",
    "import csv\n",
    "\n",
    "# Set the file path\n",
    "csvpath = Path(\"sales.csv\")\n",
    "\n",
    "# Initialize dictionary\n",
    "analysis = {}\n",
    "\n",
    "# Open the csv file as an object\n",
    "with open(csvpath, \"r\") as csvfile:\n",
    "\n",
    "    # Pass in the csv file to the csv.reader() function\n",
    "    # (with ',' as the delmiter/separator) and return the csvreader object\n",
    "    csvreader = csv.reader(csvfile, delimiter=\",\")\n",
    "\n",
    "    # Read the header row first (skip this step if there is no header)\n",
    "    csv_header = next(csvreader)\n",
    "    # Print the header\n",
    "\n",
    "\n",
    "    # Read each row of data after the header\n",
    "    for row in csvreader:\n",
    "        # Print the row\n",
    "\n",
    "        # Set the 'name', 'count', and 'revenue' variables for better\n",
    "        # readability, convert strings to ints for numerical calculations\n",
    "        name = row[0]\n",
    "        count = int(row[1])\n",
    "        revenue = int(row[2])\n",
    "\n",
    "        # Calculate the average and round to the nearest 2 decimal places\n",
    "        average = round(revenue / count, 2)\n",
    "\n",
    "        # If name is not already in the analysis dict, initialize the dictionary\n",
    "        # Else continue to add to the existing key and nested key-value pairs\n",
    "        if name not in analysis.keys():\n",
    "            analysis[name] = {\"count\": count, \"revenue\": revenue}\n",
    "        else:\n",
    "            analysis[name][\"count\"] += count\n",
    "            analysis[name][\"revenue\"] += revenue\n",
    "\n",
    "# Set the header for aggregate.csv\n",
    "header = [\"Name\", \"Count\", \"Revenue\", \"Average\"]\n",
    "\n",
    "# Set the path for the aggregate.csv\n",
    "aggregate_path = Path(\"aggregate.csv\")\n",
    "\n",
    "# Open the output path as a file and pass into the 'csv.writer()' function\n",
    "# Set the delimiter/separater as a ','\n",
    "with open(aggregate_path, \"w\") as csvfile:\n",
    "    csvwriter = csv.writer(csvfile, delimiter=\",\")\n",
    "\n",
    "    # Write the header as the first row\n",
    "    csvwriter.writerow(header)\n",
    "\n",
    "    # Loop over every key in analysis and write the associated key (name) and\n",
    "    # nested key-value pairs (metrics)\n",
    "    for name in analysis:\n",
    "        csvwriter.writerow(\n",
    "            [\n",
    "                name,\n",
    "                analysis[name][\"count\"],\n",
    "                analysis[name][\"revenue\"],\n",
    "                round(analysis[name][\"revenue\"] / analysis[name][\"count\"], 2),\n",
    "            ])"
   ]
  }
 ],
 "metadata": {
  "kernelspec": {
   "display_name": "Python 3",
   "language": "python",
   "name": "python3"
  },
  "language_info": {
   "codemirror_mode": {
    "name": "ipython",
    "version": 3
   },
   "file_extension": ".py",
   "mimetype": "text/x-python",
   "name": "python",
   "nbconvert_exporter": "python",
   "pygments_lexer": "ipython3",
   "version": "3.7.6"
  }
 },
 "nbformat": 4,
 "nbformat_minor": 4
}
