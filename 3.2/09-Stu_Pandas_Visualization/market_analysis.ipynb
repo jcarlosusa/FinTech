{
 "cells": [
  {
   "cell_type": "markdown",
   "metadata": {},
   "source": [
    "### Student Activity: Market Analysis\n",
    "\n",
    "This program reads daily stock data from a CSV and plots three different charts for three different analyses: pie (sector frequency distribution), bar (top 20 market cap companies), and scatter (price vs. earnings relationship).\n",
    "\n",
    "1. A pie chart of the S&P 500 company sector distribution\n",
    "\n",
    "1. A bar chart of the top 20 market cap companies\n",
    "\n",
    "1. A scatter plot of the price vs. earnings relationship\n",
    "\n",
    "Use the Pandas library to help Harold perform this analysis and generate the plots.\n",
    "\n",
    "## Instructions\n",
    "\n",
    "\n",
    "1. Import the necessary libraries and dependencies.\n",
    "\n",
    "1. Read in the `sp500_companies.csv` as a Pandas DataFrame.\n",
    "\n",
    "1. Use the `value_counts()` function on the `Sector` column of the DataFrame to count and return a Series object representing the frequency of unique values.\n",
    "\n",
    "1. Plot a pie chart of the S&P 500 company sector distribution.\n",
    "\n",
    "# Bonus\n",
    "\n",
    "1. Create a subset DataFrame by selecting the `Symbol` and `Market Cap` columns. Use the `nlargest()` function on the subset DataFrame to return the top 20 rows of the `Market Cap` column.\n",
    "\n",
    "1. Plot a bar chart of the top 20 market cap companies.\n",
    "\n",
    "1. Create a subset DataFrame by selecting the `Price` and `Earnings/Share` columns.\n",
    "\n",
    "1. Plot a scatter plot of the price vs. earnings relationship.\n",
    "\n",
    "## Hint\n",
    "\n",
    "Consult the [Pandas documentation](https://pandas.pydata.org/pandas-docs/version/0.17.0/index.html) for more information about the `value_counts()` and `nlargest()` functions.\n",
    "\n",
    "- [value_counts()](https://pandas.pydata.org/pandas-docs/stable/reference/api/pandas.Series.value_counts.html)\n",
    "\n",
    "- [nlargest()](https://pandas.pydata.org/pandas-docs/stable/reference/api/pandas.DataFrame.nlargest.html)\n",
    "\n"
   ]
  },
  {
   "cell_type": "code",
   "execution_count": 1,
   "metadata": {},
   "outputs": [],
   "source": [
    "# Import libraries and dependencies\n",
    "import pandas as pd\n",
    "\n",
    "%matplotlib inline"
   ]
  },
  {
   "cell_type": "markdown",
   "metadata": {},
   "source": [
    "### Read CSV in as DataFrame"
   ]
  },
  {
   "cell_type": "code",
   "execution_count": 9,
   "metadata": {},
   "outputs": [
    {
     "data": {
      "text/html": [
       "<div>\n",
       "<style scoped>\n",
       "    .dataframe tbody tr th:only-of-type {\n",
       "        vertical-align: middle;\n",
       "    }\n",
       "\n",
       "    .dataframe tbody tr th {\n",
       "        vertical-align: top;\n",
       "    }\n",
       "\n",
       "    .dataframe thead th {\n",
       "        text-align: right;\n",
       "    }\n",
       "</style>\n",
       "<table border=\"1\" class=\"dataframe\">\n",
       "  <thead>\n",
       "    <tr style=\"text-align: right;\">\n",
       "      <th></th>\n",
       "      <th>Symbol</th>\n",
       "      <th>Name</th>\n",
       "      <th>Sector</th>\n",
       "      <th>Price</th>\n",
       "      <th>Price/Earnings</th>\n",
       "      <th>Dividend Yield</th>\n",
       "      <th>Earnings/Share</th>\n",
       "      <th>52 Week Low</th>\n",
       "      <th>52 Week High</th>\n",
       "      <th>Market Cap</th>\n",
       "      <th>EBITDA</th>\n",
       "      <th>Price/Sales</th>\n",
       "      <th>Price/Book</th>\n",
       "      <th>SEC Filings</th>\n",
       "    </tr>\n",
       "  </thead>\n",
       "  <tbody>\n",
       "    <tr>\n",
       "      <th>0</th>\n",
       "      <td>MMM</td>\n",
       "      <td>3M Company</td>\n",
       "      <td>Industrials</td>\n",
       "      <td>222.89</td>\n",
       "      <td>24.31</td>\n",
       "      <td>2.332862</td>\n",
       "      <td>7.92</td>\n",
       "      <td>259.77</td>\n",
       "      <td>175.490</td>\n",
       "      <td>138721055226</td>\n",
       "      <td>9.048000e+09</td>\n",
       "      <td>4.390271</td>\n",
       "      <td>11.34</td>\n",
       "      <td>http://www.sec.gov/cgi-bin/browse-edgar?action...</td>\n",
       "    </tr>\n",
       "    <tr>\n",
       "      <th>1</th>\n",
       "      <td>AOS</td>\n",
       "      <td>A.O. Smith Corp</td>\n",
       "      <td>Industrials</td>\n",
       "      <td>60.24</td>\n",
       "      <td>27.76</td>\n",
       "      <td>1.147959</td>\n",
       "      <td>1.70</td>\n",
       "      <td>68.39</td>\n",
       "      <td>48.925</td>\n",
       "      <td>10783419933</td>\n",
       "      <td>6.010000e+08</td>\n",
       "      <td>3.575483</td>\n",
       "      <td>6.35</td>\n",
       "      <td>http://www.sec.gov/cgi-bin/browse-edgar?action...</td>\n",
       "    </tr>\n",
       "    <tr>\n",
       "      <th>2</th>\n",
       "      <td>ABT</td>\n",
       "      <td>Abbott Laboratories</td>\n",
       "      <td>Health Care</td>\n",
       "      <td>56.27</td>\n",
       "      <td>22.51</td>\n",
       "      <td>1.908982</td>\n",
       "      <td>0.26</td>\n",
       "      <td>64.60</td>\n",
       "      <td>42.280</td>\n",
       "      <td>102121042306</td>\n",
       "      <td>5.744000e+09</td>\n",
       "      <td>3.740480</td>\n",
       "      <td>3.19</td>\n",
       "      <td>http://www.sec.gov/cgi-bin/browse-edgar?action...</td>\n",
       "    </tr>\n",
       "    <tr>\n",
       "      <th>3</th>\n",
       "      <td>ABBV</td>\n",
       "      <td>AbbVie Inc.</td>\n",
       "      <td>Health Care</td>\n",
       "      <td>108.48</td>\n",
       "      <td>19.41</td>\n",
       "      <td>2.499560</td>\n",
       "      <td>3.29</td>\n",
       "      <td>125.86</td>\n",
       "      <td>60.050</td>\n",
       "      <td>181386347059</td>\n",
       "      <td>1.031000e+10</td>\n",
       "      <td>6.291571</td>\n",
       "      <td>26.14</td>\n",
       "      <td>http://www.sec.gov/cgi-bin/browse-edgar?action...</td>\n",
       "    </tr>\n",
       "    <tr>\n",
       "      <th>4</th>\n",
       "      <td>ACN</td>\n",
       "      <td>Accenture plc</td>\n",
       "      <td>Information Technology</td>\n",
       "      <td>150.51</td>\n",
       "      <td>25.47</td>\n",
       "      <td>1.714470</td>\n",
       "      <td>5.44</td>\n",
       "      <td>162.60</td>\n",
       "      <td>114.820</td>\n",
       "      <td>98765855553</td>\n",
       "      <td>5.643228e+09</td>\n",
       "      <td>2.604117</td>\n",
       "      <td>10.62</td>\n",
       "      <td>http://www.sec.gov/cgi-bin/browse-edgar?action...</td>\n",
       "    </tr>\n",
       "  </tbody>\n",
       "</table>\n",
       "</div>"
      ],
      "text/plain": [
       "  Symbol                 Name                  Sector   Price  Price/Earnings  \\\n",
       "0    MMM           3M Company             Industrials  222.89           24.31   \n",
       "1    AOS      A.O. Smith Corp             Industrials   60.24           27.76   \n",
       "2    ABT  Abbott Laboratories             Health Care   56.27           22.51   \n",
       "3   ABBV          AbbVie Inc.             Health Care  108.48           19.41   \n",
       "4    ACN        Accenture plc  Information Technology  150.51           25.47   \n",
       "\n",
       "   Dividend Yield  Earnings/Share  52 Week Low  52 Week High    Market Cap  \\\n",
       "0        2.332862            7.92       259.77       175.490  138721055226   \n",
       "1        1.147959            1.70        68.39        48.925   10783419933   \n",
       "2        1.908982            0.26        64.60        42.280  102121042306   \n",
       "3        2.499560            3.29       125.86        60.050  181386347059   \n",
       "4        1.714470            5.44       162.60       114.820   98765855553   \n",
       "\n",
       "         EBITDA  Price/Sales  Price/Book  \\\n",
       "0  9.048000e+09     4.390271       11.34   \n",
       "1  6.010000e+08     3.575483        6.35   \n",
       "2  5.744000e+09     3.740480        3.19   \n",
       "3  1.031000e+10     6.291571       26.14   \n",
       "4  5.643228e+09     2.604117       10.62   \n",
       "\n",
       "                                         SEC Filings  \n",
       "0  http://www.sec.gov/cgi-bin/browse-edgar?action...  \n",
       "1  http://www.sec.gov/cgi-bin/browse-edgar?action...  \n",
       "2  http://www.sec.gov/cgi-bin/browse-edgar?action...  \n",
       "3  http://www.sec.gov/cgi-bin/browse-edgar?action...  \n",
       "4  http://www.sec.gov/cgi-bin/browse-edgar?action...  "
      ]
     },
     "execution_count": 9,
     "metadata": {},
     "output_type": "execute_result"
    }
   ],
   "source": [
    "# Set the path\n",
    "sp500_csv = pd.read_csv('sp500_companies.csv')\n",
    "\n",
    "# Read in the CSV as a DataFrame\n",
    "\n",
    "sp500_csv.head()"
   ]
  },
  {
   "cell_type": "markdown",
   "metadata": {},
   "source": [
    "### Calculate Sector Counts"
   ]
  },
  {
   "cell_type": "code",
   "execution_count": 10,
   "metadata": {},
   "outputs": [
    {
     "data": {
      "text/plain": [
       "Consumer Discretionary        84\n",
       "Information Technology        70\n",
       "Financials                    68\n",
       "Industrials                   67\n",
       "Health Care                   61\n",
       "Consumer Staples              34\n",
       "Real Estate                   33\n",
       "Energy                        32\n",
       "Utilities                     28\n",
       "Materials                     25\n",
       "Telecommunication Services     3\n",
       "Name: Sector, dtype: int64"
      ]
     },
     "execution_count": 10,
     "metadata": {},
     "output_type": "execute_result"
    }
   ],
   "source": [
    "# Count the frequency of each sector from the list of companies\n",
    "sp500_csv['Sector'].value_counts()\n",
    "sector_counts = "
   ]
  },
  {
   "cell_type": "markdown",
   "metadata": {},
   "source": [
    "### Plot Sector Countsvalue_counts"
   ]
  },
  {
   "cell_type": "code",
   "execution_count": 8,
   "metadata": {},
   "outputs": [
    {
     "data": {
      "text/plain": [
       "<AxesSubplot:>"
      ]
     },
     "execution_count": 8,
     "metadata": {},
     "output_type": "execute_result"
    },
    {
     "data": {
      "image/png": "[encoded data removed]",
      "text/plain": [
       "<Figure size 432x288 with 1 Axes>"
      ]
     },
     "metadata": {
      "needs_background": "light"
     },
     "output_type": "display_data"
    }
   ],
   "source": [
    "# Plot a pie chart from the distribution of company sectors\n",
    "# your_series_value_count.plot(kind='pie')\n",
    "\n",
    "sp500_csv.plot()\n",
    "\n"
   ]
  },
  {
   "cell_type": "markdown",
   "metadata": {},
   "source": [
    "### Filter By Top 20 Market Cap Companies"
   ]
  },
  {
   "cell_type": "code",
   "execution_count": 5,
   "metadata": {},
   "outputs": [
    {
     "data": {
      "text/html": [
       "<div>\n",
       "<style scoped>\n",
       "    .dataframe tbody tr th:only-of-type {\n",
       "        vertical-align: middle;\n",
       "    }\n",
       "\n",
       "    .dataframe tbody tr th {\n",
       "        vertical-align: top;\n",
       "    }\n",
       "\n",
       "    .dataframe thead th {\n",
       "        text-align: right;\n",
       "    }\n",
       "</style>\n",
       "<table border=\"1\" class=\"dataframe\">\n",
       "  <thead>\n",
       "    <tr style=\"text-align: right;\">\n",
       "      <th></th>\n",
       "      <th>Market Cap</th>\n",
       "    </tr>\n",
       "    <tr>\n",
       "      <th>Symbol</th>\n",
       "      <th></th>\n",
       "    </tr>\n",
       "  </thead>\n",
       "  <tbody>\n",
       "    <tr>\n",
       "      <th>AAPL</th>\n",
       "      <td>809508034020</td>\n",
       "    </tr>\n",
       "    <tr>\n",
       "      <th>GOOGL</th>\n",
       "      <td>733823966137</td>\n",
       "    </tr>\n",
       "    <tr>\n",
       "      <th>GOOG</th>\n",
       "      <td>728535558140</td>\n",
       "    </tr>\n",
       "    <tr>\n",
       "      <th>MSFT</th>\n",
       "      <td>689978437468</td>\n",
       "    </tr>\n",
       "    <tr>\n",
       "      <th>AMZN</th>\n",
       "      <td>685873374731</td>\n",
       "    </tr>\n",
       "    <tr>\n",
       "      <th>FB</th>\n",
       "      <td>523423036576</td>\n",
       "    </tr>\n",
       "    <tr>\n",
       "      <th>JPM</th>\n",
       "      <td>386613611000</td>\n",
       "    </tr>\n",
       "    <tr>\n",
       "      <th>JNJ</th>\n",
       "      <td>353062464971</td>\n",
       "    </tr>\n",
       "    <tr>\n",
       "      <th>XOM</th>\n",
       "      <td>326148660000</td>\n",
       "    </tr>\n",
       "    <tr>\n",
       "      <th>BAC</th>\n",
       "      <td>321478200969</td>\n",
       "    </tr>\n",
       "    <tr>\n",
       "      <th>WMT</th>\n",
       "      <td>304680931618</td>\n",
       "    </tr>\n",
       "    <tr>\n",
       "      <th>WFC</th>\n",
       "      <td>281463620775</td>\n",
       "    </tr>\n",
       "    <tr>\n",
       "      <th>V</th>\n",
       "      <td>270038723213</td>\n",
       "    </tr>\n",
       "    <tr>\n",
       "      <th>BRK.B</th>\n",
       "      <td>261401203633</td>\n",
       "    </tr>\n",
       "    <tr>\n",
       "      <th>T</th>\n",
       "      <td>226713270000</td>\n",
       "    </tr>\n",
       "    <tr>\n",
       "      <th>HD</th>\n",
       "      <td>223378633329</td>\n",
       "    </tr>\n",
       "    <tr>\n",
       "      <th>CVX</th>\n",
       "      <td>218978820159</td>\n",
       "    </tr>\n",
       "    <tr>\n",
       "      <th>UNH</th>\n",
       "      <td>218834811333</td>\n",
       "    </tr>\n",
       "    <tr>\n",
       "      <th>INTC</th>\n",
       "      <td>211536000000</td>\n",
       "    </tr>\n",
       "    <tr>\n",
       "      <th>PFE</th>\n",
       "      <td>208505541949</td>\n",
       "    </tr>\n",
       "  </tbody>\n",
       "</table>\n",
       "</div>"
      ],
      "text/plain": [
       "          Market Cap\n",
       "Symbol              \n",
       "AAPL    809508034020\n",
       "GOOGL   733823966137\n",
       "GOOG    728535558140\n",
       "MSFT    689978437468\n",
       "AMZN    685873374731\n",
       "FB      523423036576\n",
       "JPM     386613611000\n",
       "JNJ     353062464971\n",
       "XOM     326148660000\n",
       "BAC     321478200969\n",
       "WMT     304680931618\n",
       "WFC     281463620775\n",
       "V       270038723213\n",
       "BRK.B   261401203633\n",
       "T       226713270000\n",
       "HD      223378633329\n",
       "CVX     218978820159\n",
       "UNH     218834811333\n",
       "INTC    211536000000\n",
       "PFE     208505541949"
      ]
     },
     "execution_count": 5,
     "metadata": {},
     "output_type": "execute_result"
    }
   ],
   "source": [
    "# Grab the `Symbol` and `Market Cap` columns\n",
    "\n",
    "\n",
    "# Set the 'Symbol' as the index\n",
    "\n",
    "\n",
    "# Drop the extra 'Symbol' column\n",
    "\n",
    "\n",
    "# Filter down to 20 companies with the largest market caps\n",
    "\n",
    "\n",
    "# Display the DataFrame\n"
   ]
  },
  {
   "cell_type": "markdown",
   "metadata": {},
   "source": [
    "### Plot Top 20 Market Cap Companies"
   ]
  },
  {
   "cell_type": "code",
   "execution_count": 6,
   "metadata": {},
   "outputs": [
    {
     "data": {
      "text/plain": [
       "<matplotlib.axes._subplots.AxesSubplot at 0x10c8a4c18>"
      ]
     },
     "execution_count": 6,
     "metadata": {},
     "output_type": "execute_result"
    },
    {
     "data": {
      "image/png": "[encoded data removed]",
      "text/plain": [
       "<Figure size 432x288 with 1 Axes>"
      ]
     },
     "metadata": {
      "needs_background": "light"
     },
     "output_type": "display_data"
    }
   ],
   "source": [
    "# Plot a bar chart of the top 20 market cap companies\n"
   ]
  },
  {
   "cell_type": "markdown",
   "metadata": {},
   "source": [
    "### Plot Relationship Between Price and Earnings/Share"
   ]
  },
  {
   "cell_type": "code",
   "execution_count": 7,
   "metadata": {},
   "outputs": [
    {
     "data": {
      "text/plain": [
       "<matplotlib.axes._subplots.AxesSubplot at 0x11e50ec18>"
      ]
     },
     "execution_count": 7,
     "metadata": {},
     "output_type": "execute_result"
    },
    {
     "data": {
      "image/png": "[encoded data removed]",
      "text/plain": [
       "<Figure size 432x288 with 1 Axes>"
      ]
     },
     "metadata": {
      "needs_background": "light"
     },
     "output_type": "display_data"
    }
   ],
   "source": [
    "# Plot a scatter plot to display the relationship between price vs. earnings/share\n"
   ]
  },
  {
   "cell_type": "code",
   "execution_count": null,
   "metadata": {},
   "outputs": [],
   "source": []
  }
 ],
 "metadata": {
  "kernelspec": {
   "display_name": "Python 3",
   "language": "python",
   "name": "python3"
  },
  "language_info": {
   "codemirror_mode": {
    "name": "ipython",
    "version": 3
   },
   "file_extension": ".py",
   "mimetype": "text/x-python",
   "name": "python",
   "nbconvert_exporter": "python",
   "pygments_lexer": "ipython3",
   "version": "3.8.5"
  }
 },
 "nbformat": 4,
 "nbformat_minor": 4
}
