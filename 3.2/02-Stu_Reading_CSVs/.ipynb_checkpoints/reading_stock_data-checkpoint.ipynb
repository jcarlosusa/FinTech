{
 "cells": [
  {
   "cell_type": "markdown",
   "metadata": {},
   "source": [
    "# Student Activity: Reading Stocks Data from a CSV\n",
    "\n",
    "\n",
    "# Reading Stock Data from a CSV File\n",
    "\n",
    "Now that you see how easy it is to work with spreadsheet data in Pandas, let's practice on some real financial data! In this activity, you will create a DataFrame from a CSV file and then explore its contents using the DataFrame's built-in functions.\n",
    "\n",
    "## Instructions\n",
    "\n",
    "Using the [starter file](Unsolved/reading_stock_data.ipynb), complete the following steps.\n",
    "\n",
    "1. Import the Pandas library by initializing the program with `import pandas as pd`.\n",
    "\n",
    "2. Create a DataFrame by reading in the `amd_stock_data.csv` file containing the last 10 years of historical price data for AMD.\n",
    "\n",
    "3. Perform an initial data exploration by getting the top 10 rows of the DataFrame.\n",
    "\n",
    "4. Oh no! There are no columns names on the DataFrame. Fix this problem by recreating the DataFrame and setting the columns names to \"Date\", \"Close\", \"Volume\", \"Open\", \"High\", \"Low\".\n",
    "\n",
    "5. When the columns names are fixed, get the first 10 rows from the DataFrame.\n",
    "\n",
    "## Challenge\n",
    "\n",
    "Get the bottom 10 rows of the DataFrame. Use Google to figure out how to do this.\n",
    "\n",
    "## Hint\n",
    "\n",
    "Consult the Pandas [`head()` function documentation](https://pandas.pydata.org/pandas-docs/stable/reference/api/pandas.DataFrame.head.html).\n",
    "\n",
    "---\n",
    "\n",
    "© 2019 Trilogy Education Services, a 2U, Inc. brand. All Rights Reserved.\n",
    "\n",
    "\n",
    "## 1. Import the pandas library as _pd_"
   ]
  },
  {
   "cell_type": "code",
   "execution_count": null,
   "metadata": {},
   "outputs": [],
   "source": [
    "# initial imports\n"
   ]
  },
  {
   "cell_type": "markdown",
   "metadata": {},
   "source": [
    "## 2. Create a dataframe reading a CSV file"
   ]
  },
  {
   "cell_type": "code",
   "execution_count": null,
   "metadata": {},
   "outputs": [],
   "source": [
    "# set the file path\n",
    "\n",
    "\n",
    "# create a Pandas dataframe from a csv file\n"
   ]
  },
  {
   "cell_type": "markdown",
   "metadata": {},
   "source": [
    "## 3. Exploring the data"
   ]
  },
  {
   "cell_type": "code",
   "execution_count": null,
   "metadata": {},
   "outputs": [],
   "source": [
    "# get the first 10 rows from the dataframe\n"
   ]
  },
  {
   "cell_type": "markdown",
   "metadata": {},
   "source": [
    "## 4. Fixing column names"
   ]
  },
  {
   "cell_type": "code",
   "execution_count": null,
   "metadata": {},
   "outputs": [],
   "source": [
    "# set colum names\n",
    "\n",
    "\n",
    "# recreate the dataframe\n",
    "\n",
    "\n",
    "# add columns names\n"
   ]
  },
  {
   "cell_type": "markdown",
   "metadata": {},
   "source": [
    "## 5. Get the first 10 rows"
   ]
  },
  {
   "cell_type": "code",
   "execution_count": null,
   "metadata": {},
   "outputs": [],
   "source": [
    "# get the first 10 rows from the dataframe\n"
   ]
  },
  {
   "cell_type": "markdown",
   "metadata": {},
   "source": [
    "## 6. Get the bottom 10 rows"
   ]
  },
  {
   "cell_type": "code",
   "execution_count": null,
   "metadata": {},
   "outputs": [],
   "source": [
    "# get the bottom 10 rows from the dataframe\n"
   ]
  }
 ],
 "metadata": {
  "kernelspec": {
   "display_name": "Python 3",
   "language": "python",
   "name": "python3"
  },
  "language_info": {
   "codemirror_mode": {
    "name": "ipython",
    "version": 3
   },
   "file_extension": ".py",
   "mimetype": "text/x-python",
   "name": "python",
   "nbconvert_exporter": "python",
   "pygments_lexer": "ipython3",
   "version": "3.7.6"
  }
 },
 "nbformat": 4,
 "nbformat_minor": 4
}
