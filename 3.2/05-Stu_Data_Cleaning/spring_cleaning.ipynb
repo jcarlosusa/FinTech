{
 "cells": [
  {
   "cell_type": "markdown",
   "metadata": {},
   "source": [
    "# Spring Cleaning!\n",
    "\n",
    "It's that time of year again: the end of the fiscal year and the time to begin financial spring cleaning! Within a month, auditors will be camped out at your investment firm, inspecting everyone's trades and the company's end-of-year financial statements. All of the traders in the firm are under a lot of pressure to finalize their portfolio earnings and deliver them to their managers. That is, all traders except you.\n",
    "\n",
    "You automated your end-of-year financial reporting last week, and now you're using the pipeline to help out Harold with his reports. Before loading Harold's stock ticker data into Pandas, you open the Excel file he sent you to look at the quality of the data. You realize that Harold has not subscribed to any data quality standards and that the data is a mess.\n",
    "\n",
    "For this activity, use Pandas to clean Harold's portfolio data to get it fit for use.\n",
    "\n",
    "## Instructions\n",
    "\n",
    "Using the [starter file](Unsolved/Core/spring_cleaning.ipynb) and Harold's financial [data](Resources/stock_data.csv), complete the following steps.\n",
    "\n",
    "1. Load CSV data into Pandas using `read_csv`.\n",
    "\n",
    "2. Identify the number of rows and columns in the DataFrame, otherwise known as its shape/structure.\n",
    "\n",
    "3. Generate a sample of the data to visually ensure data has been loaded in correctly.\n",
    "\n",
    "4. Identify the number of records in the DataFrame, and compare it with the number of rows in the original file.\n",
    "\n",
    "5. Identify null records by calculating average percent of nulls for each Series. **Hint:** This step will require the `mean` function.\n",
    "\n",
    "6. Drop null records.\n",
    "\n",
    "7. Validate all nulls have been dropped by calculating the `sum` of values that are null.\n",
    "\n",
    "8. Default null `ebitda` values to 0.\n",
    "\n",
    "9. Check that there are no null `ebitda` values using the `sum` function.\n",
    "\n",
    "10. Remove duplicate rows.\n",
    "\n",
    "## Challenge\n",
    "\n",
    "Complete this challenge using the [starter file](Unsolved/Challenge/spring_cleaning.ipynb).\n",
    "\n",
    "Now that nulls and duplicates have been wrangled, clean up the data a little more by removing the `$` currency symbols from the `price` field. Then, use the `astype` function to cast `price` to a `float`.\n",
    "\n",
    "## Hint\n",
    "\n",
    "Pandas offers a `replace` function that can be executed against a Series. Documentation can be found [here](https://pandas.pydata.org/pandas-docs/stable/reference/api/pandas.Series.replace.html).\n"
   ]
  },
  {
   "cell_type": "markdown",
   "metadata": {},
   "source": [
    "Harold's stock data is a mess! Help him clean up his data before the auditors arrive!"
   ]
  },
  {
   "cell_type": "code",
   "execution_count": 2,
   "metadata": {},
   "outputs": [],
   "source": [
    "# Import Libraries\n",
    "import pandas as pd\n"
   ]
  },
  {
   "cell_type": "markdown",
   "metadata": {},
   "source": [
    "### Load CSV data into Pandas using `read_csv`"
   ]
  },
  {
   "cell_type": "code",
   "execution_count": 3,
   "metadata": {},
   "outputs": [
    {
     "data": {
      "text/html": [
       "<div>\n",
       "<style scoped>\n",
       "    .dataframe tbody tr th:only-of-type {\n",
       "        vertical-align: middle;\n",
       "    }\n",
       "\n",
       "    .dataframe tbody tr th {\n",
       "        vertical-align: top;\n",
       "    }\n",
       "\n",
       "    .dataframe thead th {\n",
       "        text-align: right;\n",
       "    }\n",
       "</style>\n",
       "<table border=\"1\" class=\"dataframe\">\n",
       "  <thead>\n",
       "    <tr style=\"text-align: right;\">\n",
       "      <th></th>\n",
       "      <th>symbol</th>\n",
       "      <th>name</th>\n",
       "      <th>sector</th>\n",
       "      <th>price</th>\n",
       "      <th>price_per_earnings</th>\n",
       "      <th>dividend_yield</th>\n",
       "      <th>earnings_per_share</th>\n",
       "      <th>52_week_low</th>\n",
       "      <th>52_week_high</th>\n",
       "      <th>market_cap</th>\n",
       "      <th>ebitda</th>\n",
       "      <th>price_per_sales</th>\n",
       "      <th>price_per_book</th>\n",
       "      <th>sec_filings</th>\n",
       "    </tr>\n",
       "  </thead>\n",
       "  <tbody>\n",
       "    <tr>\n",
       "      <th>0</th>\n",
       "      <td>MMM</td>\n",
       "      <td>3M Company</td>\n",
       "      <td>Industrials</td>\n",
       "      <td>$222.89</td>\n",
       "      <td>24.31</td>\n",
       "      <td>2.332862</td>\n",
       "      <td>$7.92</td>\n",
       "      <td>259.770</td>\n",
       "      <td>175.49</td>\n",
       "      <td>1.387211e+11</td>\n",
       "      <td>9.048000e+09</td>\n",
       "      <td>4.390271</td>\n",
       "      <td>11.34</td>\n",
       "      <td>http://www.sec.gov/cgi-bin/browse-edgar?action...</td>\n",
       "    </tr>\n",
       "    <tr>\n",
       "      <th>1</th>\n",
       "      <td>AOS</td>\n",
       "      <td>A.O. Smith Corp</td>\n",
       "      <td>Industrials</td>\n",
       "      <td>NaN</td>\n",
       "      <td>NaN</td>\n",
       "      <td>NaN</td>\n",
       "      <td>NaN</td>\n",
       "      <td>NaN</td>\n",
       "      <td>NaN</td>\n",
       "      <td>NaN</td>\n",
       "      <td>NaN</td>\n",
       "      <td>NaN</td>\n",
       "      <td>NaN</td>\n",
       "      <td>NaN</td>\n",
       "    </tr>\n",
       "    <tr>\n",
       "      <th>2</th>\n",
       "      <td>ABT</td>\n",
       "      <td>Abbott Laboratories</td>\n",
       "      <td>Health Care</td>\n",
       "      <td>56.27</td>\n",
       "      <td>22.51</td>\n",
       "      <td>1.908982</td>\n",
       "      <td>0.26</td>\n",
       "      <td>64.600</td>\n",
       "      <td>42.28</td>\n",
       "      <td>1.021210e+11</td>\n",
       "      <td>5.744000e+09</td>\n",
       "      <td>3.740480</td>\n",
       "      <td>3.19</td>\n",
       "      <td>http://www.sec.gov/cgi-bin/browse-edgar?action...</td>\n",
       "    </tr>\n",
       "    <tr>\n",
       "      <th>3</th>\n",
       "      <td>ABBV</td>\n",
       "      <td>AbbVie Inc.</td>\n",
       "      <td>Health Care</td>\n",
       "      <td>108.48</td>\n",
       "      <td>19.41</td>\n",
       "      <td>2.499560</td>\n",
       "      <td>3.29</td>\n",
       "      <td>125.860</td>\n",
       "      <td>60.05</td>\n",
       "      <td>1.813863e+11</td>\n",
       "      <td>1.031000e+10</td>\n",
       "      <td>6.291571</td>\n",
       "      <td>26.14</td>\n",
       "      <td>http://www.sec.gov/cgi-bin/browse-edgar?action...</td>\n",
       "    </tr>\n",
       "    <tr>\n",
       "      <th>4</th>\n",
       "      <td>ATVI</td>\n",
       "      <td>Activision Blizzard</td>\n",
       "      <td>Information Technology</td>\n",
       "      <td>65.83</td>\n",
       "      <td>NaN</td>\n",
       "      <td>0.431903</td>\n",
       "      <td>1.28</td>\n",
       "      <td>74.945</td>\n",
       "      <td>38.93</td>\n",
       "      <td>5.251867e+10</td>\n",
       "      <td>2.704000e+09</td>\n",
       "      <td>10.595120</td>\n",
       "      <td>5.16</td>\n",
       "      <td>http://www.sec.gov/cgi-bin/browse-edgar?action...</td>\n",
       "    </tr>\n",
       "    <tr>\n",
       "      <th>...</th>\n",
       "      <td>...</td>\n",
       "      <td>...</td>\n",
       "      <td>...</td>\n",
       "      <td>...</td>\n",
       "      <td>...</td>\n",
       "      <td>...</td>\n",
       "      <td>...</td>\n",
       "      <td>...</td>\n",
       "      <td>...</td>\n",
       "      <td>...</td>\n",
       "      <td>...</td>\n",
       "      <td>...</td>\n",
       "      <td>...</td>\n",
       "      <td>...</td>\n",
       "    </tr>\n",
       "    <tr>\n",
       "      <th>499</th>\n",
       "      <td>XYL</td>\n",
       "      <td>Xylem Inc.</td>\n",
       "      <td>Industrials</td>\n",
       "      <td>70.24</td>\n",
       "      <td>30.94</td>\n",
       "      <td>1.170079</td>\n",
       "      <td>1.83</td>\n",
       "      <td>76.810</td>\n",
       "      <td>46.86</td>\n",
       "      <td>1.291502e+10</td>\n",
       "      <td>7.220000e+08</td>\n",
       "      <td>2.726209</td>\n",
       "      <td>5.31</td>\n",
       "      <td>http://www.sec.gov/cgi-bin/browse-edgar?action...</td>\n",
       "    </tr>\n",
       "    <tr>\n",
       "      <th>500</th>\n",
       "      <td>YUM</td>\n",
       "      <td>Yum! Brands Inc</td>\n",
       "      <td>Consumer Discretionary</td>\n",
       "      <td>76.3</td>\n",
       "      <td>27.25</td>\n",
       "      <td>1.797080</td>\n",
       "      <td>4.07</td>\n",
       "      <td>86.930</td>\n",
       "      <td>62.85</td>\n",
       "      <td>2.700330e+10</td>\n",
       "      <td>2.289000e+09</td>\n",
       "      <td>6.313636</td>\n",
       "      <td>212.08</td>\n",
       "      <td>http://www.sec.gov/cgi-bin/browse-edgar?action...</td>\n",
       "    </tr>\n",
       "    <tr>\n",
       "      <th>501</th>\n",
       "      <td>ZBH</td>\n",
       "      <td>Zimmer Biomet Holdings</td>\n",
       "      <td>Health Care</td>\n",
       "      <td>115.53</td>\n",
       "      <td>14.32</td>\n",
       "      <td>0.794834</td>\n",
       "      <td>9.01</td>\n",
       "      <td>133.490</td>\n",
       "      <td>108.17</td>\n",
       "      <td>2.445470e+10</td>\n",
       "      <td>2.007400e+09</td>\n",
       "      <td>3.164895</td>\n",
       "      <td>2.39</td>\n",
       "      <td>http://www.sec.gov/cgi-bin/browse-edgar?action...</td>\n",
       "    </tr>\n",
       "    <tr>\n",
       "      <th>502</th>\n",
       "      <td>ZION</td>\n",
       "      <td>Zions Bancorp</td>\n",
       "      <td>Financials</td>\n",
       "      <td>50.71</td>\n",
       "      <td>17.73</td>\n",
       "      <td>1.480933</td>\n",
       "      <td>2.6</td>\n",
       "      <td>55.610</td>\n",
       "      <td>38.43</td>\n",
       "      <td>1.067068e+10</td>\n",
       "      <td>0.000000e+00</td>\n",
       "      <td>3.794579</td>\n",
       "      <td>1.42</td>\n",
       "      <td>http://www.sec.gov/cgi-bin/browse-edgar?action...</td>\n",
       "    </tr>\n",
       "    <tr>\n",
       "      <th>503</th>\n",
       "      <td>ZTS</td>\n",
       "      <td>Zoetis</td>\n",
       "      <td>Health Care</td>\n",
       "      <td>71.51</td>\n",
       "      <td>32.80</td>\n",
       "      <td>0.682372</td>\n",
       "      <td>1.65</td>\n",
       "      <td>80.130</td>\n",
       "      <td>52.00</td>\n",
       "      <td>3.599111e+10</td>\n",
       "      <td>1.734000e+09</td>\n",
       "      <td>9.280896</td>\n",
       "      <td>18.09</td>\n",
       "      <td>http://www.sec.gov/cgi-bin/browse-edgar?action...</td>\n",
       "    </tr>\n",
       "  </tbody>\n",
       "</table>\n",
       "<p>504 rows × 14 columns</p>\n",
       "</div>"
      ],
      "text/plain": [
       "    symbol                    name                  sector    price  \\\n",
       "0      MMM              3M Company             Industrials  $222.89   \n",
       "1      AOS         A.O. Smith Corp             Industrials      NaN   \n",
       "2      ABT     Abbott Laboratories             Health Care    56.27   \n",
       "3     ABBV             AbbVie Inc.             Health Care   108.48   \n",
       "4     ATVI     Activision Blizzard  Information Technology    65.83   \n",
       "..     ...                     ...                     ...      ...   \n",
       "499    XYL              Xylem Inc.             Industrials    70.24   \n",
       "500    YUM         Yum! Brands Inc  Consumer Discretionary     76.3   \n",
       "501    ZBH  Zimmer Biomet Holdings             Health Care   115.53   \n",
       "502   ZION           Zions Bancorp              Financials    50.71   \n",
       "503    ZTS                  Zoetis             Health Care    71.51   \n",
       "\n",
       "     price_per_earnings  dividend_yield earnings_per_share  52_week_low  \\\n",
       "0                 24.31        2.332862              $7.92      259.770   \n",
       "1                   NaN             NaN                NaN          NaN   \n",
       "2                 22.51        1.908982               0.26       64.600   \n",
       "3                 19.41        2.499560               3.29      125.860   \n",
       "4                   NaN        0.431903               1.28       74.945   \n",
       "..                  ...             ...                ...          ...   \n",
       "499               30.94        1.170079               1.83       76.810   \n",
       "500               27.25        1.797080               4.07       86.930   \n",
       "501               14.32        0.794834               9.01      133.490   \n",
       "502               17.73        1.480933                2.6       55.610   \n",
       "503               32.80        0.682372               1.65       80.130   \n",
       "\n",
       "     52_week_high    market_cap        ebitda  price_per_sales  \\\n",
       "0          175.49  1.387211e+11  9.048000e+09         4.390271   \n",
       "1             NaN           NaN           NaN              NaN   \n",
       "2           42.28  1.021210e+11  5.744000e+09         3.740480   \n",
       "3           60.05  1.813863e+11  1.031000e+10         6.291571   \n",
       "4           38.93  5.251867e+10  2.704000e+09        10.595120   \n",
       "..            ...           ...           ...              ...   \n",
       "499         46.86  1.291502e+10  7.220000e+08         2.726209   \n",
       "500         62.85  2.700330e+10  2.289000e+09         6.313636   \n",
       "501        108.17  2.445470e+10  2.007400e+09         3.164895   \n",
       "502         38.43  1.067068e+10  0.000000e+00         3.794579   \n",
       "503         52.00  3.599111e+10  1.734000e+09         9.280896   \n",
       "\n",
       "     price_per_book                                        sec_filings  \n",
       "0             11.34  http://www.sec.gov/cgi-bin/browse-edgar?action...  \n",
       "1               NaN                                                NaN  \n",
       "2              3.19  http://www.sec.gov/cgi-bin/browse-edgar?action...  \n",
       "3             26.14  http://www.sec.gov/cgi-bin/browse-edgar?action...  \n",
       "4              5.16  http://www.sec.gov/cgi-bin/browse-edgar?action...  \n",
       "..              ...                                                ...  \n",
       "499            5.31  http://www.sec.gov/cgi-bin/browse-edgar?action...  \n",
       "500          212.08  http://www.sec.gov/cgi-bin/browse-edgar?action...  \n",
       "501            2.39  http://www.sec.gov/cgi-bin/browse-edgar?action...  \n",
       "502            1.42  http://www.sec.gov/cgi-bin/browse-edgar?action...  \n",
       "503           18.09  http://www.sec.gov/cgi-bin/browse-edgar?action...  \n",
       "\n",
       "[504 rows x 14 columns]"
      ]
     },
     "execution_count": 3,
     "metadata": {},
     "output_type": "execute_result"
    }
   ],
   "source": [
    "csv_data = pd.read_csv('stock_data.csv')\n",
    "csv_data"
   ]
  },
  {
   "cell_type": "markdown",
   "metadata": {},
   "source": [
    "### Identify the number of rows and columns (shape) in the DataFrame."
   ]
  },
  {
   "cell_type": "code",
   "execution_count": null,
   "metadata": {},
   "outputs": [],
   "source": []
  },
  {
   "cell_type": "markdown",
   "metadata": {},
   "source": [
    "### Generate a sample of the data to visually ensure data has been loaded in correctly."
   ]
  },
  {
   "cell_type": "code",
   "execution_count": null,
   "metadata": {},
   "outputs": [],
   "source": []
  },
  {
   "cell_type": "markdown",
   "metadata": {},
   "source": [
    "### Identify the number of records in the DataFrame, and compare it with the number of rows in the original file."
   ]
  },
  {
   "cell_type": "code",
   "execution_count": null,
   "metadata": {},
   "outputs": [],
   "source": []
  },
  {
   "cell_type": "markdown",
   "metadata": {},
   "source": [
    "### Identify nulls records"
   ]
  },
  {
   "cell_type": "code",
   "execution_count": null,
   "metadata": {},
   "outputs": [],
   "source": []
  },
  {
   "cell_type": "markdown",
   "metadata": {},
   "source": [
    "### Drop Null Records"
   ]
  },
  {
   "cell_type": "code",
   "execution_count": null,
   "metadata": {},
   "outputs": [],
   "source": []
  },
  {
   "cell_type": "markdown",
   "metadata": {},
   "source": [
    "### Validate nulls have been dropped"
   ]
  },
  {
   "cell_type": "code",
   "execution_count": null,
   "metadata": {},
   "outputs": [],
   "source": []
  },
  {
   "cell_type": "markdown",
   "metadata": {},
   "source": [
    "### Default null `ebitda` values to 0. Then, validate no records are null for ebitda."
   ]
  },
  {
   "cell_type": "code",
   "execution_count": null,
   "metadata": {},
   "outputs": [],
   "source": []
  },
  {
   "cell_type": "markdown",
   "metadata": {},
   "source": [
    "### Drop Duplicates"
   ]
  },
  {
   "cell_type": "code",
   "execution_count": null,
   "metadata": {},
   "outputs": [],
   "source": []
  },
  {
   "cell_type": "markdown",
   "metadata": {},
   "source": [
    "### Sample `price` field"
   ]
  },
  {
   "cell_type": "code",
   "execution_count": null,
   "metadata": {},
   "outputs": [],
   "source": []
  },
  {
   "cell_type": "markdown",
   "metadata": {},
   "source": [
    "### Clean `price` Series by replacing `$`"
   ]
  },
  {
   "cell_type": "code",
   "execution_count": null,
   "metadata": {},
   "outputs": [],
   "source": []
  },
  {
   "cell_type": "markdown",
   "metadata": {},
   "source": [
    "### Confirm data type of `price`"
   ]
  },
  {
   "cell_type": "code",
   "execution_count": null,
   "metadata": {},
   "outputs": [],
   "source": []
  },
  {
   "cell_type": "markdown",
   "metadata": {},
   "source": [
    "### Cast `price` Series as float and then validate using `dtype`"
   ]
  },
  {
   "cell_type": "code",
   "execution_count": null,
   "metadata": {},
   "outputs": [],
   "source": []
  }
 ],
 "metadata": {
  "kernelspec": {
   "display_name": "Python 3",
   "language": "python",
   "name": "python3"
  },
  "language_info": {
   "codemirror_mode": {
    "name": "ipython",
    "version": 3
   },
   "file_extension": ".py",
   "mimetype": "text/x-python",
   "name": "python",
   "nbconvert_exporter": "python",
   "pygments_lexer": "ipython3",
   "version": "3.8.5"
  }
 },
 "nbformat": 4,
 "nbformat_minor": 4
}
