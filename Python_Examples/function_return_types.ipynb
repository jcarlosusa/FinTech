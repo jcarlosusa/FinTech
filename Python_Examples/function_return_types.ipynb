{
 "cells": [
  {
   "cell_type": "code",
   "execution_count": 13,
   "metadata": {
    "id": "NDbN4LZZ93kn"
   },
   "outputs": [],
   "source": [
    "# Define a function that returns an object\n",
    "def something(num):\n",
    "  return num"
   ]
  },
  {
   "cell_type": "code",
   "execution_count": 15,
   "metadata": {
    "id": "8Zr77N_C-EgZ"
   },
   "outputs": [],
   "source": [
    "# Define a function that prints a value\n",
    "def something_else(num):\n",
    "  print(num)"
   ]
  },
  {
   "cell_type": "code",
   "execution_count": 21,
   "metadata": {
    "colab": {
     "base_uri": "https://localhost:8080/"
    },
    "id": "W7s4qmqK-hHQ",
    "outputId": "7b4be351-5c82-43e5-a26d-bb8a05bf1c23"
   },
   "outputs": [
    {
     "name": "stdout",
     "output_type": "stream",
     "text": [
      "<class 'int'>\n"
     ]
    }
   ],
   "source": [
    "# The type of a variable that is explicitly delcared in Python\n",
    "var = 10\n",
    "print(type(var))"
   ]
  },
  {
   "cell_type": "code",
   "execution_count": 19,
   "metadata": {
    "colab": {
     "base_uri": "https://localhost:8080/"
    },
    "id": "Qzgy0wNS96VX",
    "outputId": "66426c6c-f0e4-4f52-91fc-22612553630a"
   },
   "outputs": [
    {
     "name": "stdout",
     "output_type": "stream",
     "text": [
      "10\n",
      "<class 'int'>\n"
     ]
    }
   ],
   "source": [
    "# The type of a variable that is returned as an object in Python\n",
    "var_1 = something(10)\n",
    "print(type(var_1))"
   ]
  },
  {
   "cell_type": "code",
   "execution_count": 20,
   "metadata": {
    "colab": {
     "base_uri": "https://localhost:8080/"
    },
    "id": "uOwbBwws9-_5",
    "outputId": "e1ddca9a-3265-4eb8-8711-76d1b3f99f52"
   },
   "outputs": [
    {
     "name": "stdout",
     "output_type": "stream",
     "text": [
      "10\n",
      "<class 'NoneType'>\n"
     ]
    }
   ],
   "source": [
    "# The type of a variable that is printed from a function in Python\n",
    "var_2 = something_else(10)\n",
    "print(type(var_2))"
   ]
  }
 ],
 "metadata": {
  "colab": {
   "collapsed_sections": [],
   "name": "function_return_types.ipynb",
   "provenance": []
  },
  "kernelspec": {
   "display_name": "Python 3",
   "language": "python",
   "name": "python3"
  },
  "language_info": {
   "codemirror_mode": {
    "name": "ipython",
    "version": 3
   },
   "file_extension": ".py",
   "mimetype": "text/x-python",
   "name": "python",
   "nbconvert_exporter": "python",
   "pygments_lexer": "ipython3",
   "version": "3.8.5"
  }
 },
 "nbformat": 4,
 "nbformat_minor": 4
}
