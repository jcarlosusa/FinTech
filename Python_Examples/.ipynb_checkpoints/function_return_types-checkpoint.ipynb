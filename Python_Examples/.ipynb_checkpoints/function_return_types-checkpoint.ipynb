{
  "nbformat": 4,
  "nbformat_minor": 0,
  "metadata": {
    "colab": {
      "name": "function_return_types.ipynb",
      "provenance": [],
      "collapsed_sections": []
    },
    "kernelspec": {
      "name": "python3",
      "display_name": "Python 3"
    }
  },
  "cells": [
    {
      "cell_type": "code",
      "metadata": {
        "id": "NDbN4LZZ93kn"
      },
      "source": [
        "# Define a function that returns an object\n",
        "def something(num):\n",
        "  return num"
      ],
      "execution_count": 13,
      "outputs": []
    },
    {
      "cell_type": "code",
      "metadata": {
        "id": "8Zr77N_C-EgZ"
      },
      "source": [
        "# Define a function that prints a value\n",
        "def something_else(num):\n",
        "  print(num)"
      ],
      "execution_count": 15,
      "outputs": []
    },
    {
      "cell_type": "code",
      "metadata": {
        "colab": {
          "base_uri": "https://localhost:8080/"
        },
        "id": "W7s4qmqK-hHQ",
        "outputId": "7b4be351-5c82-43e5-a26d-bb8a05bf1c23"
      },
      "source": [
        "# The type of a variable that is explicitly delcared in Python\n",
        "var = 10\n",
        "print(type(var))"
      ],
      "execution_count": 21,
      "outputs": [
        {
          "output_type": "stream",
          "text": [
            "<class 'int'>\n"
          ],
          "name": "stdout"
        }
      ]
    },
    {
      "cell_type": "code",
      "metadata": {
        "colab": {
          "base_uri": "https://localhost:8080/"
        },
        "id": "Qzgy0wNS96VX",
        "outputId": "66426c6c-f0e4-4f52-91fc-22612553630a"
      },
      "source": [
        "# The type of a variable that is returned as an object in Python\n",
        "var_1 = something(10)\n",
        "print(type(var_1))"
      ],
      "execution_count": 19,
      "outputs": [
        {
          "output_type": "stream",
          "text": [
            "10\n",
            "<class 'int'>\n"
          ],
          "name": "stdout"
        }
      ]
    },
    {
      "cell_type": "code",
      "metadata": {
        "colab": {
          "base_uri": "https://localhost:8080/"
        },
        "id": "uOwbBwws9-_5",
        "outputId": "e1ddca9a-3265-4eb8-8711-76d1b3f99f52"
      },
      "source": [
        "# The type of a variable that is printed from a function in Python\n",
        "var_2 = something_else(10)\n",
        "print(type(var_2))"
      ],
      "execution_count": 20,
      "outputs": [
        {
          "output_type": "stream",
          "text": [
            "10\n",
            "<class 'NoneType'>\n"
          ],
          "name": "stdout"
        }
      ]
    }
  ]
}