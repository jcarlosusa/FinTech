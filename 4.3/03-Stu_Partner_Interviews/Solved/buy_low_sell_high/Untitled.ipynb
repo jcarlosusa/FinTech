{
 "cells": [
  {
   "cell_type": "code",
   "execution_count": 33,
   "metadata": {},
   "outputs": [
    {
     "name": "stdout",
     "output_type": "stream",
     "text": [
      "[1.42, 1.32, 1.45, 1.2, 1.34, 1.74, 1.1, 1.89, 1.42, 1.9, 1.8, 1.85] ['10:00', '10:05', '10:10', '10:15', '10:20', '10:25', '10:30', '10:35', '10:40', '10:45', '10:55', '11:00']\n"
     ]
    }
   ],
   "source": [
    "# Strock prices at 5 minute intervals \n",
    "# 10,000 Shares First Investment \n",
    "# $4,300 Profit\n",
    "# Purchased at 10:00 am\n",
    "# Sold at 11:00 am\n",
    "\n",
    "stock_price = [1.42, 1.32, 1.45, 1.20, 1.34, 1.74, 1.10, 1.89, 1.42, 1.90, 1.80, 1.85]\n",
    "\n",
    "time = [\"10:00\", \"10:05\", \"10:10\", \"10:15\", \"10:20\", \"10:25\", \"10:30\", \"10:35\", \"10:40\", \"10:45\", \"10:55\", \"11:00\"]\n",
    "\n",
    "print(stock_price, time)"
   ]
  },
  {
   "cell_type": "code",
   "execution_count": 35,
   "metadata": {},
   "outputs": [
    {
     "data": {
      "text/plain": [
       "{'time': ['10:00',\n",
       "  '10:05',\n",
       "  '10:10',\n",
       "  '10:15',\n",
       "  '10:20',\n",
       "  '10:25',\n",
       "  '10:30',\n",
       "  '10:35',\n",
       "  '10:40',\n",
       "  '10:45',\n",
       "  '10:55',\n",
       "  '11:00'],\n",
       " 'stock_price': [1.42,\n",
       "  1.32,\n",
       "  1.45,\n",
       "  1.2,\n",
       "  1.34,\n",
       "  1.74,\n",
       "  1.1,\n",
       "  1.89,\n",
       "  1.42,\n",
       "  1.9,\n",
       "  1.8,\n",
       "  1.85]}"
      ]
     },
     "execution_count": 35,
     "metadata": {},
     "output_type": "execute_result"
    }
   ],
   "source": [
    "trading = {'time': time, 'stock_price':stock_price}\n",
    "trading           "
   ]
  },
  {
   "cell_type": "code",
   "execution_count": 36,
   "metadata": {},
   "outputs": [],
   "source": [
    "import pandas as pd\n"
   ]
  },
  {
   "cell_type": "code",
   "execution_count": 38,
   "metadata": {},
   "outputs": [
    {
     "data": {
      "text/html": [
       "<div>\n",
       "<style scoped>\n",
       "    .dataframe tbody tr th:only-of-type {\n",
       "        vertical-align: middle;\n",
       "    }\n",
       "\n",
       "    .dataframe tbody tr th {\n",
       "        vertical-align: top;\n",
       "    }\n",
       "\n",
       "    .dataframe thead th {\n",
       "        text-align: right;\n",
       "    }\n",
       "</style>\n",
       "<table border=\"1\" class=\"dataframe\">\n",
       "  <thead>\n",
       "    <tr style=\"text-align: right;\">\n",
       "      <th></th>\n",
       "      <th>time</th>\n",
       "      <th>stock_price</th>\n",
       "    </tr>\n",
       "  </thead>\n",
       "  <tbody>\n",
       "    <tr>\n",
       "      <th>0</th>\n",
       "      <td>10:00</td>\n",
       "      <td>1.42</td>\n",
       "    </tr>\n",
       "    <tr>\n",
       "      <th>1</th>\n",
       "      <td>10:05</td>\n",
       "      <td>1.32</td>\n",
       "    </tr>\n",
       "    <tr>\n",
       "      <th>2</th>\n",
       "      <td>10:10</td>\n",
       "      <td>1.45</td>\n",
       "    </tr>\n",
       "    <tr>\n",
       "      <th>3</th>\n",
       "      <td>10:15</td>\n",
       "      <td>1.20</td>\n",
       "    </tr>\n",
       "    <tr>\n",
       "      <th>4</th>\n",
       "      <td>10:20</td>\n",
       "      <td>1.34</td>\n",
       "    </tr>\n",
       "    <tr>\n",
       "      <th>5</th>\n",
       "      <td>10:25</td>\n",
       "      <td>1.74</td>\n",
       "    </tr>\n",
       "    <tr>\n",
       "      <th>6</th>\n",
       "      <td>10:30</td>\n",
       "      <td>1.10</td>\n",
       "    </tr>\n",
       "    <tr>\n",
       "      <th>7</th>\n",
       "      <td>10:35</td>\n",
       "      <td>1.89</td>\n",
       "    </tr>\n",
       "    <tr>\n",
       "      <th>8</th>\n",
       "      <td>10:40</td>\n",
       "      <td>1.42</td>\n",
       "    </tr>\n",
       "    <tr>\n",
       "      <th>9</th>\n",
       "      <td>10:45</td>\n",
       "      <td>1.90</td>\n",
       "    </tr>\n",
       "    <tr>\n",
       "      <th>10</th>\n",
       "      <td>10:55</td>\n",
       "      <td>1.80</td>\n",
       "    </tr>\n",
       "    <tr>\n",
       "      <th>11</th>\n",
       "      <td>11:00</td>\n",
       "      <td>1.85</td>\n",
       "    </tr>\n",
       "  </tbody>\n",
       "</table>\n",
       "</div>"
      ],
      "text/plain": [
       "     time  stock_price\n",
       "0   10:00         1.42\n",
       "1   10:05         1.32\n",
       "2   10:10         1.45\n",
       "3   10:15         1.20\n",
       "4   10:20         1.34\n",
       "5   10:25         1.74\n",
       "6   10:30         1.10\n",
       "7   10:35         1.89\n",
       "8   10:40         1.42\n",
       "9   10:45         1.90\n",
       "10  10:55         1.80\n",
       "11  11:00         1.85"
      ]
     },
     "execution_count": 38,
     "metadata": {},
     "output_type": "execute_result"
    }
   ],
   "source": [
    "df = pd.DataFrame(trading)\n",
    "df"
   ]
  },
  {
   "cell_type": "code",
   "execution_count": 67,
   "metadata": {},
   "outputs": [
    {
     "data": {
      "text/plain": [
       "1.5358333333333336"
      ]
     },
     "execution_count": 67,
     "metadata": {},
     "output_type": "execute_result"
    }
   ],
   "source": [
    "daily_mean = df[\"stock_price\"].mean()\n",
    "daily_mean"
   ]
  },
  {
   "cell_type": "code",
   "execution_count": 56,
   "metadata": {},
   "outputs": [
    {
     "name": "stdout",
     "output_type": "stream",
     "text": [
      "Minimun Stock Price: 1.1\n",
      "Maximun Stock Price: 1.9\n"
     ]
    }
   ],
   "source": [
    "min_price = min(stock_price)\n",
    "print(f\"Minimun Stock Price: {min_price}\")\n",
    "\n",
    "max_price = max(stock_price)\n",
    "print(f\"Maximun Stock Price: {max_price}\")"
   ]
  },
  {
   "cell_type": "code",
   "execution_count": 62,
   "metadata": {},
   "outputs": [
    {
     "data": {
      "text/plain": [
       "11000.0"
      ]
     },
     "execution_count": 62,
     "metadata": {},
     "output_type": "execute_result"
    }
   ],
   "source": [
    "shares = 10000\n",
    "investment = shares * min_price\n",
    "investment"
   ]
  },
  {
   "cell_type": "code",
   "execution_count": 74,
   "metadata": {},
   "outputs": [
    {
     "data": {
      "text/plain": [
       "8000.0"
      ]
     },
     "execution_count": 74,
     "metadata": {},
     "output_type": "execute_result"
    }
   ],
   "source": [
    "max_profit = shares * max_price - shares * min_price\n",
    "max_profit"
   ]
  },
  {
   "cell_type": "code",
   "execution_count": null,
   "metadata": {},
   "outputs": [],
   "source": [
    "min_profit = shares * max_price - shares * min_price\n",
    "max_profit"
   ]
  }
 ],
 "metadata": {
  "kernelspec": {
   "display_name": "Python 3",
   "language": "python",
   "name": "python3"
  },
  "language_info": {
   "codemirror_mode": {
    "name": "ipython",
    "version": 3
   },
   "file_extension": ".py",
   "mimetype": "text/x-python",
   "name": "python",
   "nbconvert_exporter": "python",
   "pygments_lexer": "ipython3",
   "version": "3.8.5"
  }
 },
 "nbformat": 4,
 "nbformat_minor": 4
}
