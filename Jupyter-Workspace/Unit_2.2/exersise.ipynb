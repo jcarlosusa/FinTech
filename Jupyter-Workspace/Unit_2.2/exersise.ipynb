{
 "cells": [
  {
   "cell_type": "code",
   "execution_count": 6,
   "metadata": {},
   "outputs": [
    {
     "name": "stdout",
     "output_type": "stream",
     "text": [
      "My list of groceries:\n",
      "['water', 'butter', 'eggs', 'apples', 'cinnamon', 'sugar', 'milk']\n"
     ]
    }
   ],
   "source": [
    "# @TODO: Create a list of groceries\n",
    "print(\"My list of groceries:\")\n",
    "groceries = [\"water\", \"butter\", \"eggs\", \"apples\", \"cinnamon\", \"sugar\", \"milk\"]\n",
    "print(groceries)"
   ]
  },
  {
   "cell_type": "code",
   "execution_count": 7,
   "metadata": {},
   "outputs": [
    {
     "name": "stdout",
     "output_type": "stream",
     "text": [
      "What are my first two items on the list?\n",
      "['water', 'butter']\n"
     ]
    }
   ],
   "source": [
    "# @TODO: Find the first two items on the list\n",
    "print(\"What are my first two items on the list?\")\n",
    "print(groceries[0:2])"
   ]
  },
  {
   "cell_type": "code",
   "execution_count": 8,
   "metadata": {},
   "outputs": [
    {
     "name": "stdout",
     "output_type": "stream",
     "text": [
      "What are all my items except for the first two on the list?\n",
      "['eggs', 'apples', 'cinnamon', 'sugar', 'milk']\n"
     ]
    }
   ],
   "source": [
    "# @TODO: Find the last five items on the list\n",
    "print(\"What are all my items except for the first two on the list?\")\n",
    "print(groceries[2:7])"
   ]
  },
  {
   "cell_type": "code",
   "execution_count": 15,
   "metadata": {},
   "outputs": [
    {
     "name": "stdout",
     "output_type": "stream",
     "text": [
      "What is every other item on the list, starting from the second item?\n",
      "['butter', 'eggs', 'apples', 'cinnamon', 'sugar', 'milk']\n"
     ]
    }
   ],
   "source": [
    "# @TODO: Find every other item on the list, starting from the second item\n",
    "print(\"What is every other item on the list, starting from the second item?\")\n",
    "print(groceries[1:])"
   ]
  },
  {
   "cell_type": "code",
   "execution_count": 10,
   "metadata": {},
   "outputs": [
    {
     "name": "stdout",
     "output_type": "stream",
     "text": [
      "Oops, forgot to add flour...\n"
     ]
    }
   ],
   "source": [
    "# @TODO: Add an element to the end of the list\n",
    "print(\"Oops, forgot to add flour...\")\n",
    "\n"
   ]
  },
  {
   "cell_type": "code",
   "execution_count": 11,
   "metadata": {},
   "outputs": [
    {
     "name": "stdout",
     "output_type": "stream",
     "text": [
      "I should be more specific with what kind of apples I want...\n"
     ]
    }
   ],
   "source": [
    "# @TODO: Changes a specified element within the list at the given index\n",
    "print(\"I should be more specific with what kind of apples I want...\")\n",
    "\n",
    "\n"
   ]
  },
  {
   "cell_type": "code",
   "execution_count": 12,
   "metadata": {},
   "outputs": [
    {
     "name": "stdout",
     "output_type": "stream",
     "text": [
      "How many items do I have on my shopping list?\n"
     ]
    }
   ],
   "source": [
    "\n",
    "\n",
    "# @TODO: Calculate how many items you have in the list\n",
    "print(\"How many items do I have on my shopping list?\")\n"
   ]
  },
  {
   "cell_type": "code",
   "execution_count": null,
   "metadata": {},
   "outputs": [],
   "source": []
  }
 ],
 "metadata": {
  "kernelspec": {
   "display_name": "Python 3",
   "language": "python",
   "name": "python3"
  },
  "language_info": {
   "codemirror_mode": {
    "name": "ipython",
    "version": 3
   },
   "file_extension": ".py",
   "mimetype": "text/x-python",
   "name": "python",
   "nbconvert_exporter": "python",
   "pygments_lexer": "ipython3",
   "version": "3.8.5"
  }
 },
 "nbformat": 4,
 "nbformat_minor": 4
}
