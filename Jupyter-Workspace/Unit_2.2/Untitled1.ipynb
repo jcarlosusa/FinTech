{
 "cells": [
  {
   "cell_type": "code",
   "execution_count": 4,
   "metadata": {},
   "outputs": [
    {
     "ename": "SyntaxError",
     "evalue": "f-string: closing parenthesis '}' does not match opening parenthesis '(' (<ipython-input-4-43f2f259447c>, line 56)",
     "output_type": "error",
     "traceback": [
      "\u001b[0;36m  File \u001b[0;32m\"<ipython-input-4-43f2f259447c>\"\u001b[0;36m, line \u001b[0;32m56\u001b[0m\n\u001b[0;31m    print(f\"Number of profitable Days: {len(profitable_days}\")\u001b[0m\n\u001b[0m          ^\u001b[0m\n\u001b[0;31mSyntaxError\u001b[0m\u001b[0;31m:\u001b[0m f-string: closing parenthesis '}' does not match opening parenthesis '('\n"
     ]
    }
   ],
   "source": [
    "# @TODO: Initialize the metric variables\n",
    "\n",
    "count = 0\n",
    "total = 0\n",
    "average = 0\n",
    "minimum = 0\n",
    "maximum = 0\n",
    "\n",
    "# @TODO: Initialize lists to hold profitable and unprofitable day profits/losses\n",
    "\n",
    "profitable_days = []\n",
    "unprofitable_days = []\n",
    "\n",
    "# List of trading profits/losses\n",
    "trading_pnl = [ -224,  352, 252, 354, -544,\n",
    "                -650,   56, 123, -43,  254,\n",
    "                 325, -123,  47, 321,  123,\n",
    "                 133, -151, 613, 232, -311 ]\n",
    "\n",
    "# @TODO: Iterate over each element of the list\n",
    "\n",
    "for trade in trading_pnl:\n",
    "    print(trade)\n",
    "   \n",
    "\n",
    "    # @TODO: Cumulatively sum up the total and count\n",
    "    total += trade\n",
    "    count += 1\n",
    "\n",
    "    # @TODO: Write logic to determine minimum and maximum values\n",
    "    minimum=min(trade.minimum)\n",
    "    maximum=max(trade.maximum)\n",
    "    \n",
    "    # @TODO: Write logic to determine profitable vs. unprofitable days\n",
    "\n",
    "    if trade < 0:\n",
    "        unprofitable_days.append(trade)\n",
    "    elif trade > 0:\n",
    "        profitable_days.append(trade)\n",
    "\n",
    "# @TODO: Calculate the average\n",
    "    average = round(total/count,2)\n",
    "\n",
    "# @TODO: Calculate count metrics\n",
    "\n",
    "\n",
    "\n",
    "\n",
    "# @TODO: Calculate percentage metrics\n",
    "\n",
    "\n",
    "\n",
    "# @TODO: Print out the summary statistics\n",
    "print(\"---------Summary Statistics----------\")\n",
    "print(f\"Number of days: {count}\")\n",
    "print(f\"Number of profitable Days: {len(profitable_days}\")\n",
    "print(f\"Number of Unprofitable Days: {len(unprofitable_days}\")"
   ]
  },
  {
   "cell_type": "code",
   "execution_count": null,
   "metadata": {},
   "outputs": [],
   "source": []
  }
 ],
 "metadata": {
  "kernelspec": {
   "display_name": "Python 3",
   "language": "python",
   "name": "python3"
  },
  "language_info": {
   "codemirror_mode": {
    "name": "ipython",
    "version": 3
   },
   "file_extension": ".py",
   "mimetype": "text/x-python",
   "name": "python",
   "nbconvert_exporter": "python",
   "pygments_lexer": "ipython3",
   "version": "3.8.5"
  }
 },
 "nbformat": 4,
 "nbformat_minor": 4
}
