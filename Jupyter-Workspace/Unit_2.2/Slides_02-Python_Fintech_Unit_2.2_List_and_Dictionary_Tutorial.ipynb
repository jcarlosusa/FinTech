{
 "cells": [
  {
   "cell_type": "markdown",
   "metadata": {},
   "source": [
    "# Review"
   ]
  },
  {
   "cell_type": "markdown",
   "metadata": {},
   "source": [
    "## Comments\n",
    "Comments can be made by inserting a **\\#** before your string. In addition we can create a **Docstring**, which is any text encapsulated by **\"\"\"**."
   ]
  },
  {
   "cell_type": "code",
   "execution_count": null,
   "metadata": {},
   "outputs": [],
   "source": [
    "# This is a single line comment, it is denoted by a single hash/pound sign\n",
    "\n",
    "\n",
    "\"\"\"\n",
    "This is a multine line comment or Docstring\n",
    "Docstrings, unlike # comments, are evaluated (more on this later!）\n",
    "\"\"\"\n",
    "\n",
    "\n",
    "# create a markdown cell"
   ]
  },
  {
   "cell_type": "markdown",
   "metadata": {},
   "source": [
    "## Variables\n",
    "\n",
    "Variable is an idea, a concept reserved in the memory hold the information you assign to it. \n",
    "\n",
    "There are three main operations declare it, assign it, call it.\n",
    "\n",
    "Five most commend data types for variables number, string, list, dictionary and tuple."
   ]
  },
  {
   "cell_type": "markdown",
   "metadata": {},
   "source": [
    "### Ints and Float"
   ]
  },
  {
   "cell_type": "code",
   "execution_count": 1,
   "metadata": {},
   "outputs": [
    {
     "name": "stdout",
     "output_type": "stream",
     "text": [
      "60.5\n",
      "sum_of_two\n",
      "60.5\n",
      "subtraction_of_two \n",
      "-30.5\n",
      "sum_of_two \n",
      "682.5\n",
      "sum_of_two \n",
      "0.32967032967032966\n"
     ]
    }
   ],
   "source": [
    "number_1 = 15\n",
    "number_2 = 45.5\n",
    "\n",
    "print(number_1 + number_2)\n",
    "\n",
    "sum_of_two = number_1 + number_2\n",
    "print(\"sum_of_two\")\n",
    "print(sum_of_two)\n",
    "\n",
    "subtraction_of_two = number_1 - number_2\n",
    "print(\"subtraction_of_two \")\n",
    "print(subtraction_of_two)\n",
    "\n",
    "multiplication_of_two = number_1 * number_2\n",
    "print(\"sum_of_two \")\n",
    "print(multiplication_of_two)\n",
    "\n",
    "division_of_two = number_1 / number_2\n",
    "print(\"sum_of_two \")\n",
    "print(division_of_two)\n"
   ]
  },
  {
   "cell_type": "markdown",
   "metadata": {},
   "source": [
    "## Strings\n",
    "String variables are variables that hold zero or more characters \n",
    "such as letters, numbers, spaces, commas and many more. \n",
    "You can't use numeric functions such as addition or subtraction on string variables.\n",
    "It's massage. Distinguish string and variable, you have to put your massage in qutation mark"
   ]
  },
  {
   "cell_type": "code",
   "execution_count": null,
   "metadata": {},
   "outputs": [],
   "source": [
    "pet_name_1 = \"Pudding\"\n",
    "\n",
    "print(pet_name_1)\n",
    "print(type(pet_name_1))\n"
   ]
  },
  {
   "cell_type": "code",
   "execution_count": 2,
   "metadata": {},
   "outputs": [
    {
     "name": "stdout",
     "output_type": "stream",
     "text": [
      "**********\n",
      "hello\n",
      "world\n"
     ]
    }
   ],
   "source": [
    "#Strings\n",
    "\n",
    "print(\"**********\")\n",
    "hello = \"hello\"\n",
    "world = \"world\" # We can also comment after any line of code\n",
    "single_quotes = 'string with single quotes' # Strings can be defined with ' or \"\n",
    "# We can print out any string to the console using the print() function\n",
    "print(hello)\n",
    "print(world)"
   ]
  },
  {
   "cell_type": "code",
   "execution_count": 3,
   "metadata": {},
   "outputs": [
    {
     "name": "stdout",
     "output_type": "stream",
     "text": [
      "**********\n",
      "String Concatenation:\n",
      "hello world\n",
      "hello world 3\n",
      "hello world 3\n"
     ]
    }
   ],
   "source": [
    "## Concatenation\n",
    "\n",
    "print(\"**********\\nString Concatenation:\")\n",
    "hw2 = hello + \" \" + world # Strings can be joined with a simple +\n",
    "print (hw2)\n",
    "hw3 = hello + \" \" + world + \" 3\" # But we can't concatenate other types - this raises an error\n",
    "print(hw3)\n",
    "\n",
    "## F-string function\n",
    "\n",
    "hw4 = f'{hello} {world} 3'\n",
    "print(hw4)"
   ]
  },
  {
   "cell_type": "markdown",
   "metadata": {},
   "source": [
    "## Conditionals\n",
    "### if else statement\n",
    "\n",
    "Boolean expressions that evaluate a condition to determine whether it is true or false. The result of the evaluation (true or false) determines the corresponding action."
   ]
  },
  {
   "cell_type": "code",
   "execution_count": 1,
   "metadata": {},
   "outputs": [
    {
     "name": "stdout",
     "output_type": "stream",
     "text": [
      "x is not equal to 1\n"
     ]
    }
   ],
   "source": [
    "# Demonstrate equality\n",
    "x = 5\n",
    "if x == 1:\n",
    "    print(\"x is equal to 1\")\n",
    "else:\n",
    "    print(\"x is not equal to 1\")"
   ]
  },
  {
   "cell_type": "code",
   "execution_count": null,
   "metadata": {},
   "outputs": [],
   "source": [
    "# Demonstrate using variables to store conditions\n",
    "x = 5\n",
    "y = 10\n",
    "if x == y:\n",
    "    print(\"statement 1\")\n",
    "    print(\"x is equal to y\")\n",
    "elif x > y:\n",
    "    print(\"statement 2\")\n",
    "    print(\"x is greater than y\")\n",
    "else:\n",
    "    print(\"statement 3\")\n",
    "    print(\"x is smaller than y\")"
   ]
  },
  {
   "cell_type": "code",
   "execution_count": null,
   "metadata": {},
   "outputs": [],
   "source": [
    "x = 5\n",
    "\n",
    "if x > 2:\n",
    "    print(\"x is greater than 2\")\n",
    "if x > 3:\n",
    "    print(\"x is greater than 3\")\n",
    "    \n",
    "x = 5\n",
    "\n",
    "if x > 2:\n",
    "    print(\"x is greater than 2\")\n",
    "elif x > 3:\n",
    "    print(\"x is greater than 3\")"
   ]
  },
  {
   "cell_type": "code",
   "execution_count": null,
   "metadata": {},
   "outputs": [],
   "source": [
    "# Check inequality\n",
    "y = 9\n",
    "if y != 1:\n",
    "    print(\"y is not equal to 1\")\n",
    "    \n",
    "    \n",
    "x = 1\n",
    "y = 10\n",
    "\n",
    "# Checks for two conditions to be met using \"and\"\n",
    "if x == 1 and y == 10:\n",
    "    print(\"Both values returned True\")\n",
    "\n",
    "# Checks for two conditions to be met using and\n",
    "if x == 1 and y < 10:\n",
    "    print(\"Both values returned True\")\n",
    "\n",
    "# Checks if either of two conditions is met\n",
    "if x < 45 or y < 5:\n",
    "    print(\"One or more of the statements were True\")"
   ]
  },
  {
   "cell_type": "markdown",
   "metadata": {},
   "source": [
    "## For loop\n",
    "\n",
    "For loop, when you create instruction and make it work again, again, again, again until some condition is met.\n"
   ]
  },
  {
   "cell_type": "code",
   "execution_count": 2,
   "metadata": {},
   "outputs": [
    {
     "name": "stdout",
     "output_type": "stream",
     "text": [
      "0\n",
      "1\n",
      "2\n",
      "3\n",
      "4\n",
      "-----------------------------------------\n",
      "2\n",
      "3\n",
      "4\n",
      "5\n",
      "6\n",
      "----------------------------------------\n",
      "P\n",
      "e\n",
      "a\n",
      "c\n",
      "e\n",
      "H\n",
      "e\n",
      "l\n",
      "l\n",
      "o\n",
      " \n",
      "W\n",
      "o\n",
      "r\n",
      "l\n",
      "d\n"
     ]
    }
   ],
   "source": [
    "# Loop through a range of numbers (0 through 4)\n",
    "for x in range(5):\n",
    "    print(x)\n",
    "\n",
    "print(\"-----------------------------------------\")\n",
    "\n",
    "# Loop through a range of numbers (2 through 6 - yes 6! Up to, but not including, 7)\n",
    "for x in range(2, 7):\n",
    "    print(x)\n",
    "\n",
    "print(\"----------------------------------------\")\n",
    "\n",
    "# Iterate through letters in a string\n",
    "word = \"Peace\"\n",
    "for letters in word:\n",
    "    print(letters)\n",
    "\n",
    "phrase = \"Hello World\"\n",
    "for x in phrase:\n",
    "    print(x)"
   ]
  },
  {
   "cell_type": "code",
   "execution_count": 3,
   "metadata": {},
   "outputs": [
    {
     "name": "stdout",
     "output_type": "stream",
     "text": [
      "0\n",
      "1\n",
      "2\n",
      "3\n",
      "4\n",
      "-------------------\n",
      "0\n",
      "1\n",
      "2\n",
      "3\n",
      "4\n",
      "6\n",
      "7\n",
      "8\n",
      "9\n"
     ]
    }
   ],
   "source": [
    "'''\n",
    "The break keyword can be used to stop a loop. \n",
    "This is valuable when a loop is executing and needs to stop when a specific condition is met.\n",
    "\n",
    "The break keyword will cause the loop to be exited completely. It does not operate like a skip.\n",
    "\n",
    "'''\n",
    "\n",
    "\n",
    "desired_number = 5\n",
    "for x in range(10):\n",
    "    if (x == desired_number):\n",
    "        break\n",
    "    print(x)\n",
    "\n",
    "print(\"-------------------\")\n",
    "\n",
    "# The continue keyword can be used to stop the current iteration of a loop in order to skip to the next.\n",
    "\n",
    "desired_number = 5\n",
    "for x in range(10):\n",
    "    if (x == desired_number):\n",
    "        continue\n",
    "    print(x)"
   ]
  },
  {
   "cell_type": "code",
   "execution_count": 4,
   "metadata": {},
   "outputs": [
    {
     "name": "stdout",
     "output_type": "stream",
     "text": [
      "1\n",
      "2\n",
      "3\n",
      "4\n",
      "5\n"
     ]
    }
   ],
   "source": [
    "'''\n",
    "for loops loop until they've completed a decision or behavior for each element in a sequence, \n",
    "\n",
    "while loops loop until a condition no longer evaluates as True.\n",
    "'''\n",
    "\n",
    "#Initializing iterator\n",
    "i = 1\n",
    "\n",
    "while i < 6:\n",
    "    print(i)\n",
    "\n",
    "    #Incrementing iterator\n",
    "    i+=1"
   ]
  },
  {
   "cell_type": "markdown",
   "metadata": {},
   "source": [
    "# Part 1: List\n",
    "\n",
    "Think arrays!\n",
    "\n",
    "A list is a Python data structure that allows multiple values to be stored inside of it.\n",
    "\n",
    "List values can be retrieved, appended, removed, and iterated upon.\n"
   ]
  },
  {
   "cell_type": "code",
   "execution_count": 5,
   "metadata": {},
   "outputs": [
    {
     "name": "stdout",
     "output_type": "stream",
     "text": [
      "**********Lists:\n",
      "[4, 2, 3, 1]\n",
      "['hello', 2, 3.0]\n"
     ]
    }
   ],
   "source": [
    "print(\"**********Lists:\")\n",
    "\n",
    "# lists are literally lists of objects, elements\n",
    "a = [4,2,3,1] \n",
    "print(a)\n",
    "\n",
    "# lists are not limited to one type of object\n",
    "b = [\"hello\", 2, 3.0] \n",
    "print(b)"
   ]
  },
  {
   "cell_type": "code",
   "execution_count": 6,
   "metadata": {},
   "outputs": [
    {
     "name": "stdout",
     "output_type": "stream",
     "text": [
      "Creating a list of programming language...\n",
      "['java', 'R', 'C++', 'python']\n"
     ]
    }
   ],
   "source": [
    "# Create a list of programming language\n",
    "\n",
    "\n",
    "print(\"Creating a list of programming language...\")\n",
    "\n",
    "programming_language = ['java','R','C++','python']\n",
    "print(programming_language)"
   ]
  },
  {
   "cell_type": "markdown",
   "metadata": {},
   "source": [
    "### Indexing/Slicing\n",
    "Same as string, the list have index, we can do operation for specialic element in list by call it index\n",
    "\n",
    "**Indexing Rules:**\n",
    " - [x:y:z] gets from the x element to the yth element by z elements\n",
    "   - ex. [2:5:2] will get the 2nd and 4th element (2, skip 3, 4, end) \n",
    " - [-x] gets the xth element working from the end of the string\n",
    "   - ex. long_str[-2] would return n\n",
    "   "
   ]
  },
  {
   "cell_type": "code",
   "execution_count": 10,
   "metadata": {},
   "outputs": [
    {
     "name": "stdout",
     "output_type": "stream",
     "text": [
      "Printing the third programming language...\n",
      "C++\n"
     ]
    }
   ],
   "source": [
    "# Print element at index 2\n",
    "\n",
    "programming_language = ['java','R','C++','python']\n",
    "\n",
    "print(\"Printing the third programming language...\")\n",
    "\n",
    "print(programming_language[2])\n"
   ]
  },
  {
   "cell_type": "code",
   "execution_count": 12,
   "metadata": {},
   "outputs": [
    {
     "name": "stdout",
     "output_type": "stream",
     "text": [
      "Printing 3rd Pokemon to the 5th programming language...\n",
      "['C', 'C++', 'python']\n"
     ]
    }
   ],
   "source": [
    "# Print elements from index 2 to index 4\n",
    "\n",
    "programming_language = ['java','R','C','C++','python','javascript','html']\n",
    "\n",
    "\n",
    "print(\"Printing 3rd Pokemon to the 5th programming language...\")\n",
    "print(programming_language[2:5]) ## get element from index 2 to index 4 (not included last index) 3rd to 5th element.\n"
   ]
  },
  {
   "cell_type": "code",
   "execution_count": null,
   "metadata": {},
   "outputs": [],
   "source": [
    "# Print elements from index 3 to the end of the list\n",
    "\n",
    "programming_language = ['java','R','C','C++','python','javascript','html']\n",
    "\n",
    "print(\"Printing every programming language after the first three...\")\n",
    "print(programming_language[3:])\n",
    "\n",
    "print('-----------------------------------------------------')\n",
    "\n",
    "# Print elements from beginning of list to index 3\n",
    "print(\"Printing every programming language up to the first three...\")\n",
    "print(programming_language[:3])\n"
   ]
  },
  {
   "cell_type": "code",
   "execution_count": 21,
   "metadata": {},
   "outputs": [
    {
     "name": "stdout",
     "output_type": "stream",
     "text": [
      "Printing every other programming_language\n",
      "['java', 'C++']\n"
     ]
    }
   ],
   "source": [
    "# Print every other element\n",
    "\n",
    "programming_language = ['java','R','C','C++','python','javascript','html']\n",
    "\n",
    "print(\"Printing every other programming_language\")\n",
    "\n",
    "print(programming_language[0:5:3])\n"
   ]
  },
  {
   "cell_type": "code",
   "execution_count": 19,
   "metadata": {},
   "outputs": [
    {
     "name": "stdout",
     "output_type": "stream",
     "text": [
      "Printing the last programming_language on the list...\n",
      "solution 1\n",
      "html\n",
      "solution 2\n",
      "html\n"
     ]
    }
   ],
   "source": [
    "# Print the last element of the list\n",
    "\n",
    "programming_language = ['java','R','C','C++','python','javascript','html']\n",
    "\n",
    "print(\"Printing the last programming_language on the list...\")\n",
    "\n",
    "print('solution 1')\n",
    "\n",
    "index_of_last_element = len(programming_language) -1\n",
    "last_programming_language = programming_language [index_of_last_element]\n",
    "print(last_programming_language)\n",
    "\n",
    "print('solution 2')\n",
    "\n",
    "last_programming_language = programming_language[-1]\n",
    "print(last_programming_language)\n"
   ]
  },
  {
   "cell_type": "code",
   "execution_count": 22,
   "metadata": {},
   "outputs": [
    {
     "name": "stdout",
     "output_type": "stream",
     "text": [
      "Determining the order of programming_language python\n",
      "['java', 'R', 'C', 'C++', 'python', 'javascript', 'html']\n",
      "4\n"
     ]
    }
   ],
   "source": [
    "# Find the index of the particular element name\n",
    "print(\"Determining the order of programming_language python\")\n",
    "print(programming_language)\n",
    "print(programming_language.index(\"python\"))\n"
   ]
  },
  {
   "cell_type": "code",
   "execution_count": 23,
   "metadata": {},
   "outputs": [
    {
     "name": "stdout",
     "output_type": "stream",
     "text": [
      "Calculating the number of programming_language...\n",
      "7\n"
     ]
    }
   ],
   "source": [
    "# Calculate the number of elements within the list, get the length of list\n",
    "\n",
    "print(\"Calculating the number of programming_language...\")\n",
    "\n",
    "print(len(programming_language))\n"
   ]
  },
  {
   "cell_type": "markdown",
   "metadata": {},
   "source": [
    "### Modifying Lists\n",
    "Many python list operations end up modifying the objects in memory, so be careful when using assignments!"
   ]
  },
  {
   "cell_type": "code",
   "execution_count": 24,
   "metadata": {},
   "outputs": [
    {
     "name": "stdout",
     "output_type": "stream",
     "text": [
      "['java', 'R', 'C++']\n",
      "['java', 'R', 'C++', 'python']\n"
     ]
    }
   ],
   "source": [
    "## add element to list\n",
    "## append -- add element to the end list\n",
    "\n",
    "python = 'python'\n",
    "\n",
    "skills = ['java','R','C++']\n",
    "\n",
    "print(skills)\n",
    "\n",
    "skills.append(python)\n",
    "\n",
    "print(skills)\n"
   ]
  },
  {
   "cell_type": "code",
   "execution_count": 25,
   "metadata": {},
   "outputs": [
    {
     "name": "stdout",
     "output_type": "stream",
     "text": [
      "['java', 'R', 'C++']\n",
      "['java', 'R', 'C++', ['python', 'javascript']]\n"
     ]
    }
   ],
   "source": [
    "## add list element to list\n",
    "## extend -- flatten element then add to list\n",
    "\n",
    "new_skills = ['python','javascript']\n",
    "\n",
    "skills = ['java','R','C++']\n",
    "\n",
    "print(skills)\n",
    "\n",
    "skills.append(new_skills )\n",
    "\n",
    "print(skills)\n",
    "\n"
   ]
  },
  {
   "cell_type": "code",
   "execution_count": 26,
   "metadata": {},
   "outputs": [
    {
     "name": "stdout",
     "output_type": "stream",
     "text": [
      "['java', 'R', 'C++']\n",
      "['java', 'R', 'C++', 'python', 'javascript']\n"
     ]
    }
   ],
   "source": [
    "new_skills = ['python','javascript']\n",
    "\n",
    "skills = ['java','R','C++']\n",
    "\n",
    "print(skills)\n",
    "\n",
    "skills.extend(new_skills)\n",
    "\n",
    "print(skills)\n"
   ]
  },
  {
   "cell_type": "code",
   "execution_count": 27,
   "metadata": {},
   "outputs": [
    {
     "name": "stdout",
     "output_type": "stream",
     "text": [
      "Changing skills name 'java' to 'python'...\n",
      "['python', 'R', 'C++']\n"
     ]
    }
   ],
   "source": [
    "# Change a specified element within the list at the given index\n",
    "\n",
    "new_skills = 'python'\n",
    "\n",
    "skills = ['java','R','C++']\n",
    "\n",
    "print(\"Changing skills name 'java' to 'python'...\")\n",
    "\n",
    "skills[0] = new_skills\n",
    "\n",
    "print(skills)"
   ]
  },
  {
   "cell_type": "code",
   "execution_count": 29,
   "metadata": {},
   "outputs": [
    {
     "name": "stdout",
     "output_type": "stream",
     "text": [
      "forget java\n",
      "['R', 'C++']\n"
     ]
    }
   ],
   "source": [
    "# Remove an element from the list based on the given element name\n",
    "\n",
    "skills = ['java','R','C++']\n",
    "\n",
    "print(\"forget java\")\n",
    "\n",
    "skills.remove(\"java\")\n",
    "\n",
    "print(skills)"
   ]
  },
  {
   "cell_type": "code",
   "execution_count": 30,
   "metadata": {},
   "outputs": [
    {
     "name": "stdout",
     "output_type": "stream",
     "text": [
      "forget java\n",
      "['R', 'C++']\n"
     ]
    }
   ],
   "source": [
    "# Remove an element from the list based on the given index\n",
    "\n",
    "skills = ['java','R','C++']\n",
    "\n",
    "print(\"forget java\")\n",
    "\n",
    "skills.pop(0)\n",
    "\n",
    "print(skills)"
   ]
  },
  {
   "cell_type": "markdown",
   "metadata": {},
   "source": [
    "## Activity 1 Sugar, Flour, Butter!\n",
    "\n",
    "In this activity, you will work with lists to maintain\u000b",
    "a grocery list. You will create lists, append to lists, retrieve items from a list, and retrieve values by indexes. \n"
   ]
  },
  {
   "cell_type": "markdown",
   "metadata": {},
   "source": [
    "# Sugar, Flour, Butter!\n",
    "\n",
    "In this activity, you will work with lists to maintain a grocery list. You will create lists, append to lists, retrieve `n` items from a list, and retrieve values by indexes.\n",
    "\n",
    "## Background\n",
    "\n",
    "Mike needs to plan his grocery list so that he can buy the ingredients needed to make some delicious apple pie. Help Mike create and modify his list of groceries before he leaves for the supermarket. Then help him cross off items as he gathers the ingredients he needs.\n",
    "\n",
    "## Instructions\n",
    "\n",
    "\n",
    "1. Create a grocery list for the apple pie ingredients:\n",
    "\n",
    "    * Water\n",
    "    * Butter\n",
    "    * Eggs\n",
    "    * Apples\n",
    "    * Cinnamon\n",
    "    * Sugar\n",
    "    * Milk\n",
    "\n",
    "2. Find the first two items on Mike's grocery list.\n",
    "\n",
    "3. Find the last five items on Mike's grocery list.\n",
    "\n",
    "4. Find _every other_ item, starting from the second item, on Mike's grocery list.\n",
    "\n",
    "5. Add `flour` to the grocery list.\n",
    "\n",
    "6. Change `apples` to `gala apples`. (Mike decides to be more specific with the types of apples needed.)\n",
    "\n",
    "7. Determine the total number of items on the grocery list.\n",
    "\n",
    "## Challenge\n",
    "\n",
    "Mike arrives at the supermarket and walks through the aisles to gather the items on the list. Help him with the following tasks.\n",
    "\n",
    "* Mike wants to find where `gala apples` is on his list. Find the index of `gala apples`.\n",
    "\n",
    "* Mike remembers that he already has sugar. Remove `sugar` from the grocery list.\n",
    "\n",
    "* Mike decides that he has water at home. Remove `water` from the grocery list based on its index.\n",
    "\n",
    "* Mike decides to pick up the last item on his list, so remove the last item from the grocery list.\n"
   ]
  },
  {
   "cell_type": "code",
   "execution_count": 34,
   "metadata": {},
   "outputs": [
    {
     "name": "stdout",
     "output_type": "stream",
     "text": [
      "My list of groceries:\n",
      "['water', 'butter', 'eggs', 'apples', 'cinnamon', 'sugar', 'milk']\n"
     ]
    },
    {
     "ename": "TypeError",
     "evalue": "'list' object is not callable",
     "output_type": "error",
     "traceback": [
      "\u001b[0;31m---------------------------------------------------------------------------\u001b[0m",
      "\u001b[0;31mTypeError\u001b[0m                                 Traceback (most recent call last)",
      "\u001b[0;32m<ipython-input-34-952a215ebd1b>\u001b[0m in \u001b[0;36m<module>\u001b[0;34m\u001b[0m\n\u001b[1;32m      3\u001b[0m \u001b[0mgroceries\u001b[0m \u001b[0;34m=\u001b[0m \u001b[0;34m[\u001b[0m\u001b[0;34m\"water\"\u001b[0m\u001b[0;34m,\u001b[0m \u001b[0;34m\"butter\"\u001b[0m\u001b[0;34m,\u001b[0m \u001b[0;34m\"eggs\"\u001b[0m\u001b[0;34m,\u001b[0m \u001b[0;34m\"apples\"\u001b[0m\u001b[0;34m,\u001b[0m \u001b[0;34m\"cinnamon\"\u001b[0m\u001b[0;34m,\u001b[0m \u001b[0;34m\"sugar\"\u001b[0m\u001b[0;34m,\u001b[0m \u001b[0;34m\"milk\"\u001b[0m\u001b[0;34m]\u001b[0m\u001b[0;34m\u001b[0m\u001b[0;34m\u001b[0m\u001b[0m\n\u001b[1;32m      4\u001b[0m \u001b[0mprint\u001b[0m\u001b[0;34m(\u001b[0m\u001b[0mgroceries\u001b[0m\u001b[0;34m)\u001b[0m\u001b[0;34m\u001b[0m\u001b[0;34m\u001b[0m\u001b[0m\n\u001b[0;32m----> 5\u001b[0;31m \u001b[0mprint\u001b[0m\u001b[0;34m(\u001b[0m\u001b[0mgroceries\u001b[0m\u001b[0;34m(\u001b[0m\u001b[0;36m2\u001b[0m\u001b[0;34m)\u001b[0m\u001b[0;34m)\u001b[0m\u001b[0;34m\u001b[0m\u001b[0;34m\u001b[0m\u001b[0m\n\u001b[0m\u001b[1;32m      6\u001b[0m \u001b[0;34m\u001b[0m\u001b[0m\n\u001b[1;32m      7\u001b[0m \u001b[0;34m\u001b[0m\u001b[0m\n",
      "\u001b[0;31mTypeError\u001b[0m: 'list' object is not callable"
     ]
    }
   ],
   "source": [
    "# @TODO: Create a list of groceries\n",
    "print(\"My list of groceries:\")\n",
    "groceries = [\"water\", \"butter\", \"eggs\", \"apples\", \"cinnamon\", \"sugar\", \"milk\"]\n",
    "print(groceries)\n",
    "print(groceries(2))\n",
    "\n",
    "\n",
    "# @TODO: Find the first two items on the list\n",
    "print(\"What are my first two items on the list?\")\n",
    "print(0,1)\n",
    "\n",
    "\n",
    "# @TODO: Find the last five items on the list\n",
    "print(\"What are all my items except for the first two on the list?\")\n",
    "\n",
    "\n",
    "\n",
    "# @TODO: Find every other item on the list, starting from the second item\n",
    "print(\"What is every other item on the list, starting from the second item?\")\n",
    "\n",
    "\n",
    "# @TODO: Add an element to the end of the list\n",
    "print(\"Oops, forgot to add flour...\")\n",
    "\n",
    "\n",
    "\n",
    "\n",
    "# @TODO: Changes a specified element within the list at the given index\n",
    "print(\"I should be more specific with what kind of apples I want...\")\n",
    "\n",
    "\n",
    "\n",
    "\n",
    "# @TODO: Calculate how many items you have in the list\n",
    "print(\"How many items do I have on my shopping list?\")\n",
    "\n"
   ]
  },
  {
   "cell_type": "markdown",
   "metadata": {},
   "source": [
    "## Iterate Lists\n",
    "\n",
    "Iterating over lists is a powerful programming tool that will allow you to automate financial analysis and pipelines that assess collections of data points."
   ]
  },
  {
   "cell_type": "code",
   "execution_count": 35,
   "metadata": {},
   "outputs": [
    {
     "name": "stdout",
     "output_type": "stream",
     "text": [
      "java\n",
      "R\n",
      "C++\n",
      "-------------------------\n",
      "java\n",
      "R\n",
      "C++\n"
     ]
    }
   ],
   "source": [
    "## Iterating list by item or index\n",
    "\n",
    "skills = ['java','R','C++']\n",
    "\n",
    "for item in skills:\n",
    "    print(item)\n",
    "    \n",
    "    \n",
    "print('-------------------------')\n",
    "\n",
    "for index in range(len(skills)):\n",
    "    print(skills[index])"
   ]
  },
  {
   "cell_type": "code",
   "execution_count": 36,
   "metadata": {},
   "outputs": [
    {
     "name": "stdout",
     "output_type": "stream",
     "text": [
      "22\n",
      "10\n",
      "30\n",
      "45\n",
      "54\n",
      "60\n",
      "56\n"
     ]
    }
   ],
   "source": [
    "# Initialize the metric variables\n",
    "count = 0\n",
    "total = 0\n",
    "average = 0\n",
    "minimum_tip = 0\n",
    "maximum_tip = 0\n",
    "\n",
    "# List of daily tips\n",
    "cash_tips = [22, 10, 30, 45, 54, 60, 56]\n",
    "\n",
    "# Showcase every tip in the list\n",
    "for tip in cash_tips:\n",
    "    print(tip)\n",
    "\n"
   ]
  },
  {
   "cell_type": "code",
   "execution_count": null,
   "metadata": {},
   "outputs": [],
   "source": [
    "# Iterate over each element of the list to determine metrics\n",
    "for tip in cash_tips:\n",
    "\n",
    "    # Cumulatively sum up the total and count of tips\n",
    "    total += tip\n",
    "    count += 1\n",
    "\n",
    "    # Logic to determine minimum values\n",
    "    if minimum_tip == 0:\n",
    "        minimum_tip= tip\n",
    "    elif tip < minimum_tip:\n",
    "        minimum_tip = tip\n",
    "        \n",
    "    # Logic to determine maximum values        \n",
    "    if tip > maximum_tip:\n",
    "        maximum_tip = tip\n",
    "\n",
    "# Calculate the average\n",
    "average = round(total / count, 2)\n",
    "\n",
    "# Print out the summary statistics\n",
    "print(\"---------Summary Statistics----------\")\n",
    "print(f\"Number of Days: {count}\")\n",
    "print(f\"Total Tips: {total}\")\n",
    "print(f\"Daily Average: {average}\")\n",
    "print(f\"Least Amount of Tips: {minimum_tip}\")\n",
    "print(f\"Maximum Amount of Tips: {maximum_tip}\")"
   ]
  },
  {
   "cell_type": "markdown",
   "metadata": {},
   "source": [
    "## Activity 2 Trading Log!\n",
    "\n",
    "In this activity, you will use lists to maintain a grocery list. \n",
    "\n",
    "You will create a trading log that tracks profits and losses for each market day of the month. You will iterate over the list to calculate the highest\u000b",
    "and lowest profit and loss days. "
   ]
  },
  {
   "cell_type": "markdown",
   "metadata": {},
   "source": [
    "# Trading Log\n",
    "\n",
    "In this activity, you will use lists to create a trading log that tracks profits and losses for each market day of the month. You will iterate over the list to calculate the highest and lowest profit and loss days. The goal of this activity is to use for loops and lists in order to track metrics related to trading performance.\n",
    "\n",
    "## Background\n",
    "\n",
    "Karen, an equity trader, has been tracking her profits and losses over the course of the last 20 business days. She wants to quickly analyze her ongoing performance as she continues to log her profits and losses every day. Understanding her profits and losses each day will allow Karen to evaluate her performance for all trades monthly, weekly, and over time. Help Karen create a program to analyze her results.\n",
    "\n",
    "## Instructions\n",
    "\n",
    "\n",
    "* Create a for loop over the `trading_pnl` list object, and cumulatively sum up the `total` profits/losses and the `count` of actual trading days.\n",
    "\n",
    "* Use an if-else statement to calculate the `maximum` and `minimum` profit/loss values. In other words, find the numerical value of the best and worst trading days.\n",
    "\n",
    "* Create additional lists `profitable_days` and `unprofitable_days` and use if-else statements to group daily trading values into each corresponding list.\n",
    "\n",
    "* Determine the following:\n",
    "\n",
    "  * Number of total trading days\n",
    "\n",
    "  * Total profits and losses\n",
    "\n",
    "  * Daily average profit and loss\n",
    "\n",
    "  * Worst loss\n",
    "\n",
    "  * Best gain\n",
    "\n",
    "  * Number of profitable days\n",
    "\n",
    "  * Number of unprofitable days\n",
    "\n",
    "  * Percentage of profitable days\n",
    "\n",
    "  * Percentage of unprofitable days\n",
    "\n",
    "  * Print the values of only profitable days.\n",
    "\n",
    "  * Print the values of only unprofitable days.\n",
    "\n",
    "## Hints\n",
    "\n",
    "Use the below formulas:\n",
    "\n",
    "* Number of total trading days = length of `trading_pnl`\n",
    "\n",
    "* Profit = `trading_pnl` value is greater than 0\n",
    "\n",
    "* Loss = `trading_pnl` value is less than 0\n",
    "\n",
    "* Total profits/losses = sum of `trading_pnl`\n",
    "\n",
    "* Daily average profit/loss = total profits/losses divided by number of total trading days\n",
    "\n",
    "* Worst loss = smallest number in `unprofitable_days`\n",
    "\n",
    "* Best gain = largest number in `profitable_days`\n",
    "\n",
    "* Percentage of profitable days = number of profitable days divided by number of total trading days, multiplied by 100\n",
    "\n",
    "Your results should look similar to the following:\n",
    "\n",
    "```\n",
    "---------Summary Statistics----------\n",
    "Number of Total Days: 20\n",
    "Number of Profitable Days: 13\n",
    "Number of Unprofitable Days: 7\n",
    "Percentage of Profitable Days: 65.0%\n",
    "Percentage of Unprofitable Days: 35.0%\n",
    "-------------------------------------\n",
    "Profitable Days: [352, 252, 354, 56, 123, 254, 325, 47, 321, 123, 133, 613, 232]\n",
    "Unprofitable Days: [-224, -544, -650, -43, -123, -151, -311]\n",
    "-------------------------------------\n",
    "Total Profits/Losses: 1139\n",
    "Daily Average: 56.95\n",
    "Worst Loss: -650\n",
    "Best Gain: 613\n",
    "```"
   ]
  },
  {
   "cell_type": "code",
   "execution_count": null,
   "metadata": {},
   "outputs": [],
   "source": [
    "# @TODO: Initialize the metric variables\n",
    "\n",
    "count = 0\n",
    "total = 0\n",
    "average = 0\n",
    "minimum = 0\n",
    "maximum = 0\n",
    "\n",
    "# @TODO: Initialize lists to hold profitable and unprofitable day profits/losses\n",
    "\n",
    "profitable_days = []\n",
    "unprofitable_days = []\n",
    "\n",
    "# List of trading profits/losses\n",
    "trading_pnl = [ -224,  352, 252, 354, -544,\n",
    "                -650,   56, 123, -43,  254,\n",
    "                 325, -123,  47, 321,  123,\n",
    "                 133, -151, 613, 232, -311 ]\n",
    "\n",
    "# @TODO: Iterate over each element of the list\n",
    "\n",
    "\n",
    "    # @TODO: Cumulatively sum up the total and count\n",
    "\n",
    "\n",
    "    # @TODO: Write logic to determine minimum and maximum values\n",
    "\n",
    "\n",
    "\n",
    "\n",
    "\n",
    "\n",
    "    # @TODO: Write logic to determine profitable vs. unprofitable days\n",
    "\n",
    "\n",
    "\n",
    "\n",
    "\n",
    "# @TODO: Calculate the average\n",
    "\n",
    "\n",
    "# @TODO: Calculate count metrics\n",
    "\n",
    "\n",
    "# @TODO: Calculate percentage metrics\n",
    "\n",
    "\n",
    "\n",
    "# @TODO: Print out the summary statistics"
   ]
  },
  {
   "cell_type": "markdown",
   "metadata": {},
   "source": [
    "# Part 2 Dictionary\n",
    "\n",
    "Think Hashmaps!\n",
    "\n",
    "Dictionaries are Python’s implementation of a data structure that is more generally known as an associative array. A dictionary consists of a collection of key-value pairs. Each key-value pair maps the key to its associated value."
   ]
  },
  {
   "cell_type": "code",
   "execution_count": null,
   "metadata": {},
   "outputs": [],
   "source": [
    "print(\"**********\\nDictionaries:\")\n",
    "\n",
    "#Dictionaries are key-value based and instantiaed with {} or dict()\n",
    "a = {'one': 1, 'two': 2} \n",
    "\n",
    "#You can access values based on their index\n",
    "print(a['one']) \n"
   ]
  },
  {
   "cell_type": "code",
   "execution_count": null,
   "metadata": {},
   "outputs": [],
   "source": [
    "print(\"**********\\nDict Methods:\")\n",
    "\n",
    "#You can access features of the dict through a variety of different methods\n",
    "print(a.keys()) \n",
    "print(a.values())\n"
   ]
  },
  {
   "cell_type": "code",
   "execution_count": null,
   "metadata": {},
   "outputs": [],
   "source": [
    "print(\"**********\\nHandling Unknown Elements:\")\n",
    "print(a.get('three')) #dict.get() is a safe method to check if an element exists (We'll cover the None type momentarily)\n",
    "a['three'] #this will raise an error"
   ]
  },
  {
   "cell_type": "markdown",
   "metadata": {},
   "source": [
    "Dictionaries are syntactically defined via {}, curly braces, with key-value pairs separated by :, colons.\n",
    "\n",
    "Dictionaries allow for heterogeneous data (varying data types). Here, the trading_pnl dictionary holds both strings and integers:"
   ]
  },
  {
   "cell_type": "code",
   "execution_count": null,
   "metadata": {},
   "outputs": [],
   "source": [
    "# Initialize a dictionary\n",
    "trading_pnl = {\n",
    "    \"title\": \"Trading Log\",\n",
    "    \"03-18-2019\": -224,\n",
    "    \"03-19-2019\": 352,\n",
    "    \"03-20-2019\": 252,\n",
    "    \"03-21-2019\": 354,\n",
    "    \"03-22-2019\": -544,\n",
    "    \"03-23-2019\": -650,\n",
    "    \"03-24-2019\": 56,\n",
    "    \"03-25-2019\": 123,\n",
    "    \"03-26-2019\": -43,\n",
    "    \"03-27-2019\": 254,\n",
    "    \"03-28-2019\": 325,\n",
    "    \"03-29-2019\": -123,\n",
    "    \"03-30-2019\": 47,\n",
    "    \"03-31-2019\": 321,\n",
    "    \"04-01-2019\": 123,\n",
    "    \"04-02-2019\": 133,\n",
    "    \"04-03-2019\": -151,\n",
    "    \"04-04-2019\": 613,\n",
    "    \"04-05-2019\": 232,\n",
    "    \"04-06-2019\": -311\n",
    "}"
   ]
  },
  {
   "cell_type": "code",
   "execution_count": null,
   "metadata": {},
   "outputs": [],
   "source": [
    "\n",
    "# Print out specific value of a key\n",
    "print(trading_pnl['03-18-2019'])\n",
    "print()"
   ]
  },
  {
   "cell_type": "code",
   "execution_count": null,
   "metadata": {},
   "outputs": [],
   "source": [
    "# Add a new key-value pair\n",
    "trading_pnl[\"04-07-2019\"] = 413\n",
    "print(trading_pnl)\n",
    "print()\n",
    "\n",
    "# Modify a key value\n",
    "trading_pnl[\"04-07-2019\"] = 542\n",
    "print(trading_pnl)\n",
    "print()\n",
    "\n"
   ]
  },
  {
   "cell_type": "code",
   "execution_count": null,
   "metadata": {},
   "outputs": [],
   "source": [
    "# Delete a key-value pair\n",
    "del trading_pnl[\"04-07-2019\"]\n",
    "print(trading_pnl)\n",
    "print()\n",
    "\n"
   ]
  },
  {
   "cell_type": "code",
   "execution_count": null,
   "metadata": {},
   "outputs": [],
   "source": [
    "# Check if key exists\n",
    "if \"04-03-2019\" in trading_pnl:\n",
    "    print(\"Yes, '04-03-2019' is one of the keys in the trading_pnl dictionary\")\n",
    "print()\n",
    "\n",
    "trading_pnl.get(\"04-03-2019\")\n",
    "\n"
   ]
  },
  {
   "cell_type": "code",
   "execution_count": null,
   "metadata": {},
   "outputs": [],
   "source": [
    "# Print out dict keys via a for loop\n",
    "# For loops can be used to iterate over every key in the dictionary.\n",
    "\n",
    "for key in trading_pnl:\n",
    "    print(f\"Key: {key}\")"
   ]
  },
  {
   "cell_type": "code",
   "execution_count": null,
   "metadata": {},
   "outputs": [],
   "source": [
    "# Print out dict values\n",
    "# For loops can be used to iterate over each key in the dictionary and use each key to call \n",
    "# every corresponding value in the dictionary.\n",
    "\n",
    "for key in trading_pnl:\n",
    "    print(f\"Value: {trading_pnl[key]}\")\n"
   ]
  },
  {
   "cell_type": "code",
   "execution_count": 37,
   "metadata": {},
   "outputs": [
    {
     "ename": "NameError",
     "evalue": "name 'trading_pnl' is not defined",
     "output_type": "error",
     "traceback": [
      "\u001b[0;31m---------------------------------------------------------------------------\u001b[0m",
      "\u001b[0;31mNameError\u001b[0m                                 Traceback (most recent call last)",
      "\u001b[0;32m<ipython-input-37-6d395e795eb3>\u001b[0m in \u001b[0;36m<module>\u001b[0;34m\u001b[0m\n\u001b[1;32m      2\u001b[0m \u001b[0;31m# for loops can be used with the items() function to return all key-value pairs in the dictionary.\u001b[0m\u001b[0;34m\u001b[0m\u001b[0;34m\u001b[0m\u001b[0;34m\u001b[0m\u001b[0m\n\u001b[1;32m      3\u001b[0m \u001b[0;34m\u001b[0m\u001b[0m\n\u001b[0;32m----> 4\u001b[0;31m \u001b[0;32mfor\u001b[0m \u001b[0mkey\u001b[0m\u001b[0;34m,\u001b[0m \u001b[0mvalue\u001b[0m \u001b[0;32min\u001b[0m \u001b[0mtrading_pnl\u001b[0m\u001b[0;34m.\u001b[0m\u001b[0mitems\u001b[0m\u001b[0;34m(\u001b[0m\u001b[0;34m)\u001b[0m\u001b[0;34m:\u001b[0m\u001b[0;34m\u001b[0m\u001b[0;34m\u001b[0m\u001b[0m\n\u001b[0m\u001b[1;32m      5\u001b[0m     \u001b[0mprint\u001b[0m\u001b[0;34m(\u001b[0m\u001b[0;34mf\"Key: {key} Value: {value}\"\u001b[0m\u001b[0;34m)\u001b[0m\u001b[0;34m\u001b[0m\u001b[0;34m\u001b[0m\u001b[0m\n\u001b[1;32m      6\u001b[0m \u001b[0mprint\u001b[0m\u001b[0;34m(\u001b[0m\u001b[0;34m)\u001b[0m\u001b[0;34m\u001b[0m\u001b[0;34m\u001b[0m\u001b[0m\n",
      "\u001b[0;31mNameError\u001b[0m: name 'trading_pnl' is not defined"
     ]
    }
   ],
   "source": [
    "# Print out dict key-value pairs, \n",
    "# for loops can be used with the items() function to return all key-value pairs in the dictionary.\n",
    "\n",
    "for key, value in trading_pnl.items():\n",
    "    print(f\"Key: {key} Value: {value}\")\n",
    "print()"
   ]
  },
  {
   "cell_type": "markdown",
   "metadata": {},
   "source": [
    "## Activity 3 Market Capitalization!\n",
    "\n",
    "In this activity, you will practice creating a dictionary,\u000b",
    "as well as updating, removing, and extracting values in/from the dictionary. \n",
    "\n",
    "# Market Capitalization\n",
    "\n",
    "In this activity, you will create a dictionary, and then update, remove, and extract values in/from the dictionary.\n",
    "\n",
    "## Background\n",
    "\n",
    "Sam wants to categorize banks by their market capitalizations, which is the total dollar market value of a company's outstanding shares. Because she wants to know the relationship between a certain bank and its market capitalization, Sam uses a dictionary to index bank names to the value of its market cap.\n",
    "\n",
    "Sam needs to make a few changes to her dictionary of bank market caps because she noticed a few errors and omissions. Help Sam fix her dictionary of bank market caps, and even better, help her group the banks by their corresponding market capitalization tier.\n",
    "\n",
    "## Instructions\n",
    "\n",
    "Using the [starter file](Unsolved/Core/market_cap_core.py), complete the following:\n",
    "\n",
    "- Initialize the dictionary of `banks`. Add the following key-value pairs:\n",
    "\n",
    "  - JP Morgan Chase: 327\n",
    "  - Bank of America: 302\n",
    "  - Citigroup: 173\n",
    "  - Wells Fargo: 273\n",
    "  - Goldman Sachs: 87\n",
    "  - Morgan Stanley: 72\n",
    "  - U.S. Bancorp: 83\n",
    "  - TD Bank: 108\n",
    "  - PNC Financial Services: 67\n",
    "  - Capital One: 47\n",
    "  - FNB Corporation: 4\n",
    "  - First Hawaiian Bank: 3\n",
    "  - Ally Financial: 12\n",
    "  - Wachovia: 145\n",
    "  - Republic Bancorp: .97\n",
    "\n",
    "- Change the market cap for `Citigroup` to `170`.\n",
    "\n",
    "- Add a new bank `American Express` to the dictionary and set the market cap to `33`.\n",
    "\n",
    "- Delete `Wachovia` from the dictionary, as it is a deprecated bank acquired by Wells Fargo in 2008.\n",
    "\n",
    "## Challenge\n",
    "\n",
    "Group banks by their corresponding market capitalization tier.\n",
    "\n",
    "- Iterate over the key-value pairs in the `banks` dictionary and calculate the following:\n",
    "\n",
    "  - Total market capitalization\n",
    "  - Total number of banks\n",
    "  - Average market capitalization\n",
    "  - Largest bank\n",
    "  - Smallest bank\n",
    "\n",
    "- Use an if-else statement and lists to compare and group banks by their corresponding market capitalization: `mega-cap`, `large-cap`, `mid-cap`, and `small-cap`.\n",
    "\n",
    "  - `mega-cap`: Market capitalization greater than or equal to \\$300 billion.\n",
    "\n",
    "  - `large-cap`: Market capitalization greater than or equal to $10 billion and less than $300 billion.\n",
    "\n",
    "  - `mid-cap`: Market capitalization greater than or equal to $2 and less than $10 billion.\n",
    "\n",
    "  - `small-cap`: Market capitalization greater than or equal to $300 million and less than $2 billion.\n",
    "\n",
    "## Hint\n",
    "\n",
    "Your results should look similar to the following:\n",
    "\n",
    "```\n",
    "Total Market Capitalization: 1588\n",
    "Total Numer of Banks: 15\n",
    "Average Market Capitalization: 105.87\n",
    "Largest Bank: JP Morgan Chase\n",
    "Smallest Bank: Republic Bancorp\n",
    "------------------------------------------------\n",
    "Mega Cap Banks: ['JP Morgan Chase', 'Bank of America']\n",
    "Large Cap Banks: ['Citigroup', 'Wells Fargo', 'Goldman Sachs', 'Morgan Stanley', 'U.S. Bancorp', 'TD Bank', 'PNC Financial Services', 'Capital One', 'Ally Financial', 'American Express']\n",
    "Mid Cap Banks: ['FNB Corporation', 'First Hawaiian Bank']\n",
    "Small Cap Banks: ['Republic Bancorp']\n",
    "```\n",
    "\n",
    "---"
   ]
  },
  {
   "cell_type": "code",
   "execution_count": null,
   "metadata": {},
   "outputs": [],
   "source": [
    "# Banks and Market Caps\n",
    "#-----------------------\n",
    "# JP Morgan Chase: 327\n",
    "# Bank of America: 302\n",
    "# Citigroup: 173\n",
    "# Wells Fargo: 273\n",
    "# Goldman Sachs: 87\n",
    "# Morgan Stanley: 72\n",
    "# U.S. Bancorp: 83\n",
    "# TD Bank: 108\n",
    "# PNC Financial Services: 67\n",
    "# Capital One: 47\n",
    "# FNB Corporation: 4\n",
    "# First Hawaiian Bank: 3\n",
    "# Ally Financial: 12\n",
    "# Wachovia: 145\n",
    "# Republic Bancorp: .97\n",
    "\n",
    "# @TODO: Initialize a dictionary of banks and market caps (in billions)\n",
    "\n",
    "banks = {\n",
    "  \"JP Morgan Chase\": 327,\n",
    "  \"Bank of America\": 302,\n",
    "  \"Citigroup\": 173,\n",
    "  \"Wells Fargo\": 273,\n",
    "  \"Goldman Sachs\": 87,\n",
    "  \"Morgan Stanley\": 72,\n",
    "  \"U.S. Bancorp\": 83,\n",
    "  \"TD Bank\": 108,\n",
    "  \"PNC Financial Services\": 67,\n",
    "  \"Capital One\": 47,\n",
    "  \"FNB Corporation\": 4,\n",
    "  \"First Hawaiian Bank\": 3,\n",
    "  \"Ally Financial\": 12,\n",
    "  \"Wachovia\": 145,\n",
    "  \"Republic Bancorp\": .97\n",
    "  }\n",
    "\n",
    "\n",
    "\n",
    "# Initialize market cap lists\n",
    "mega_caps = []\n",
    "large_caps = []\n",
    "mid_caps = []\n",
    "small_caps = []\n",
    "\n",
    "\n",
    "total_market_cap  = 0\n",
    "bank_count = 0\n",
    "minimum_value = 0\n",
    "minimum_key = ''\n",
    "maximum_value = 0\n",
    "maximum_key = ''\n",
    "\n",
    "\n",
    "\n",
    "\n",
    "# @TODO: Change the market cap for 'Citigroup'\n",
    "\n",
    "\n",
    "# @TODO: Add a new bank and market cap pair\n",
    "\n",
    "\n",
    "# @TODO: Remove a bank from the dictionary\n",
    "\n",
    "\n",
    "# Iterate over key-value pairs of the dictionary\n",
    "\n",
    "\n",
    "    # Calculate sum of market caps and number of banks in the dictionary\n",
    "\n",
    "\n",
    "    # Logic to determine min and max values and associated keys\n",
    "\n",
    "\n",
    "    # Logic to determine max value and associated key\n",
    "\n",
    "        \n",
    "    # Add bank to the caps list it should\n",
    "\n",
    "\n",
    "\n",
    "# @TODO: Print the modified dictionary\n",
    "\n"
   ]
  },
  {
   "cell_type": "markdown",
   "metadata": {},
   "source": [
    "# Part 3 Nesting list and Nesting dictionary"
   ]
  },
  {
   "cell_type": "markdown",
   "metadata": {},
   "source": [
    "The values in a list or dictionary can actually be other lists and dictionaries. This means that you can have a list of dictionaries, or a dictionary where each value is a list. You can also have lists of lists and dictionaries of dictionaries!\n",
    "\n",
    "This concept is called nesting, which is a powerful feature of the Python language because it provides a lot of flexibility for how data is stored."
   ]
  },
  {
   "cell_type": "markdown",
   "metadata": {},
   "source": [
    "### List of List\n",
    "Think about 2D array, matrix"
   ]
  },
  {
   "cell_type": "code",
   "execution_count": 39,
   "metadata": {},
   "outputs": [],
   "source": [
    "# List\n",
    "ceo_list = [\"Warren\", \"Jack\", \"Harry\"]\n",
    "\n",
    "# List of Lists\n",
    "# Each list element can have two or more values.\n",
    "# Each element within the nested list must be separated by a comma.\n",
    "\n",
    "\n",
    "ceo_nested_list = [\n",
    "    [\"Warren Buffet\", 88, \"CEO of Berkshire Hathaway\"],\n",
    "    [\"Jeff Bezos\", 55, \"CEO of Amazon\"],\n",
    "    [\"Harry Markowitz\", 91, \"Professor of Finance\"]\n",
    "]\n",
    "\n"
   ]
  },
  {
   "cell_type": "code",
   "execution_count": 41,
   "metadata": {},
   "outputs": [
    {
     "name": "stdout",
     "output_type": "stream",
     "text": [
      "The first entry in employees_nested_list is: ['Warren Buffet', 88, 'CEO of Berkshire Hathaway']\n"
     ]
    }
   ],
   "source": [
    "# To access elements, call the list object and then specify the index for the desired value.\n",
    "# Retrieve first entry of ceo_nested_list\n",
    "\n",
    "first_entry = ceo_nested_list[0]\n",
    "\n",
    "print(\"The first entry in employees_nested_list is:\", first_entry)\n"
   ]
  },
  {
   "cell_type": "code",
   "execution_count": 42,
   "metadata": {},
   "outputs": [
    {
     "name": "stdout",
     "output_type": "stream",
     "text": [
      "The first entry in employees_nested_list is: ['Warren Buffet', 88, 'CEO of Berkshire Hathaway']\n",
      "Warren Buffet is 88 years old, serving as CEO of Berkshire Hathaway.\n"
     ]
    }
   ],
   "source": [
    "# Because these lists are nested, two indexes will need to be provided: one index for the top level item, \n",
    "# and one for the embedded element that needs to be retrieved.\n",
    "\n",
    "# Retrieve name of first entry\n",
    "first_entry_name = ceo_nested_list[0][0]\n",
    "\n",
    "# Retrieve age of first entry\n",
    "first_entry_age = ceo_nested_list[0][1]\n",
    "\n",
    "# Retrieve occupation of first entry\n",
    "first_entry_occupation = ceo_nested_list[0][2]\n",
    "\n",
    "# Print results to screen\n",
    "print(\"The first entry in employees_nested_list is:\", first_entry)\n",
    "print(f\"{first_entry_name} is {first_entry_age} years old, serving as {first_entry_occupation}.\")"
   ]
  },
  {
   "cell_type": "markdown",
   "metadata": {},
   "source": [
    "### List of dictionary \n",
    "similar to lists of lists; however, the nested level is comprised of dictionaries rather than lists."
   ]
  },
  {
   "cell_type": "code",
   "execution_count": null,
   "metadata": {},
   "outputs": [],
   "source": [
    "# List of Dicts\n",
    "ceo_nested_dict = [\n",
    "    {\n",
    "        \"name\": \"Warren Buffet\",\n",
    "        \"age\": 88,\n",
    "        \"occupation\": \"CEO of Berkshire Hathaway\"\n",
    "    },\n",
    "    {\n",
    "        \"name\": \"Jeff Bezos\",\n",
    "        \"age\": 55,\n",
    "        \"occupation\": \"CEO of Amazon\"\n",
    "    },\n",
    "    {\n",
    "        \"name\": \"Harry Markowitz\",\n",
    "        \"age\": 91,\n",
    "        \"occupation\": \"Professor of Finance\"\n",
    "    }\n",
    "]\n",
    "\n"
   ]
  },
  {
   "cell_type": "code",
   "execution_count": null,
   "metadata": {},
   "outputs": [],
   "source": [
    "'''\n",
    "To retrieve data from a list with nested dictionary objects, \n",
    "call the list with the index of the dictionary element that is desired. \n",
    "This will return the entire dictionary.\n",
    "'''\n",
    "\n",
    "# Retrieve second entry\n",
    "second_entry = ceo_nested_dict[1]\n",
    "\n",
    "print(second_entry)\n",
    "                "
   ]
  },
  {
   "cell_type": "code",
   "execution_count": null,
   "metadata": {},
   "outputs": [],
   "source": [
    "'''\n",
    "If a specific dictionary value is desired, \n",
    "call the list with the index of the dictionary element and the corresponding dictionary. \n",
    "Walk through the solution key.\n",
    "'''\n",
    "\n",
    "# Retrieve name, age, and occupation of the second dict entry\n",
    "second_entry_name = ceo_nested_dict[1][\"name\"]\n",
    "second_entry_age = ceo_nested_dict[1][\"age\"]\n",
    "second_entry_occupation = ceo_nested_dict[1][\"occupation\"]\n",
    "\n",
    "# Print results to the screen\n",
    "print(f\"The second entry in ceo_nested_dict is {second_entry_name}, a {second_entry_age} year old {second_entry_occupation}.\")"
   ]
  },
  {
   "cell_type": "markdown",
   "metadata": {},
   "source": [
    "### Dictionary of list\n",
    "Dictionaries of lists are objects based on key-value pairs. Unlike regular dictionaries, dictionaries of lists have more than one entry for the value."
   ]
  },
  {
   "cell_type": "code",
   "execution_count": null,
   "metadata": {},
   "outputs": [],
   "source": [
    "# Dict\n",
    "stocks_dict = {\n",
    "    \"APPL\": 101.32,\n",
    "    \"MU\": 43.4,\n",
    "    \"AMD\": 23.12,\n",
    "    \"TWTR\": 25\n",
    "}\n",
    "\n",
    "# Dictionary of Lists\n",
    "stocks_nested_list = {\n",
    "    \"APPL\": [\"Apple\", 101.32, \"NASDAQ\", 937.7],\n",
    "    \"MU\": [\"Micron Technology\", 32.12, \"NASDAQ\", 48.03],\n",
    "    \"AMD\": [\"Advanced Micro Devices\", 23.12, \"NASDAQ\", 29.94],\n",
    "    \"TWTR\": [\"Twitter\", 34.40, \"NASDAQ\", 26.42]\n",
    "}"
   ]
  },
  {
   "cell_type": "code",
   "execution_count": null,
   "metadata": {},
   "outputs": [],
   "source": [
    "'''\n",
    "Data can be accessed from dictionaries of lists by calling the dictionary and specifying the key for the desired entry. \n",
    "A specific value from the list object can be retrieved by providing the index.\n",
    "'''\n",
    "\n",
    "# Retrieve entry for APPL\n",
    "appl_entry = stocks_nested_list[\"APPL\"]\n",
    "\n",
    "print(appl_entry)\n",
    "\n"
   ]
  },
  {
   "cell_type": "code",
   "execution_count": null,
   "metadata": {},
   "outputs": [],
   "source": [
    "# Retrieve name, stock_price, and exchange for APPL entry\n",
    "appl_name = stocks_nested_list[\"APPL\"][0]\n",
    "appl_stock_price = stocks_nested_list[\"APPL\"][1]\n",
    "appl_exchange = stocks_nested_list[\"APPL\"][2]\n",
    "\n",
    "print(f\"APPL ticker stands for {appl_name}. APPL stock price is currently {appl_stock_price}, and it is available on {appl_exchange}.\")"
   ]
  },
  {
   "cell_type": "markdown",
   "metadata": {},
   "source": [
    "## Dictionary of dictionary\n",
    "\n",
    "objects based on nested key-value pairs. Unlike dictionaries of lists, dictionaries of dictionaries will have a dictionary as the value."
   ]
  },
  {
   "cell_type": "code",
   "execution_count": null,
   "metadata": {},
   "outputs": [],
   "source": [
    "# Dictionary of Dicts\n",
    "stocks_nested_dict = {\n",
    "  \"APPL\": {\n",
    "      \"name\": \"Apple\",\n",
    "      \"exchange\": \"NASDAQ\",\n",
    "      \"market_cap\": 937.7\n",
    "  },\n",
    "  \"MU\": {\n",
    "      \"name\": \"Micron Technology\",\n",
    "      \"exchange\": \"NASDAQ\",\n",
    "      \"market_cap\": 48.03\n",
    "  },\n",
    "  \"AMD\": {\n",
    "      \"name\": \"Advanced Micro Devices\",\n",
    "      \"exchange\": \"NASDAQ\",\n",
    "      \"market_cap\": 29.94\n",
    "  },\n",
    "  \"TWTR\": {\n",
    "      \"name\": \"Twitter\",\n",
    "      \"exchange\": \"NASDAQ\",\n",
    "      \"market_cap\": 26.42\n",
    "  }\n",
    "}"
   ]
  },
  {
   "cell_type": "code",
   "execution_count": null,
   "metadata": {},
   "outputs": [],
   "source": [
    "# Retrieve Twitter entry\n",
    "twitter_entry = stocks_nested_dict[\"TWTR\"]\n",
    "print(twitter_entry)"
   ]
  },
  {
   "cell_type": "code",
   "execution_count": null,
   "metadata": {},
   "outputs": [],
   "source": [
    "# Retrieve TWTR name, exchange, and market_cap\n",
    "twitter_name = stocks_nested_dict[\"TWTR\"][\"name\"]\n",
    "twitter_exchange = stocks_nested_dict[\"TWTR\"][\"exchange\"]\n",
    "twitter_market_cap = stocks_nested_dict[\"TWTR\"][\"market_cap\"]\n",
    "\n",
    "print(f\"Name of TWTR ticker is {twitter_name}. TWTR is available on {twitter_exchange}, and it currently has a market capitalization of {twitter_market_cap}.\")"
   ]
  },
  {
   "cell_type": "markdown",
   "metadata": {},
   "source": [
    "## Activity 4 Weekly Gains\n",
    "\n",
    "In this activity, you will work with nested data structures in a Python file. You will store daily stock data in a list and then store that list in a dictionary. The key of the dictionary will be the stock tickers. You will then retrieve stock data from the dictionary for specific days.\n"
   ]
  },
  {
   "cell_type": "markdown",
   "metadata": {},
   "source": [
    "# Weekly Gains\n",
    "\n",
    "In this activity, you will work with nested data structures by storing daily stock data in a list, and then storing that list in a dictionary. You will then retrieve stock data from the dictionary for specific days.\n",
    "\n",
    "## Background\n",
    "\n",
    "The stock markets have been closed since 4:00 p.m., and now it's almost 5:00 p.m. on Friday. As his job entails, Harold needs to close out another week of gathering stock data in order to calculate a report of the weekly gains of his list of stocks.\n",
    "\n",
    "Harold usually performs this task by manually looking up the stock price records for the new day, adding them to his weekly list of stocks, and then running his calculations. However, he now wonders if there is a quicker way to do all of this so that he can go home earlier on Fridays.\n",
    "\n",
    "Help Harold by creating a program to automate his data gathering process and weekly gains calculations.\n",
    "\n",
    "## Instructions\n",
    "\n",
    "\n",
    "* Use the `new_records` dictionary to add each new stock ticker record to the corresponding list of records in the `historical_stock_data` dictionary. Appended stock ticker records should be in the following format: `[date, open, high, low, close]`. You have two options for how you do this:\n",
    "\n",
    "  * Create a list object for each new stock ticker record in the `new_records` dictionary in the above sequence. Manually append each list to the corresponding list of stock ticker records in the `historical_stock_data` dictionary.\n",
    "\n",
    "  * Loop through the `new_records` dictionary and append a new stock ticker record to each corresponding ticker in the `historical_stock_data` dictionary.\n",
    "\n",
    "* Print out the modified `historical_stock_data` dictionary.\n",
    "\n",
    "  ```python\n",
    "  # Print out the modified 'historical_stock_data' dictionary\n",
    "  print(historical_stock_data)\n",
    "  ```\n",
    "\n",
    "  ```\n",
    "  {'AAPL': [['04-17-2019', 199.54, 203.38, 198.61, 203.13], ['04-18-2019', 199.46, 201.37, 198.56, 199.25], ['04-19-2019', 198.58, 199.85, 198.01, 199.23], ['04-20-2019', 199.2, 200.14, 196.21, 198.87], [['04-21-2019', 200.85, 201.0, 198.44, 198.95]], ['04-21-2019', 200.85, 201.0, 198.44, 198.95]], 'MU': [['04-17-2019', 43.2, 43.53, 42.79, 43.4], ['04-18-2019', 43.36, 44.05, 42.76, 43.15], ['04-19-2019', 42.26, 42.93, 42.08, 42.76], ['04-20-2019', 42.17, 42.23, 41.2, 41.82], [['04-21-2019', 42.85, 43.2, 41.81, 42.01]], ['04-21-2019', 42.85, 43.2, 41.81, 42.01]], 'AMD': [['04-17-2019', 27.6, 27.88, 27.34, 27.68], ['04-18-2019', 28.21, 28.27, 27.22, 27.49], ['04-19-2019', 27.72, 28.18, 27.49, 27.93], ['04-20-2019', 27.8, 27.84, 26.96, 27.33], [['04-21-2019', 28.21, 28.38, 27.66, 27.85]], ['04-21-2019', 28.21, 28.38, 27.66, 27.85]], 'TWTR': [['04-17-2019', 34.67, 34.86, 34.32, 34.4], ['04-18-2019', 34.73, 34.9, 34.2, 34.48], ['04-19-2019', 34.84, 34.99, 34.23, 34.46], ['04-20-2019', 34.38, 35.03, 34.34, 34.71], [['04-21-2019', 34.67, 34.83, 34.11, 34.37]], ['04-21-2019', 34.67, 34.83, 34.11, 34.37]]}\n",
    "  ```\n",
    "\n",
    "## Challenge\n",
    "\n",
    "Calculate the weekly gains for each stock ticker and assign to a `results` dictionary for each stock ticker.\n",
    "\n",
    "* Loop through every key-value pair in the `historical_stock_data` dictionary.\n",
    "\n",
    "* Set the last and first record closing prices: `ending_weekly_close` and `beginning_weekly_close`.\n",
    "\n",
    "* Calculate the `ticker_weekly_close = ending_week_close - beginning_week_close) / beginning_week_close * 100`. Round to the nearest two decimal places.\n",
    "\n",
    "* Set the `ticker_weekly_close` to the corresponding ticker in the `results` dictionary.\n",
    "\n",
    "## Hint\n",
    "\n",
    "Your results should look similar to the following:\n",
    "\n",
    "```\n",
    "{'AAPL': -2.06, 'MU': -3.2, 'AMD': 0.61, 'TWTR': -0.09}\n",
    "```\n",
    "\n",
    "---\n",
    "\n",
    "\n"
   ]
  },
  {
   "cell_type": "code",
   "execution_count": null,
   "metadata": {},
   "outputs": [],
   "source": [
    "# Dictionary of List of Lists\n",
    "# Key: Stock Ticker | Value: List of Records\n",
    "# Record: Date, Open, High, Low, Close\n",
    "historical_stock_data = {\n",
    "    \"AAPL\": [\n",
    "        [\"04-17-2019\", 199.54, 203.38, 198.61, 203.13],\n",
    "        [\"04-18-2019\", 199.46, 201.37, 198.56, 199.25],\n",
    "        [\"04-19-2019\", 198.58, 199.85, 198.01, 199.23],\n",
    "        [\"04-20-2019\", 199.20, 200.14, 196.21, 198.87],\n",
    "\n",
    "    ],\n",
    "    \"MU\": [\n",
    "        [\"04-17-2019\", 43.20, 43.53, 42.79, 43.40],\n",
    "        [\"04-18-2019\", 43.36, 44.05, 42.76, 43.15],\n",
    "        [\"04-19-2019\", 42.26, 42.93, 42.08, 42.76],\n",
    "        [\"04-20-2019\", 42.17, 42.23, 41.20, 41.82],\n",
    "\n",
    "    ],\n",
    "    \"AMD\": [\n",
    "        [\"04-17-2019\", 27.60, 27.88, 27.34, 27.68],\n",
    "        [\"04-18-2019\", 28.21, 28.27, 27.22, 27.49],\n",
    "        [\"04-19-2019\", 27.72, 28.18, 27.49, 27.93],\n",
    "        [\"04-20-2019\", 27.80, 27.84, 26.96, 27.33],\n",
    "\n",
    "    ],\n",
    "    \"TWTR\": [\n",
    "        [\"04-17-2019\", 34.67, 34.86, 34.32, 34.40],\n",
    "        [\"04-18-2019\", 34.73, 34.90, 34.20, 34.48],\n",
    "        [\"04-19-2019\", 34.84, 34.99, 34.23, 34.46],\n",
    "        [\"04-20-2019\", 34.38, 35.03, 34.34, 34.71],\n",
    "\n",
    "    ]\n",
    "}\n",
    "\n",
    "# Dictionary of Dictionary\n",
    "# Key: Stock Ticker | Value: Dictionary\n",
    "new_records = {\n",
    "    \"AAPL\": {\n",
    "        \"date\": \"04-21-2019\",\n",
    "        \"open\": 200.85,\n",
    "        \"high\": 201.00,\n",
    "        \"low\": 198.44,\n",
    "        \"close\": 198.95\n",
    "    },\n",
    "    \"MU\": {\n",
    "        \"date\": \"04-21-2019\",\n",
    "        \"open\": 42.85,\n",
    "        \"high\": 43.20,\n",
    "        \"low\": 41.81,\n",
    "        \"close\": 42.01\n",
    "    },\n",
    "    \"AMD\": {\n",
    "        \"date\": \"04-21-2019\",\n",
    "        \"open\": 28.21,\n",
    "        \"high\": 28.38,\n",
    "        \"low\": 27.66,\n",
    "        \"close\": 27.85\n",
    "    },\n",
    "    \"TWTR\": {\n",
    "        \"date\": \"04-21-2019\",\n",
    "        \"open\": 34.67,\n",
    "        \"high\": 34.83,\n",
    "        \"low\": 34.11,\n",
    "        \"close\": 34.37\n",
    "    }\n",
    "}\n",
    "\n",
    "# @TODO: Set each ticker's new record: date, open, high, low, close\n",
    "\n",
    "\n",
    "\n",
    "\n",
    "\n",
    "# @TODO: Choice 1: Add a new round of entries to the 'historical_stock_data' dictionary\n",
    "\n",
    "\n",
    "\n",
    "\n",
    "# @TODO: Choice 2: Add a new round of entries via for loop to the 'historical_stock_data' dictionary\n",
    "\n",
    "\n",
    "\n",
    "\n",
    "\n",
    "\n",
    "# @TODO: Print out the modified 'historical_stock_data' dictionary"
   ]
  },
  {
   "cell_type": "code",
   "execution_count": null,
   "metadata": {},
   "outputs": [],
   "source": []
  },
  {
   "cell_type": "markdown",
   "metadata": {},
   "source": [
    "## Part4 Fucntion\n",
    "\n",
    "## Function definitions\n",
    "All functions start with **def**, which states we are defining a function. This is followed by the function name, and cap it off with a **():**\n",
    "\n",
    "Function name formatting:\n",
    " - All lower case\n",
    " - Underscores to seperate words\n",
    " \n",
    "Example:\n",
    " - **def sample_function():**"
   ]
  },
  {
   "cell_type": "code",
   "execution_count": null,
   "metadata": {},
   "outputs": [],
   "source": [
    "def print_hello_world():\n",
    "    \"\"\"This defines a function, proper commenting dictates that we state the fucntion (printing hello) in this section\n",
    "    Additional comments (args, return values, etc) can be made in the following lines\n",
    "    \"\"\"\n",
    "    # Using the print command we can send ouptut to the console\n",
    "    print(\"hello world\")\n",
    "\n",
    "# After defining our function we can invoke it simply by calling the function name\n",
    "# Note: Must define a function in code before calling it, otherwise we run into the error\n",
    "print_hello_world()"
   ]
  },
  {
   "cell_type": "markdown",
   "metadata": {},
   "source": [
    "## Returning Values\n",
    "To return values form a function, we simply need to state **return {object}**. While you can encase the object you are returning with a (), this is not standard or required."
   ]
  },
  {
   "cell_type": "code",
   "execution_count": null,
   "metadata": {},
   "outputs": [],
   "source": [
    "#Returning values\n",
    "def return_hello():\n",
    "    \"\"\"Return 'hello' out to console\n",
    "    Returns:\n",
    "        str - 'hello'\n",
    "    \"\"\"\n",
    "    return \"hello\" #The return() method tells the function what to return\n",
    "\n",
    "h = return_hello()\n",
    "print(h)\n",
    "\n",
    "#NOTE - python does not decalare a return type! This means you are able to return whatever you want\n",
    "#       this can be a gift and a curse. What do you think I mean by that?"
   ]
  },
  {
   "cell_type": "markdown",
   "metadata": {},
   "source": [
    "## Parameters - By Reference vs. Value\n",
    "Parameters in python are defined by a comma-separated list of parameter names.\n",
    " - def sample_function**({param_name_1}, {param_name_2}, ...)**:\n",
    "\n",
    "Python passes mutable objects by reference and immutables as values\n",
    "Common Immutables:\n",
    " - numeric types (int, float, decimal, complex)\n",
    " - strings\n",
    " - tuples\n",
    " - bool"
   ]
  },
  {
   "cell_type": "code",
   "execution_count": null,
   "metadata": {},
   "outputs": [],
   "source": [
    "def calculate_market_cap(market_price, number_of_shares):\n",
    "    cap = market_price * number_of_shares\n",
    "\n",
    "    # Output market_cap value\n",
    "    return cap\n",
    "\n"
   ]
  },
  {
   "cell_type": "code",
   "execution_count": null,
   "metadata": {},
   "outputs": [],
   "source": [
    "\"\"\"\n",
    "Initialize market_price and number_of_shares variables\n",
    "\"\"\"\n",
    "\n",
    "stock_ticker = \"SBUX\"\n",
    "market_price = 76.06\n",
    "number_of_shares = 1243600000\n",
    "\n",
    "# Call calculate_market_cap() function\n",
    "market_cap = calculate_market_cap(market_price, number_of_shares)\n",
    "print(f\"{stock_ticker} Market Capitalization: {market_cap}\")"
   ]
  },
  {
   "cell_type": "markdown",
   "metadata": {},
   "source": [
    "## Activity 5 Finally Functioning!\n",
    "\n",
    "In this activity, you will define a function to calculate compound annual growth rate (CAGR) for an investment portfolio. You are encouraged to work with a partner on this activity.\n",
    "\n",
    "## Background\n",
    "\n",
    "You have been working with Harold and Sam after hours to further develop your FinTech skills and automate your day jobs.\n",
    "\n",
    "While fine-tuning your algorithms, you realize that you've written the logic to calculate compound annual growth rate three times: once for 2016, once for 2017, and once for 2018. You're annoyed that you've reinvented the wheel each time, and you're growing concerned that if you make any changes to the algorithm, you'll have to make changes in three different places.\n",
    "\n",
    "This cannot be maintained. You decide to refactor all of your code to make it as modular and reusable as possible.\n",
    "\n",
    "In this activity, define a function named `calculate_compound_growth_rate` that will accept three arguments:\n",
    "\n",
    "* `beginning_balance`\n",
    "\n",
    "* `ending_balance`\n",
    "\n",
    "* `years`\n",
    "\n",
    "The function should output a float as `growth_rate`.\n",
    "\n",
    "Modularize this code so that you can dynamically calculate compound annual growth rate (CAGR) by simply calling a function with the required inputs. The results will indicate how you've been functioning as a trader.\n",
    "\n",
    "CAGR is valuable, as it calculates and predicts growth rate earnings and percent increase or decrease of a stock, portfolio, or bank account. This will be useful when trying to evaluate portfolio/stock performance or when choosing which savings account might produce the most return.\n",
    "\n",
    "Compound annual growth rate formula:\n",
    "\n",
    "CAGR = (Ending balance/Beginning Balance)^(1/number of years) - 1\n",
    "\n",
    "## Instructions\n",
    "\n",
    "\n",
    "1. Define a function `calculate_compound_growth_rate` that takes in `beginning_balance`, `ending_balance`, and `years` as input. Output `growth_rate`.\n",
    "\n",
    "2. Initialize `beginning_balance` to 29000.00.\n",
    "\n",
    "3. Initialize `ending_balance` to 45000.00.\n",
    "\n",
    "4. Initialize `years` to 1.0.\n",
    "\n",
    "5. Call `calculate_compound_growth_rate()` and use the above values (found in Steps 3-5) to calculate and capture the result as `year_one_growth`.\n",
    "\n",
    "6. Update `beginning_balance` to 45000.00.\n",
    "\n",
    "7. Update `ending_balance` to 47000.00.\n",
    "\n",
    "8. Call `calculate_compound_growth_rate()` and capture results as `year_two_growth`.\n",
    "\n",
    "9. Update `beginning_balance` to 47000.00.\n",
    "\n",
    "10. Update `ending_balance` to 48930.00.\n",
    "\n",
    "11. Call `calculate_compound_growth_rate()` and capture results as `year_three_growth`.\n",
    "\n",
    "12. Use the Python `round()` function to round `year_one_growth`, `year_two_growth`, and `year_three_growth`. Capture these new values as new variables.\n",
    "\n",
    "13. Use string formatting to print `year_one_growth`, `year_two_growth`, and `year_three_growth` as percents.\n",
    "\n",
    "14. Quickly review the values printed on the screen, and identify the year with the highest rate of return.\n",
    "\n",
    "## Challenge\n",
    "\n",
    "Instead of saving the `year_one_growth`, `year_two_growth`, and `year_three_growth` values in variables, add `growth_rate` to a global list named `growth_rates`.\n",
    "\n",
    "Then, write this logic in a new function `calculate_compound_growth_rate_list`.\n",
    "\n",
    "## Hints\n",
    "\n",
    "* Instead of returning the local `growth_rate` variable, store it in the `growth_rates` global list object.\n",
    "\n",
    "* Refer to the [W3Schools documentation](https://www.w3schools.com/python/ref_func_round.asp) for the Python round function.\n",
    "\n",
    "---\n",
    "\n",
    "© 2019 Trilogy Education Services\n",
    "\n"
   ]
  },
  {
   "cell_type": "code",
   "execution_count": null,
   "metadata": {},
   "outputs": [],
   "source": [
    "# Declare a variable beginning_balance as a float\n",
    "beginning_balance = 29000.00\n",
    "\n",
    "# Declare a variable ending_balance as float\n",
    "beginning_balance = 45000.10\n",
    "\n",
    "# Declare a variable years as an float\n",
    "years = 1.0\n",
    "\n",
    "# Define a function called calculate_compound_growth_rate with three arguments: beginning_balance, ending_balance, years. Function should output growth_rate.\n",
    "\n",
    "\n",
    "# Call calculate_compound_growth_rate using beginning_balance, ending_balance, and years. Capture as year_one_growth.\n",
    "\n",
    "\n",
    "\n",
    "# Update beginning_balance and ending balance for year two, and then execute calculate_compound_growth_rate\n",
    "\n",
    "\n",
    "# Call calculate_compound_growth_rate using beginning_balance, ending_balance, and years. Capture as year_two_growth.\n",
    "\n",
    "\n",
    "# Update beginning_balance and ending balance for year three, and then execute calculate_compound_growth_rate\n",
    "\n",
    "\n",
    "# Call calculate_compound_growth_rate using beginning_balance, ending_balance, and years. Capture as year_three_growth.\n",
    "\n",
    "# Use Python round() function to round year_one_growth, year_two_growth, and year_three_growth. Capture these as new variables.\n",
    "\n",
    "# Print year_one_growth, year_two_growth, year_three_growth as percents using string formatting\n",
    "\n",
    "\n",
    "# Challenge\n",
    "\n",
    "# Create a global, empty list\n",
    "\n",
    "\n",
    "# Define a function called\n",
    "\n",
    "\n",
    "    # Populate growth_rates list using add() function\n",
    "\n",
    "\n",
    "# Call calculate_compound_growth_rate_list and populate growth_rates with 2016 values (beginning_balance and ending_balance)\n",
    "beginning_balance = 29000.00\n",
    "ending_balance = 45000.10\n",
    "\n",
    "\n",
    "# Call calculate_compound_growth_rate_list and populate growth_rates with 2017 values (beginning_balance and ending_balance)\n",
    "beginning_balance = 45000.00\n",
    "ending_balance = 47000.00\n",
    "\n",
    "\n",
    "# Call calculate_compound_growth_rate_list and populate growth_rates with 2018 values (beginning_balance and ending_balance)\n",
    "beginning_balance = 47000.00\n",
    "ending_balance = 48930.00\n",
    "\n",
    "\n",
    "# Print growth_rates list\n",
    "print(\"Growth rates: \", growth_rates)"
   ]
  },
  {
   "cell_type": "code",
   "execution_count": null,
   "metadata": {},
   "outputs": [],
   "source": []
  }
 ],
 "metadata": {
  "kernelspec": {
   "display_name": "Python 3",
   "language": "python",
   "name": "python3"
  },
  "language_info": {
   "codemirror_mode": {
    "name": "ipython",
    "version": 3
   },
   "file_extension": ".py",
   "mimetype": "text/x-python",
   "name": "python",
   "nbconvert_exporter": "python",
   "pygments_lexer": "ipython3",
   "version": "3.8.5"
  }
 },
 "nbformat": 4,
 "nbformat_minor": 4
}
