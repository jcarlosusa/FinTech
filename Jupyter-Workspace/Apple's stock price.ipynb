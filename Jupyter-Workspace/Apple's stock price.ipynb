{
 "cells": [
  {
   "cell_type": "code",
   "execution_count": 24,
   "metadata": {},
   "outputs": [
    {
     "name": "stdout",
     "output_type": "stream",
     "text": [
      "Increase\n",
      "55.44999999999999\n"
     ]
    }
   ],
   "source": [
    "original_price = 198.87\n",
    "current_price = 254.32\n",
    "increase = current_price - original_price\n",
    "print('Increase')\n",
    "print(increase)"
   ]
  },
  {
   "cell_type": "code",
   "execution_count": 29,
   "metadata": {},
   "outputs": [
    {
     "name": "stdout",
     "output_type": "stream",
     "text": [
      "Percent Increase\n",
      "27.882536330265996\n",
      "Percent Increase is 27.882536330265996\n"
     ]
    }
   ],
   "source": [
    "percent_increase = increase/original_price * 100\n",
    "print('Percent Increase')\n",
    "print(percent_increase)\n",
    "print(f\"Percent Increase is {percent_increase}\")"
   ]
  },
  {
   "cell_type": "code",
   "execution_count": 27,
   "metadata": {},
   "outputs": [
    {
     "name": "stdout",
     "output_type": "stream",
     "text": [
      "55.44999999999999\n",
      "Original_price,current_price,percent_increase\n",
      "198.87 254.32 27.882536330265996\n"
     ]
    }
   ],
   "source": [
    "print(increase)\n",
    "print(\"Original_price,current_price,percent_increase\")\n",
    "print(original_price,current_price,percent_increase)"
   ]
  },
  {
   "cell_type": "code",
   "execution_count": null,
   "metadata": {},
   "outputs": [],
   "source": []
  }
 ],
 "metadata": {
  "kernelspec": {
   "display_name": "Python 3",
   "language": "python",
   "name": "python3"
  },
  "language_info": {
   "codemirror_mode": {
    "name": "ipython",
    "version": 3
   },
   "file_extension": ".py",
   "mimetype": "text/x-python",
   "name": "python",
   "nbconvert_exporter": "python",
   "pygments_lexer": "ipython3",
   "version": "3.8.5"
  }
 },
 "nbformat": 4,
 "nbformat_minor": 4
}
