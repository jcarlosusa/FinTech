{
 "cells": [
  {
   "cell_type": "markdown",
   "metadata": {},
   "source": [
    "# House of Requests"
   ]
  },
  {
   "cell_type": "markdown",
   "metadata": {},
   "source": [
    "Use the `Deck of Cards` API to play a game of BlackJack with a partner. Parameterize the `Deck of Cards` API `request urls` in order to create the deck of cards, as well as draw cards for the game."
   ]
  },
  {
   "cell_type": "code",
   "execution_count": 9,
   "metadata": {},
   "outputs": [],
   "source": [
    "import requests\n",
    "import json"
   ]
  },
  {
   "cell_type": "markdown",
   "metadata": {},
   "source": [
    "## Prep for the Game"
   ]
  },
  {
   "cell_type": "code",
   "execution_count": 10,
   "metadata": {},
   "outputs": [
    {
     "name": "stdout",
     "output_type": "stream",
     "text": [
      "{\n",
      "    \"success\": true,\n",
      "    \"deck_id\": \"5ut3o54fy6xu\",\n",
      "    \"remaining\": 312,\n",
      "    \"shuffled\": true\n",
      "}\n"
     ]
    }
   ],
   "source": [
    "# Declare request url to create deck id\n",
    "create_deck_url = \"https://deckofcardsapi.com/api/deck/new/shuffle/?deck_count=6\"\n",
    "\n",
    "# Execute create deck url\n",
    "response_data = requests.get(create_deck_url).json()\n",
    "print(json.dumps(response_data, indent=4))\n"
   ]
  },
  {
   "cell_type": "markdown",
   "metadata": {},
   "source": [
    "### Parse JSON and extract `deck_id`"
   ]
  },
  {
   "cell_type": "code",
   "execution_count": 13,
   "metadata": {},
   "outputs": [
    {
     "name": "stdout",
     "output_type": "stream",
     "text": [
      "5ut3o54fy6xu\n"
     ]
    }
   ],
   "source": [
    "# Select deck_id\n",
    "\n",
    "deck_id = response_data['deck_id']\n",
    "print(deck_id)"
   ]
  },
  {
   "cell_type": "markdown",
   "metadata": {},
   "source": [
    "### Declare request urls to draw cards and shuffle deck"
   ]
  },
  {
   "cell_type": "code",
   "execution_count": 14,
   "metadata": {},
   "outputs": [
    {
     "name": "stdout",
     "output_type": "stream",
     "text": [
      "https://deckofcardsapi.com/api/deck/5ut3o54fy6xu/draw/?count=2\n",
      "https://deckofcardsapi.com/api/deck/5ut3o54fy6xu/shuffle/\n"
     ]
    }
   ],
   "source": [
    "# Declare draw_cards_url and shuffle_deck_url\n",
    "\n",
    "# Use string interpolation to incorporate the deck_id\n",
    "\n",
    "draw_cards_url = f\"https://deckofcardsapi.com/api/deck/{deck_id}/draw/?count=2\"\n",
    "\n",
    "shuffle_deck_url = f\"https://deckofcardsapi.com/api/deck/{deck_id}/shuffle/\"\n",
    "\n",
    "print(draw_cards_url)\n",
    "print(shuffle_deck_url)"
   ]
  },
  {
   "cell_type": "markdown",
   "metadata": {},
   "source": [
    "## Player 1 Turn"
   ]
  },
  {
   "cell_type": "markdown",
   "metadata": {},
   "source": [
    "### Draw two cards"
   ]
  },
  {
   "cell_type": "code",
   "execution_count": 31,
   "metadata": {},
   "outputs": [],
   "source": [
    "# Draw two cards\n",
    "def draw_card(num_cards): \n",
    "\n",
    "    for card in range(0,num_cards):\n",
    "        draw_card_1 = requests.get(draw_cards_url).json()\n",
    "        print(draw_card_1['cards'][0]['suit'])\n",
    "        print(draw_card_1['cards'][0]['value'])\n"
   ]
  },
  {
   "cell_type": "code",
   "execution_count": 32,
   "metadata": {},
   "outputs": [
    {
     "name": "stdout",
     "output_type": "stream",
     "text": [
      "DIAMONDS\n",
      "QUEEN\n",
      "DIAMONDS\n",
      "7\n"
     ]
    }
   ],
   "source": [
    "draw_card(2)"
   ]
  },
  {
   "cell_type": "code",
   "execution_count": 23,
   "metadata": {},
   "outputs": [
    {
     "name": "stdout",
     "output_type": "stream",
     "text": [
      "{'success': True, 'deck_id': '5ut3o54fy6xu', 'cards': [{'code': 'JC', 'image': 'https://deckofcardsapi.com/static/img/JC.png', 'images': {'svg': 'https://deckofcardsapi.com/static/img/JC.svg', 'png': 'https://deckofcardsapi.com/static/img/JC.png'}, 'value': 'JACK', 'suit': 'CLUBS'}, {'code': 'QS', 'image': 'https://deckofcardsapi.com/static/img/QS.png', 'images': {'svg': 'https://deckofcardsapi.com/static/img/QS.svg', 'png': 'https://deckofcardsapi.com/static/img/QS.png'}, 'value': 'QUEEN', 'suit': 'SPADES'}], 'remaining': 306}\n",
      "{'success': True, 'deck_id': '5ut3o54fy6xu', 'cards': [{'code': 'QD', 'image': 'https://deckofcardsapi.com/static/img/QD.png', 'images': {'svg': 'https://deckofcardsapi.com/static/img/QD.svg', 'png': 'https://deckofcardsapi.com/static/img/QD.png'}, 'value': 'QUEEN', 'suit': 'DIAMONDS'}, {'code': '4D', 'image': 'https://deckofcardsapi.com/static/img/4D.png', 'images': {'svg': 'https://deckofcardsapi.com/static/img/4D.svg', 'png': 'https://deckofcardsapi.com/static/img/4D.png'}, 'value': '4', 'suit': 'DIAMONDS'}], 'remaining': 304}\n"
     ]
    }
   ],
   "source": [
    "draw_card(3)"
   ]
  },
  {
   "cell_type": "markdown",
   "metadata": {},
   "source": [
    "### Parse and extract `value` and `suit` elements from JSON output, for each card"
   ]
  },
  {
   "cell_type": "code",
   "execution_count": null,
   "metadata": {},
   "outputs": [],
   "source": [
    "# Select returned card's value and suit (i.e. 3 of clubs)\n",
    "\n",
    "\n",
    "# Print player cards\n",
    "print(player_1_card_1)\n",
    "print(player_1_card_2)"
   ]
  },
  {
   "cell_type": "markdown",
   "metadata": {},
   "source": [
    "### Decide whether to draw another card or skip to next player turn"
   ]
  },
  {
   "cell_type": "code",
   "execution_count": null,
   "metadata": {},
   "outputs": [],
   "source": [
    "# Draw a third card\n",
    "\n",
    "\n",
    "# Select returned card's value and suit (i.e. 3 of clubs)\n",
    "\n",
    "\n",
    "# Print player card\n",
    "print(player_1_card_3)"
   ]
  },
  {
   "cell_type": "markdown",
   "metadata": {},
   "source": [
    "### Manually calculate player 1 points and enter below"
   ]
  },
  {
   "cell_type": "markdown",
   "metadata": {},
   "source": [
    "Player 1 points = "
   ]
  },
  {
   "cell_type": "raw",
   "metadata": {},
   "source": []
  },
  {
   "cell_type": "markdown",
   "metadata": {},
   "source": [
    "## Player 2 / Dealer Turn"
   ]
  },
  {
   "cell_type": "code",
   "execution_count": null,
   "metadata": {},
   "outputs": [],
   "source": [
    "# Draw two cards for player 1\n",
    "\n",
    "\n",
    "# Select card value and suit \n",
    "\n",
    "\n",
    "# Print player cards\n",
    "print(player_2_card_1)\n",
    "print(player_2_card_2)\n",
    "\n",
    "# Draw third card for player 2\n",
    "\n",
    "\n",
    "# Print player card\n",
    "print(player_2_card_3)"
   ]
  },
  {
   "cell_type": "markdown",
   "metadata": {},
   "source": [
    "### Manually calculate player 2 points and enter below"
   ]
  },
  {
   "cell_type": "markdown",
   "metadata": {},
   "source": [
    "Player 2 points ="
   ]
  },
  {
   "cell_type": "raw",
   "metadata": {},
   "source": []
  }
 ],
 "metadata": {
  "kernelspec": {
   "display_name": "Python 3",
   "language": "python",
   "name": "python3"
  },
  "language_info": {
   "codemirror_mode": {
    "name": "ipython",
    "version": 3
   },
   "file_extension": ".py",
   "mimetype": "text/x-python",
   "name": "python",
   "nbconvert_exporter": "python",
   "pygments_lexer": "ipython3",
   "version": "3.8.5"
  }
 },
 "nbformat": 4,
 "nbformat_minor": 4
}
