{
 "cells": [
  {
   "cell_type": "code",
   "execution_count": 3,
   "metadata": {},
   "outputs": [],
   "source": [
    "def say_hello():\n",
    "    print(\"Hello World\")"
   ]
  },
  {
   "cell_type": "code",
   "execution_count": 4,
   "metadata": {},
   "outputs": [
    {
     "name": "stdout",
     "output_type": "stream",
     "text": [
      "Hello World\n"
     ]
    }
   ],
   "source": [
    "say_hello()"
   ]
  },
  {
   "cell_type": "code",
   "execution_count": 11,
   "metadata": {},
   "outputs": [],
   "source": [
    "name = \"Juan Carlos\""
   ]
  },
  {
   "cell_type": "code",
   "execution_count": 15,
   "metadata": {},
   "outputs": [],
   "source": [
    "def say_hello(name):\n",
    "    print(f\"Hola Se~nor {name}\")"
   ]
  },
  {
   "cell_type": "code",
   "execution_count": 16,
   "metadata": {},
   "outputs": [
    {
     "name": "stdout",
     "output_type": "stream",
     "text": [
      "Hola Se~nor Juan Carlos\n"
     ]
    }
   ],
   "source": [
    "say_hello(name)"
   ]
  },
  {
   "cell_type": "code",
   "execution_count": 12,
   "metadata": {},
   "outputs": [
    {
     "name": "stdout",
     "output_type": "stream",
     "text": [
      "Juan Carlos\n"
     ]
    }
   ],
   "source": [
    "say_hello(name)"
   ]
  },
  {
   "cell_type": "code",
   "execution_count": 17,
   "metadata": {},
   "outputs": [
    {
     "name": "stdout",
     "output_type": "stream",
     "text": [
      "2\n"
     ]
    }
   ],
   "source": [
    "remainder = 11 % 3\n",
    "print(remainder)"
   ]
  },
  {
   "cell_type": "code",
   "execution_count": 18,
   "metadata": {},
   "outputs": [
    {
     "name": "stdout",
     "output_type": "stream",
     "text": [
      "49\n",
      "8\n"
     ]
    }
   ],
   "source": [
    "squared = 7 ** 2\n",
    "cubed = 2 ** 3\n",
    "print(squared)\n",
    "print(cubed)"
   ]
  },
  {
   "cell_type": "code",
   "execution_count": 29,
   "metadata": {},
   "outputs": [
    {
     "name": "stdout",
     "output_type": "stream",
     "text": [
      "hello world\n"
     ]
    },
    {
     "data": {
      "text/plain": [
       "11"
      ]
     },
     "execution_count": 29,
     "metadata": {},
     "output_type": "execute_result"
    }
   ],
   "source": [
    "helloworld = \"hello\" + \" \" + \"world\"\n",
    "print(helloworld)\n",
    "len(helloworld)"
   ]
  },
  {
   "cell_type": "code",
   "execution_count": 30,
   "metadata": {},
   "outputs": [
    {
     "name": "stdout",
     "output_type": "stream",
     "text": [
      "[1, 3, 5, 7, 2, 4, 6, 8]\n"
     ]
    },
    {
     "data": {
      "text/plain": [
       "4"
      ]
     },
     "execution_count": 30,
     "metadata": {},
     "output_type": "execute_result"
    }
   ],
   "source": [
    "even_numbers = [2,4,6,8]\n",
    "odd_numbers = [1,3,5,7]\n",
    "all_numbers = odd_numbers + even_numbers\n",
    "print(all_numbers)\n",
    "len(even_numbers)"
   ]
  },
  {
   "cell_type": "code",
   "execution_count": 21,
   "metadata": {},
   "outputs": [
    {
     "name": "stdout",
     "output_type": "stream",
     "text": [
      "[1, 2, 3, 1, 2, 3, 1, 2, 3]\n"
     ]
    }
   ],
   "source": [
    "print([1,2,3] * 3)"
   ]
  },
  {
   "cell_type": "code",
   "execution_count": 22,
   "metadata": {},
   "outputs": [
    {
     "name": "stdout",
     "output_type": "stream",
     "text": [
      "True\n",
      "False\n",
      "True\n"
     ]
    }
   ],
   "source": [
    "x = 2\n",
    "print(x == 2) # prints out True\n",
    "print(x == 3) # prints out False\n",
    "print(x < 3) # prints out True"
   ]
  },
  {
   "cell_type": "code",
   "execution_count": 23,
   "metadata": {},
   "outputs": [
    {
     "name": "stdout",
     "output_type": "stream",
     "text": [
      "True\n",
      "False\n"
     ]
    }
   ],
   "source": [
    "x = [1,2,3]\n",
    "y = [1,2,3]\n",
    "print(x == y) # Prints out True\n",
    "print(x is y) # Prints out False"
   ]
  },
  {
   "cell_type": "code",
   "execution_count": 28,
   "metadata": {},
   "outputs": [
    {
     "name": "stdout",
     "output_type": "stream",
     "text": [
      "1\n"
     ]
    }
   ],
   "source": [
    "# change this code\n",
    "number = 16\n",
    "second_number = 10\n",
    "first_array = []\n",
    "second_array = [2]\n",
    "\n",
    "if number > 15:\n",
    "    print(\"1\")\n",
    "\n",
    "if first_array:\n",
    "    print(\"2\")\n",
    "\n",
    "if len(second_array) == 2:\n",
    "    print(\"3\")\n",
    "\n",
    "if len(first_array) + len(second_array) == 5:\n",
    "    print(\"4\")\n",
    "\n",
    "if first_array and first_array[0] == 1:\n",
    "    print(\"5\")\n",
    "\n",
    "if not second_number:\n",
    "    print(\"6\")"
   ]
  },
  {
   "cell_type": "code",
   "execution_count": 31,
   "metadata": {},
   "outputs": [
    {
     "name": "stdout",
     "output_type": "stream",
     "text": [
      "20\n",
      "21\n",
      "22\n",
      "23\n",
      "24\n",
      "25\n",
      "26\n",
      "27\n",
      "28\n",
      "29\n"
     ]
    }
   ],
   "source": [
    "for x in range(20, 30):\n",
    "    print(x)\n"
   ]
  },
  {
   "cell_type": "code",
   "execution_count": 33,
   "metadata": {},
   "outputs": [
    {
     "name": "stdout",
     "output_type": "stream",
     "text": [
      "Give me a P!\n",
      "P!\n",
      "Give me a y!\n",
      "y!\n",
      "Give me a t!\n",
      "t!\n",
      "Give me a h!\n",
      "h!\n",
      "Give me a o!\n",
      "o!\n",
      "Give me a n!\n",
      "n!\n",
      "\n",
      "What does that spell?!\n",
      "Python!\n",
      "Woohoo! Go Python!\n",
      "*\\O/**\\O/**\\O/*\n",
      "ヘ( ^o^)ノ＼(^_^ )\n",
      "Simple interest for this purchase would be: 1600.0.\n",
      "Simple interest for this purchase would be: 1600.0.\n",
      "I highly recommend you get this line of credit. Total simple interest paid is less than $2,000.\n"
     ]
    }
   ],
   "source": [
    "\"\"\"\n",
    "  Pseudocode for a cheer-leading program:\n",
    "\n",
    "  1. Initialize \"cheer\" variable to a string to be cheered\n",
    "  2. Create a for loop and iterate through each character in \"cheer\" variable\n",
    "      2.1 Print each letter to screen with a cheer\n",
    "  3. Print exclamations to screen (\"Woohoo!!!\")\n",
    "\"\"\"\n",
    "\n",
    "# Create a variable named cheer\n",
    "cheer = \"Python\"\n",
    "\n",
    "# Below strings can be used to add fun\n",
    "cheer_symbol = \"*\\O/*\"\n",
    "cheer_symbol_2 = \"ヘ( ^o^)ノ＼(^_^ )\"\n",
    "\n",
    "# Loop through string\n",
    "for x in cheer:\n",
    "    #Print each letter with a cheer\n",
    "    print(\"Give me a \" + x + \"!\")\n",
    "    print(x + \"!\")\n",
    "\n",
    "# Print excitement to screen\n",
    "print(\"\\nWhat does that spell?!\")\n",
    "print(cheer + \"!\\nWoohoo! Go \" + cheer + \"!\")\n",
    "print(cheer_symbol * 3)\n",
    "print(cheer_symbol_2)\n",
    "\n",
    "\"\"\"\n",
    "Pseudocode for calculating simple interest:\n",
    "\n",
    "  1. Initialize \"principal\", \"interest_rate\", and \"time_period\" variables to a float\n",
    "  2. Compute \"simple_interest\" by multiplying principal, interest_rate, and time_period\n",
    "  3. Print(simple_interest)\n",
    "\"\"\"\n",
    "\n",
    "# Declare floats for principal, interest_rate, and time_period\n",
    "principal = 20000.00\n",
    "interest_rate = 0.02\n",
    "time_period = 4.0\n",
    "\n",
    "# Compute simple interest\n",
    "simple_interest = principal * interest_rate * time_period\n",
    "\n",
    "# Print Results\n",
    "print(f\"Simple interest for this purchase would be: {simple_interest}.\")\n",
    "\n",
    "\"\"\"\n",
    "Pseudocode for determining if credit should be acquired based off of simple interest:\n",
    "\n",
    "1. Initialize \"principal\" and \"interest_rate\" variables to a float\n",
    "2. Initialize \"time_period\" variable to an integer\n",
    "3. Compute \"simple_interest\" by multiplying \"principal\", \"interest_rate\", and \"time_period\"\n",
    "4. Determine if credit should be accepted\n",
    "    IF \"simple_interest\" is less than or equal to 2000\n",
    "        THEN print(\"We highly recommend you get this line of credit. Total simple interest paid is less than $2,000\")\n",
    "    ELSE If \"simple_interest\" is greater than 2000 but less than or equal to 4000\n",
    "        THEN print(\"This is an okay deal. You might find better. Total simple interest paid will between $2,000 and $4,000\")\n",
    "    ELSE print(\"Total simple interest paid will be over $4,000. Do not accept this line of credit\")\n",
    "\"\"\"\n",
    "\n",
    "# Declare floats for principal, interest_rate, and time_period\n",
    "principal = 20000.00\n",
    "interest_rate = 0.02\n",
    "time_period = 4.0\n",
    "\n",
    "# Compute simple interest\n",
    "simple_interest = principal * interest_rate * time_period\n",
    "\n",
    "# Print Results\n",
    "print(f\"Simple interest for this purchase would be: {simple_interest}.\")\n",
    "\n",
    "# Determine if credit should be accepted\n",
    "if simple_interest <= 2000.0:\n",
    "    print(\"I highly recommend you get this line of credit. Total simple interest paid is less than $2,000.\")\n",
    "elif simple_interest > 2000.0 <= 4000.0:\n",
    "    print(\"This is an okay deal. You might find better. Total simple interest paid will between $2,000 and $4,000.\")\n",
    "else:\n",
    "    print(\"Total simple interest paid will be over $4,000. Do not accept this line of credit.\")\n",
    "\n"
   ]
  },
  {
   "cell_type": "code",
   "execution_count": null,
   "metadata": {},
   "outputs": [],
   "source": []
  }
 ],
 "metadata": {
  "kernelspec": {
   "display_name": "Python 3",
   "language": "python",
   "name": "python3"
  },
  "language_info": {
   "codemirror_mode": {
    "name": "ipython",
    "version": 3
   },
   "file_extension": ".py",
   "mimetype": "text/x-python",
   "name": "python",
   "nbconvert_exporter": "python",
   "pygments_lexer": "ipython3",
   "version": "3.8.5"
  }
 },
 "nbformat": 4,
 "nbformat_minor": 4
}
