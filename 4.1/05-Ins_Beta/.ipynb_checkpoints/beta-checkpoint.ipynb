{
 "cells": [
  {
   "cell_type": "markdown",
   "metadata": {},
   "source": [
    "### Instructor Demo: Beta\n",
    "\n",
    "This program reads in the daily closing prices of Amazon and the S&P 500 as CSVs and calculates the beta value of Amazon to represent the volatility of Amazon returns relative to the volatility of S&P 500 returns."
   ]
  },
  {
   "cell_type": "code",
   "execution_count": null,
   "metadata": {},
   "outputs": [],
   "source": [
    "# Import libraries and dependencies\n",
    "import numpy as np\n",
    "import pandas as pd\n",
    "\n",
    "%matplotlib inline"
   ]
  },
  {
   "cell_type": "markdown",
   "metadata": {},
   "source": [
    "### Read CSVs in as DataFrames"
   ]
  },
  {
   "cell_type": "code",
   "execution_count": null,
   "metadata": {},
   "outputs": [],
   "source": [
    "# Read the daily closing prices of AMZN, set the `date` as a datetime index\n",
    "\n",
    "amzn_df = pd.read_csv('amzn_data.csv', index_col=\"date\", parse_dates=True, infer_datetime_format=True)\n",
    "\n",
    "# Read the daily closing prices of S&P 500, set the `date` as a datetime index\n",
    "\n",
    "sp500_df = pd.read_csv('sp500_data.csv', index_col=\"date\", parse_dates=True, infer_datetime_format=True)\n",
    "sp500_df.head()"
   ]
  },
  {
   "cell_type": "markdown",
   "metadata": {},
   "source": [
    "### Combine DataFrames, Sort Index, and Rename Columns"
   ]
  },
  {
   "cell_type": "code",
   "execution_count": null,
   "metadata": {},
   "outputs": [],
   "source": [
    "# Create a new pivot table where the columns are the closing prices for each ticker\n",
    "combined_df = pd.concat([amzn_df, sp500_df], axis=\"columns\", join=\"inner\")\n",
    "\n",
    "# Sort datetime index in ascending order (past to present)\n",
    "combined_df.sort_index(inplace=True)\n",
    "\n",
    "# Set column names to 'AMZN' and 'S&P 500'\n",
    "combined_df.columns = [\"AMZN\", \"S&P 500\"]\n",
    "\n",
    "# Display a few rows\n",
    "combined_df.head()"
   ]
  },
  {
   "cell_type": "markdown",
   "metadata": {},
   "source": [
    "### Calculate Daily Returns"
   ]
  },
  {
   "cell_type": "code",
   "execution_count": null,
   "metadata": {},
   "outputs": [],
   "source": [
    "# Use the `pct_change` function to calculate daily returns of closing prices for each column\n",
    "daily_returns = combined_df.pct_change()\n",
    "daily_returns.head()"
   ]
  },
  {
   "cell_type": "markdown",
   "metadata": {},
   "source": [
    "### Calculate Covariance of AMZN returns vs. S&P 500 returns\n",
    "\n",
    "Beta formula = Covariance(expect return on an asset I, average expected rate of return on the market)/ variance (average expected rate of return on the market)\n"
   ]
  },
  {
   "cell_type": "code",
   "execution_count": null,
   "metadata": {},
   "outputs": [],
   "source": [
    "# Calculate covariance of all daily returns of AMZN vs. S&P 500\n",
    "covariance = daily_returns['AMZN'].cov(daily_returns['S&P 500'])\n",
    "covariance"
   ]
  },
  {
   "cell_type": "markdown",
   "metadata": {},
   "source": [
    "### Calculate Variance of S&P 500 returns"
   ]
  },
  {
   "cell_type": "code",
   "execution_count": null,
   "metadata": {},
   "outputs": [],
   "source": [
    "# Calculate variance of all daily returns of AMZN vs. S&P 500\n",
    "variance = daily_returns['S&P 500'].var()\n",
    "variance"
   ]
  },
  {
   "cell_type": "markdown",
   "metadata": {},
   "source": [
    "### Calculate Beta of AMZN"
   ]
  },
  {
   "cell_type": "code",
   "execution_count": null,
   "metadata": {},
   "outputs": [],
   "source": [
    "# Calculate beta of all daily returns of AMZN\n",
    "amzn_beta = covariance / variance\n",
    "amzn_beta"
   ]
  },
  {
   "cell_type": "markdown",
   "metadata": {},
   "source": [
    "### Calculate 30-Day Rolling Covariance of AMZN Returns vs. S&P 500 Returns"
   ]
  },
  {
   "cell_type": "code",
   "execution_count": null,
   "metadata": {},
   "outputs": [],
   "source": [
    "# Calculate 30-day rolling covariance of AMZN vs. S&P 500 and plot the data\n",
    "rolling_covariance = daily_returns['AMZN'].rolling(window=30).cov(daily_returns['S&P 500'])\n",
    "rolling_covariance.plot(figsize=(20, 10), title='Rolling 30-Day Covariance of AMZN Returns vs. S&P 500 Returns')"
   ]
  },
  {
   "cell_type": "markdown",
   "metadata": {},
   "source": [
    "### Calculate 30-Day Rolling Variance of S&P 500 Returns"
   ]
  },
  {
   "cell_type": "code",
   "execution_count": null,
   "metadata": {},
   "outputs": [],
   "source": [
    "# Calculate 30-day rolling variance of AMZN vs. S&P 500 and plot the data\n",
    "rolling_variance = daily_returns['S&P 500'].rolling(window=30).var()\n",
    "rolling_variance.plot(figsize=(20, 10), title='Rolling 30-Day Variance of S&P 500 Returns')"
   ]
  },
  {
   "cell_type": "markdown",
   "metadata": {},
   "source": [
    "### Calculate 30-Day Rolling Beta of AMZN"
   ]
  },
  {
   "cell_type": "code",
   "execution_count": null,
   "metadata": {},
   "outputs": [],
   "source": [
    "# Calculate 30-day rolling beta of AMZN and plot the data\n",
    "rolling_beta = rolling_covariance / rolling_variance\n",
    "rolling_beta.plot(figsize=(20, 10), title='Rolling 30-Day Beta of AMZN')"
   ]
  },
  {
   "cell_type": "markdown",
   "metadata": {},
   "source": [
    "### Beta vs. Correlation"
   ]
  },
  {
   "cell_type": "code",
   "execution_count": null,
   "metadata": {},
   "outputs": [],
   "source": [
    "# Showcase beta vs. correlation by plotting a scatterplot using the Seaborn library and fitting a regression line\n",
    "import seaborn as sns\n",
    "sns.lmplot(x='S&P 500', y='AMZN', data=daily_returns, aspect=1.5, fit_reg=True)"
   ]
  },
  {
   "cell_type": "code",
   "execution_count": null,
   "metadata": {},
   "outputs": [],
   "source": [
    "amzn_beta"
   ]
  },
  {
   "cell_type": "code",
   "execution_count": null,
   "metadata": {},
   "outputs": [],
   "source": [
    "daily_returns.corr(method=\"pearson\")"
   ]
  },
  {
   "cell_type": "markdown",
   "metadata": {},
   "source": [
    "Note that the Beta value and the correlation do **not** match! Beta is a measure of volatity relative to the market. We would conclude that this stock is approximately 33% more volatile than the market (Beta of 1.329). The Pearson Correlation (which is R, not R-squared) is an indication of the extent of the linear relationship between AMZN and the S&P500. "
   ]
  },
  {
   "cell_type": "code",
   "execution_count": null,
   "metadata": {},
   "outputs": [],
   "source": []
  }
 ],
 "metadata": {
  "kernelspec": {
   "display_name": "Python 3",
   "language": "python",
   "name": "python3"
  },
  "language_info": {
   "codemirror_mode": {
    "name": "ipython",
    "version": 3
   },
   "file_extension": ".py",
   "mimetype": "text/x-python",
   "name": "python",
   "nbconvert_exporter": "python",
   "pygments_lexer": "ipython3",
   "version": "3.7.6"
  }
 },
 "nbformat": 4,
 "nbformat_minor": 4
}
