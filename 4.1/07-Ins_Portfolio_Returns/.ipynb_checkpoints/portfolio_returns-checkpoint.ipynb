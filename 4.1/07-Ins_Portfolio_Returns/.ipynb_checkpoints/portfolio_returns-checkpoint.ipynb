{
 "cells": [
  {
   "cell_type": "markdown",
   "metadata": {},
   "source": [
    "This section focuses on calculating returns for a group of stocks, or stock portfolios. Students should understand that portfolios of stocks are used by investors to manage and diversify risk. Defining a portfolio with varying capital allocations of stocks allows an investor to control and adjust their risk."
   ]
  },
  {
   "cell_type": "code",
   "execution_count": null,
   "metadata": {},
   "outputs": [],
   "source": [
    "import numpy as np\n",
    "import pandas as pd\n",
    "\n",
    "%matplotlib inline"
   ]
  },
  {
   "cell_type": "markdown",
   "metadata": {},
   "source": [
    " # Data Preparation"
   ]
  },
  {
   "cell_type": "code",
   "execution_count": null,
   "metadata": {},
   "outputs": [],
   "source": [
    "# Read the AMD Historical Closing Prices\n",
    "\n",
    "amd = pd.read_csv(\n",
    "    'amd_historical.csv', index_col=\"Trade DATE\", infer_datetime_format=True, parse_dates=True\n",
    ")\n",
    "amd.sort_index(inplace=True)\n",
    "amd.head()"
   ]
  },
  {
   "cell_type": "code",
   "execution_count": null,
   "metadata": {},
   "outputs": [],
   "source": [
    "# Read the MU Historical Closing Prices\n",
    "\n",
    "mu = pd.read_csv(\n",
    "    \"mu_historical.csv\", index_col=\"Trade DATE\", infer_datetime_format=True, parse_dates=True\n",
    ")\n",
    "mu.sort_index(inplace=True)\n",
    "mu.head()"
   ]
  },
  {
   "cell_type": "markdown",
   "metadata": {},
   "source": [
    "To calculate portfolio returns, each stock's closing prices are added as a column to the final portfolio DataFrame.\n",
    "\n"
   ]
  },
  {
   "cell_type": "code",
   "execution_count": null,
   "metadata": {},
   "outputs": [],
   "source": [
    "\n",
    "all_prices = pd.concat([amd, mu], axis=\"rows\", join=\"inner\")\n",
    "all_prices = all_prices.reset_index()\n",
    "all_prices.head()"
   ]
  },
  {
   "cell_type": "code",
   "execution_count": null,
   "metadata": {},
   "outputs": [],
   "source": [
    "# Create a new pivot table where the columns are the closing prices for each ticker\n",
    "all_prices = all_prices.pivot_table(values=\"NOCP\", index=\"Trade DATE\", columns=\"Symbol\")\n",
    "all_prices.head()"
   ]
  },
  {
   "cell_type": "markdown",
   "metadata": {},
   "source": [
    " # Portfolio Returns"
   ]
  },
  {
   "cell_type": "markdown",
   "metadata": {},
   "source": [
    "Portfolio daily returns are first calculated individually with pct_change. The total portfolio return is calculated using the weighted average (how much of each stock contributes to the total portfolio)."
   ]
  },
  {
   "cell_type": "code",
   "execution_count": null,
   "metadata": {},
   "outputs": [],
   "source": [
    "# Calculate Daily Returns\n",
    "all_returns = all_prices.pct_change()\n",
    "all_returns.head()"
   ]
  },
  {
   "cell_type": "code",
   "execution_count": null,
   "metadata": {},
   "outputs": [],
   "source": [
    "# Calculate Portfolio Returns with an equal amount of each stock\n",
    "# Amount of each share*stock return\n",
    "\n",
    "amd_weight = 0.5\n",
    "mu_weight = 0.5\n",
    "\n",
    "portfolio_returns = amd_weight * all_returns[\"AMD\"] + mu_weight * all_returns[\"MU\"]\n",
    "portfolio_returns.head()"
   ]
  },
  {
   "cell_type": "markdown",
   "metadata": {},
   "source": [
    "The portfolio returns can also be calculated using a dot product, which is just a shortcut for the previous calculation. This can be handy for large portfolios with a lot of weights."
   ]
  },
  {
   "cell_type": "code",
   "execution_count": null,
   "metadata": {},
   "outputs": [],
   "source": [
    "# Shortcut for calculating returns\n",
    "# A dot product can be a concise way to calculate the portfolio returns. These two calculations are equivalent\n",
    "\n",
    "weights = [0.5, 0.5]\n",
    "portfolio_returns = all_returns.dot(weights)\n",
    "portfolio_returns.head()"
   ]
  },
  {
   "cell_type": "markdown",
   "metadata": {},
   "source": [
    " # Risk Management\n",
    " \n",
    "The purpose of a portfolio is to control the amount of risk and diversity in an investment. In the following example, AMD has more volatility than MU, so changing the weights of the portfolios (how much of each stock in invested in) may affect the returns."
   ]
  },
  {
   "cell_type": "code",
   "execution_count": null,
   "metadata": {},
   "outputs": [],
   "source": [
    "volatility = all_returns.std() * np.sqrt(252)\n",
    "volatility\n",
    "\n",
    "# AMD has a higher volatility then MU, \n",
    "# so a different allocation of AMD to MU can affect the total portfolio returns."
   ]
  },
  {
   "cell_type": "code",
   "execution_count": null,
   "metadata": {},
   "outputs": [],
   "source": [
    "# Higher Volalitity Portfolio (More risk, but potentially higher returns)\n",
    "initial_investment = 10000\n",
    "weights = [0.8, 0.2]\n",
    "portfolio_returns = all_returns.dot(weights)\n",
    "cumulative_returns = (1 + portfolio_returns).cumprod()\n",
    "(initial_investment * cumulative_returns).plot()"
   ]
  },
  {
   "cell_type": "code",
   "execution_count": null,
   "metadata": {},
   "outputs": [],
   "source": [
    "# Lower Volalitity Portfolio (Less risk, but potentially lower returns)\n",
    "initial_investment = 10000\n",
    "weights = [0.2, 0.8]\n",
    "portfolio_returns = all_returns.dot(weights)\n",
    "cumulative_returns = (1 + portfolio_returns).cumprod()\n",
    "(initial_investment * cumulative_returns).plot()"
   ]
  },
  {
   "cell_type": "markdown",
   "metadata": {},
   "source": [
    "For a 10K initial investment, the protfolio with the higher AMD allocation outperforms the mu"
   ]
  },
  {
   "cell_type": "code",
   "execution_count": null,
   "metadata": {},
   "outputs": [],
   "source": []
  }
 ],
 "metadata": {
  "file_extension": ".py",
  "kernelspec": {
   "display_name": "Python 3",
   "language": "python",
   "name": "python3"
  },
  "language_info": {
   "codemirror_mode": {
    "name": "ipython",
    "version": 3
   },
   "file_extension": ".py",
   "mimetype": "text/x-python",
   "name": "python",
   "nbconvert_exporter": "python",
   "pygments_lexer": "ipython3",
   "version": "3.7.6"
  },
  "mimetype": "text/x-python",
  "name": "python",
  "npconvert_exporter": "python",
  "pygments_lexer": "ipython3",
  "version": 3
 },
 "nbformat": 4,
 "nbformat_minor": 4
}
