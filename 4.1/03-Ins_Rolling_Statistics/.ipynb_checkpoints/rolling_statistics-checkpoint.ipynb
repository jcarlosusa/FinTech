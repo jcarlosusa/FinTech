{
 "cells": [
  {
   "cell_type": "markdown",
   "metadata": {},
   "source": [
    "### Instructor Demo: Rolling Statistics\n",
    "\n",
    "This program reads in Tesla (TSLA) data as a CSV and plots the rolling 7-, 30-, 180-, and 365-day mean and standard deviation of the daily closing price over the last 10 years."
   ]
  },
  {
   "cell_type": "code",
   "execution_count": null,
   "metadata": {},
   "outputs": [],
   "source": [
    "# Import libraries and dependencies\n",
    "import pandas as pd\n",
    "\n",
    "%matplotlib inline"
   ]
  },
  {
   "cell_type": "markdown",
   "metadata": {},
   "source": [
    "### Read CSV in as DataFrame"
   ]
  },
  {
   "cell_type": "code",
   "execution_count": null,
   "metadata": {},
   "outputs": [],
   "source": [
    "# Read the TSLA data, set the `date` as the index\n",
    "\n",
    "tsla_df = pd.read_csv(\"tsla_historical.csv\", index_col=\"date\", infer_datetime_format=True, parse_dates=True)\n",
    "tsla_df.sort_index(inplace=True)\n",
    "tsla_df.head()"
   ]
  },
  {
   "cell_type": "markdown",
   "metadata": {},
   "source": [
    "### Plot Daily Closing Price of Tesla"
   ]
  },
  {
   "cell_type": "code",
   "execution_count": null,
   "metadata": {},
   "outputs": [],
   "source": [
    "# Plot the daily closing prices of Tesla\n",
    "tsla_df.plot()"
   ]
  },
  {
   "cell_type": "markdown",
   "metadata": {},
   "source": [
    "### Rolling 7-Day Mean & Standard Deviation of TSLA Closing Prices"
   ]
  },
  {
   "cell_type": "code",
   "execution_count": null,
   "metadata": {},
   "outputs": [],
   "source": [
    "tsla_df.rolling(window=7).mean().head(20)"
   ]
  },
  {
   "cell_type": "code",
   "execution_count": null,
   "metadata": {},
   "outputs": [],
   "source": [
    "# Plot a rolling 7-day mean of TSLA's closing prices\n",
    "tsla_df.rolling(window=7).mean().plot()"
   ]
  },
  {
   "cell_type": "code",
   "execution_count": null,
   "metadata": {},
   "outputs": [],
   "source": [
    "# Plot a rolling 7-day std dev of TSLA's closing prices\n",
    "tsla_df.rolling(window=7).std().plot()"
   ]
  },
  {
   "cell_type": "markdown",
   "metadata": {},
   "source": [
    "### Rolling 30-Day Mean and Standard Deviation of TSLA Closing Prices"
   ]
  },
  {
   "cell_type": "code",
   "execution_count": null,
   "metadata": {},
   "outputs": [],
   "source": [
    "# Plot a rolling 30-day mean of TSLA's closing prices\n",
    "tsla_df.rolling(window=30).mean().plot()"
   ]
  },
  {
   "cell_type": "code",
   "execution_count": null,
   "metadata": {},
   "outputs": [],
   "source": [
    "# Plot a rolling 30-day std dev of TSLA's closing prices\n",
    "tsla_df.rolling(window=30).std().plot()"
   ]
  },
  {
   "cell_type": "markdown",
   "metadata": {},
   "source": [
    "### Rolling 180-Day Mean and Standard Deviation of TSLA Closing Prices"
   ]
  },
  {
   "cell_type": "code",
   "execution_count": null,
   "metadata": {},
   "outputs": [],
   "source": [
    "# Plot a rolling 180-day mean of TSLA's closing prices\n",
    "tsla_df.rolling(window=180).mean().plot()"
   ]
  },
  {
   "cell_type": "code",
   "execution_count": null,
   "metadata": {},
   "outputs": [],
   "source": [
    "# Plot a rolling 180-day std dev of TSLA's closing prices\n",
    "tsla_df.rolling(window=180).std().plot()"
   ]
  },
  {
   "cell_type": "markdown",
   "metadata": {},
   "source": [
    "### Overlay Daily Closing Price and 180-Day Rolling Mean of TSLA"
   ]
  },
  {
   "cell_type": "code",
   "execution_count": null,
   "metadata": {},
   "outputs": [],
   "source": [
    "# Set figure of the daily closing prices of Tesla\n",
    "ax = tsla_df.plot()\n",
    "\n",
    "# Plot 180-Day Rolling Mean on the same figure\n",
    "tsla_df.rolling(window=180).mean().plot(ax=ax)\n",
    "\n",
    "# Set the legend of the figure\n",
    "ax.legend([\"TSLA\", \"TSLA 180 Day Mean\"]);"
   ]
  }
 ],
 "metadata": {
  "kernelspec": {
   "display_name": "Python 3",
   "language": "python",
   "name": "python3"
  },
  "language_info": {
   "codemirror_mode": {
    "name": "ipython",
    "version": 3
   },
   "file_extension": ".py",
   "mimetype": "text/x-python",
   "name": "python",
   "nbconvert_exporter": "python",
   "pygments_lexer": "ipython3",
   "version": "3.7.6"
  }
 },
 "nbformat": 4,
 "nbformat_minor": 2
}
